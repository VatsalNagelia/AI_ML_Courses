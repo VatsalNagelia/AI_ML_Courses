{
 "cells": [
  {
   "cell_type": "markdown",
   "metadata": {},
   "source": [
    "# K MEANS ASSIGNMENT\n",
    "<hr style=\"height:5px;border-width:2;color:gray\">"
   ]
  },
  {
   "cell_type": "markdown",
   "metadata": {},
   "source": [
    "<div class = \"alert alert-block alert-info\">\n",
    "<b><u>Note</u></b>:<br>\n",
    "Since we are nearing the end of this course, this assignment is mostly unguided. This is done so for two reasons:<br>\n",
    "    <ol>\n",
    "        <li>This is a relatively easier algorithm to implement.</li>\n",
    "        <li>This will also help you gear up for the final task we have in store for you &#x1F609;.</li>\n",
    "    </ol>\n",
    "</div>"
   ]
  },
  {
   "cell_type": "markdown",
   "metadata": {},
   "source": [
    "In this Assignment you will be implementing K Means from scratch on your own. If you have gone through the theory material, you will have implemented K Means using scikit learn. However to get a better understanding of what is actually happening behind the scenes, you will be implementing K Means from scratch.\n",
    "\n",
    "#### Dataset\n",
    "You are given a file \"data.npy\" along with this assignment notebook. Load the numpy array from that file and cluster on that data.\n",
    "\n",
    "#### Tasks\n",
    "<ul>\n",
    "    <li>\n",
    "        <b>Creating Functions</b>:<br>\n",
    "        You are expected to create the following functions.\n",
    "        <ul>\n",
    "            <li>Model function that implements K Means given K value and data. It should return the cluster centers.</li>\n",
    "            <li>Error function that calculates the SSE given cluster centers and data. It should return SSE value.</li>\n",
    "            <li>Function to plot Elbow plot given maximum number of K values and data.</li>\n",
    "        </ul>\n",
    "        Apart from these you can create as many helper funtions as you want but these three functions must be defined.\n",
    "    </li>\n",
    "    <li>\n",
    "        <b>Clustering</b>:<br>\n",
    "        Here you are expected to perform K Means clustering on the given data using the suitable K Value and then give suitable cluster centers.\n",
    "    </li>\n",
    "</ul>\n",
    "\n",
    "#### Evaluation\n",
    "In this Assignment you will be scored solely on the correctness and efficiency of your implementation.\n",
    "\n",
    "#### Important note\n",
    "<b>You are not allowed to use any library other than numpy and matplotlib (You can use seaborn instead of matplotlib if you wish to do so).</b>\n",
    "\n",
    "You can find many implementations of K Means from scratch online but please refrain from looking into those and try implementing on your own just using the theory that you know.\n",
    "\n",
    "Now that you have read all this, Code on!!"
   ]
  },
  {
   "cell_type": "code",
   "execution_count": 1,
   "metadata": {},
   "outputs": [],
   "source": [
    "import numpy as np\n",
    "import matplotlib.pyplot as plt"
   ]
  },
  {
   "cell_type": "code",
   "execution_count": 2,
   "metadata": {},
   "outputs": [],
   "source": [
    "def initCentroids(X, k):\n",
    "    m = X.shape[0]\n",
    "    \n",
    "    randidx = np.arange(start=0,stop=k)\n",
    "    \n",
    "    return X[randidx, :]"
   ]
  },
  {
   "cell_type": "code",
   "execution_count": 3,
   "metadata": {},
   "outputs": [],
   "source": [
    "def findClosestCentroids(X, centroids):\n",
    "    m = X.shape[0]\n",
    "    k = centroids.shape[0]\n",
    "    idx = np.zeros(m)\n",
    "    dist = np.zeros(k)\n",
    "    \n",
    "    for i in range(m):\n",
    "        for j in range(k):\n",
    "            dist[j] = np.sqrt(np.sum((X[i,:] - centroids[j,:]) ** 2))\n",
    "        idx[i] = np.argmin(dist)\n",
    "    \n",
    "    return idx"
   ]
  },
  {
   "cell_type": "code",
   "execution_count": 4,
   "metadata": {},
   "outputs": [],
   "source": [
    "#Error function that calculates the SSE given cluster centers and data. It should return SSE value.\n",
    "def findSSE(X,centroids):\n",
    "    SSE=0\n",
    "    m=X.shape[0]\n",
    "    k=centroids.shape[0]\n",
    "    dist=np.zeros(k)\n",
    "    for i in range(m):\n",
    "        for j in range(k):\n",
    "            dist[j]=np.sqrt(np.sum((X[i,:] - centroids[j,:]) ** 2))\n",
    "        SSE+=np.min(dist)\n",
    "    return SSE"
   ]
  },
  {
   "cell_type": "code",
   "execution_count": 5,
   "metadata": {},
   "outputs": [],
   "source": [
    "def computeCentroids(X, idx, k):\n",
    "    n = X.shape[1]\n",
    "    centroids = np.zeros((k,n))\n",
    "    \n",
    "    for i in range(k):\n",
    "        centroids[i, :] = np.mean(X[np.where(idx == i), :], axis=1)\n",
    "    \n",
    "    return centroids"
   ]
  },
  {
   "cell_type": "code",
   "execution_count": 6,
   "metadata": {},
   "outputs": [],
   "source": [
    "#Model function that implements K Means given K value and data. It should return the cluster centers.\n",
    "def runKmeans(X, centroids, max_iters):\n",
    "    k = len(centroids)\n",
    "    for i in range(max_iters):\n",
    "        idx = findClosestCentroids(X, centroids)\n",
    "        \n",
    "        centroids = computeCentroids(X, idx, k)\n",
    "    \n",
    "    return idx, centroids"
   ]
  },
  {
   "cell_type": "code",
   "execution_count": 7,
   "metadata": {},
   "outputs": [],
   "source": [
    "data=np.load('data.npy')"
   ]
  },
  {
   "cell_type": "code",
   "execution_count": 8,
   "metadata": {},
   "outputs": [
    {
     "data": {
      "text/plain": [
       "array([[6.5, 3. , 5.8, 2.2],\n",
       "       [5.8, 2.7, 5.1, 1.9],\n",
       "       [6.7, 3. , 5. , 1.7],\n",
       "       [4.5, 2.3, 1.3, 0.3],\n",
       "       [6.3, 2.7, 4.9, 1.8],\n",
       "       [4.9, 2.4, 3.3, 1. ],\n",
       "       [6.4, 3.2, 4.5, 1.5],\n",
       "       [6. , 2.9, 4.5, 1.5],\n",
       "       [6.1, 2.6, 5.6, 1.4],\n",
       "       [7.2, 3. , 5.8, 1.6],\n",
       "       [6.1, 2.8, 4. , 1.3],\n",
       "       [5.6, 2.9, 3.6, 1.3],\n",
       "       [6.3, 3.3, 4.7, 1.6],\n",
       "       [4.6, 3.4, 1.4, 0.3],\n",
       "       [6. , 2.7, 5.1, 1.6],\n",
       "       [6.7, 3. , 5.2, 2.3],\n",
       "       [6.7, 3.3, 5.7, 2.5],\n",
       "       [6.5, 2.8, 4.6, 1.5],\n",
       "       [6.4, 2.7, 5.3, 1.9],\n",
       "       [5.7, 3.8, 1.7, 0.3],\n",
       "       [5.7, 2.5, 5. , 2. ],\n",
       "       [6.7, 3.1, 4.4, 1.4],\n",
       "       [5.8, 2.6, 4. , 1.2],\n",
       "       [5.1, 2.5, 3. , 1.1],\n",
       "       [5.2, 4.1, 1.5, 0.1],\n",
       "       [5. , 2.3, 3.3, 1. ],\n",
       "       [6.7, 3.1, 4.7, 1.5],\n",
       "       [5.6, 2.7, 4.2, 1.3],\n",
       "       [6.1, 2.9, 4.7, 1.4],\n",
       "       [5. , 3.6, 1.4, 0.2],\n",
       "       [6.3, 3.4, 5.6, 2.4],\n",
       "       [5.6, 2.5, 3.9, 1.1],\n",
       "       [5.4, 3.9, 1.7, 0.4],\n",
       "       [7.9, 3.8, 6.4, 2. ],\n",
       "       [4.6, 3.6, 1. , 0.2],\n",
       "       [6.5, 3. , 5.5, 1.8],\n",
       "       [5.8, 2.7, 3.9, 1.2],\n",
       "       [5.1, 3.4, 1.5, 0.2],\n",
       "       [5.1, 3.3, 1.7, 0.5],\n",
       "       [4.9, 3.1, 1.5, 0.1],\n",
       "       [6.6, 2.9, 4.6, 1.3],\n",
       "       [6.4, 2.8, 5.6, 2.1],\n",
       "       [6.3, 2.5, 5. , 1.9],\n",
       "       [5. , 3.3, 1.4, 0.2],\n",
       "       [6.9, 3.2, 5.7, 2.3],\n",
       "       [6.3, 2.8, 5.1, 1.5],\n",
       "       [5.4, 3.9, 1.3, 0.4],\n",
       "       [4.9, 3.1, 1.5, 0.1],\n",
       "       [6.4, 3.1, 5.5, 1.8],\n",
       "       [7.1, 3. , 5.9, 2.1],\n",
       "       [4.7, 3.2, 1.6, 0.2],\n",
       "       [5.6, 2.8, 4.9, 2. ],\n",
       "       [7.7, 2.8, 6.7, 2. ],\n",
       "       [6.2, 2.8, 4.8, 1.8],\n",
       "       [6.4, 2.8, 5.6, 2.2],\n",
       "       [6.2, 2.2, 4.5, 1.5],\n",
       "       [6.7, 3.1, 5.6, 2.4],\n",
       "       [5.8, 2.8, 5.1, 2.4],\n",
       "       [5. , 2. , 3.5, 1. ],\n",
       "       [6.5, 3.2, 5.1, 2. ],\n",
       "       [4.6, 3.2, 1.4, 0.2],\n",
       "       [4.9, 2.5, 4.5, 1.7],\n",
       "       [5.5, 2.4, 3.8, 1.1],\n",
       "       [4.4, 3.2, 1.3, 0.2],\n",
       "       [6.9, 3.1, 5.4, 2.1],\n",
       "       [7.4, 2.8, 6.1, 1.9],\n",
       "       [5.1, 3.5, 1.4, 0.2],\n",
       "       [6.2, 3.4, 5.4, 2.3],\n",
       "       [6.9, 3.1, 5.1, 2.3],\n",
       "       [5. , 3.4, 1.6, 0.4],\n",
       "       [6.5, 3. , 5.2, 2. ],\n",
       "       [4.8, 3.4, 1.9, 0.2],\n",
       "       [5.5, 2.6, 4.4, 1.2],\n",
       "       [6.3, 3.3, 6. , 2.5],\n",
       "       [5. , 3.4, 1.5, 0.2],\n",
       "       [5.1, 3.5, 1.4, 0.3],\n",
       "       [5.7, 4.4, 1.5, 0.4],\n",
       "       [5.2, 3.4, 1.4, 0.2],\n",
       "       [5.1, 3.8, 1.6, 0.2],\n",
       "       [5.1, 3.8, 1.9, 0.4],\n",
       "       [7.6, 3. , 6.6, 2.1],\n",
       "       [5.7, 2.9, 4.2, 1.3],\n",
       "       [4.9, 3.1, 1.5, 0.1],\n",
       "       [4.4, 3. , 1.3, 0.2],\n",
       "       [5.5, 2.3, 4. , 1.3],\n",
       "       [7.7, 3.8, 6.7, 2.2],\n",
       "       [4.8, 3. , 1.4, 0.3],\n",
       "       [6. , 3.4, 4.5, 1.6],\n",
       "       [6. , 2.2, 5. , 1.5],\n",
       "       [5. , 3. , 1.6, 0.2],\n",
       "       [5. , 3.5, 1.6, 0.6],\n",
       "       [6.9, 3.1, 4.9, 1.5],\n",
       "       [6.1, 3. , 4.6, 1.4],\n",
       "       [5.7, 2.8, 4.5, 1.3],\n",
       "       [7.2, 3.2, 6. , 1.8],\n",
       "       [5.7, 3. , 4.2, 1.2],\n",
       "       [7.3, 2.9, 6.3, 1.8],\n",
       "       [5.9, 3.2, 4.8, 1.8],\n",
       "       [6.4, 3.2, 5.3, 2.3],\n",
       "       [7.2, 3.6, 6.1, 2.5],\n",
       "       [6. , 2.2, 4. , 1. ],\n",
       "       [5.8, 2.7, 5.1, 1.9],\n",
       "       [5.4, 3. , 4.5, 1.5],\n",
       "       [5.6, 3. , 4.1, 1.3],\n",
       "       [4.7, 3.2, 1.3, 0.2],\n",
       "       [6.3, 2.3, 4.4, 1.3],\n",
       "       [5.7, 2.8, 4.1, 1.3],\n",
       "       [5.5, 4.2, 1.4, 0.2],\n",
       "       [4.4, 2.9, 1.4, 0.2],\n",
       "       [5. , 3.5, 1.3, 0.3],\n",
       "       [6.1, 2.8, 4.7, 1.2],\n",
       "       [5.3, 3.7, 1.5, 0.2],\n",
       "       [6.3, 2.5, 4.9, 1.5],\n",
       "       [5.1, 3.8, 1.5, 0.3],\n",
       "       [5.8, 2.7, 4.1, 1. ],\n",
       "       [5.1, 3.7, 1.5, 0.4],\n",
       "       [4.6, 3.1, 1.5, 0.2],\n",
       "       [4.8, 3. , 1.4, 0.1],\n",
       "       [6.8, 2.8, 4.8, 1.4],\n",
       "       [6.8, 3.2, 5.9, 2.3],\n",
       "       [5.4, 3.4, 1.5, 0.4],\n",
       "       [6.2, 2.9, 4.3, 1.3],\n",
       "       [4.8, 3.4, 1.6, 0.2],\n",
       "       [5.5, 3.5, 1.3, 0.2],\n",
       "       [6.7, 2.5, 5.8, 1.8],\n",
       "       [5.2, 3.5, 1.5, 0.2],\n",
       "       [5.6, 3. , 4.5, 1.5],\n",
       "       [6.1, 3. , 4.9, 1.8],\n",
       "       [6.3, 2.9, 5.6, 1.8],\n",
       "       [5. , 3.2, 1.2, 0.2],\n",
       "       [5.4, 3.4, 1.7, 0.2],\n",
       "       [6.8, 3. , 5.5, 2.1],\n",
       "       [5.9, 3. , 5.1, 1.8],\n",
       "       [5.9, 3. , 4.2, 1.5],\n",
       "       [7.7, 3. , 6.1, 2.3],\n",
       "       [5.5, 2.4, 3.7, 1. ],\n",
       "       [5.5, 2.5, 4. , 1.3],\n",
       "       [6. , 3. , 4.8, 1.8],\n",
       "       [6.7, 3.3, 5.7, 2.1],\n",
       "       [5.8, 4. , 1.2, 0.2],\n",
       "       [6.6, 3. , 4.4, 1.4],\n",
       "       [4.3, 3. , 1.1, 0.1],\n",
       "       [5.4, 3.7, 1.5, 0.2],\n",
       "       [7.7, 2.6, 6.9, 2.3],\n",
       "       [5.7, 2.6, 3.5, 1. ],\n",
       "       [5.2, 2.7, 3.9, 1.4],\n",
       "       [6.4, 2.9, 4.3, 1.3],\n",
       "       [4.8, 3.1, 1.6, 0.2],\n",
       "       [4.9, 3. , 1.4, 0.2],\n",
       "       [7. , 3.2, 4.7, 1.4]])"
      ]
     },
     "execution_count": 8,
     "metadata": {},
     "output_type": "execute_result"
    }
   ],
   "source": [
    "data"
   ]
  },
  {
   "cell_type": "code",
   "execution_count": 9,
   "metadata": {},
   "outputs": [],
   "source": [
    "#Function to plot Elbow plot given maximum number of K values and data.\n",
    "def plotElbowPlot(X,k_max):\n",
    "    sse={}\n",
    "    for i in range(1,k_max+1):\n",
    "        initialCentroids=(initCentroids(data,i))\n",
    "        max_iters = 150\n",
    "        cluster=[]\n",
    "        idx,centroids = runKmeans(data, initialCentroids, max_iters)\n",
    "        sse[i]=findSSE(data,centroids)\n",
    "    plt.figure()\n",
    "    plt.plot(list(sse.keys()), list(sse.values()))\n",
    "    plt.xlabel(\"Number of clusters\")\n",
    "    plt.ylabel(\"SSE\")\n",
    "    plt.show()"
   ]
  },
  {
   "cell_type": "code",
   "execution_count": 10,
   "metadata": {},
   "outputs": [
    {
     "data": {
      "image/png": "[encoded data removed]",
      "text/plain": [
       "<Figure size 432x288 with 1 Axes>"
      ]
     },
     "metadata": {
      "needs_background": "light"
     },
     "output_type": "display_data"
    }
   ],
   "source": [
    "plotElbowPlot(data,15)"
   ]
  },
  {
   "cell_type": "code",
   "execution_count": 11,
   "metadata": {},
   "outputs": [],
   "source": [
    "#Clearly k=3"
   ]
  },
  {
   "cell_type": "code",
   "execution_count": 12,
   "metadata": {},
   "outputs": [],
   "source": [
    "initialCentroids=(initCentroids(data,4))\n",
    "idx = findClosestCentroids(data, initialCentroids)\n",
    "computeCentroids(data, idx, 4)\n",
    "max_iters = 150\n",
    "idx,centroids = runKmeans(data, initialCentroids, max_iters)"
   ]
  },
  {
   "cell_type": "code",
   "execution_count": 13,
   "metadata": {},
   "outputs": [
    {
     "data": {
      "image/png": "[encoded data removed]",
      "text/plain": [
       "<Figure size 864x432 with 6 Axes>"
      ]
     },
     "metadata": {
      "needs_background": "light"
     },
     "output_type": "display_data"
    }
   ],
   "source": [
    "cluster1 = data[np.where(idx == 0)[0],:]\n",
    "cluster2 = data[np.where(idx == 1)[0],:]\n",
    "cluster3 = data[np.where(idx == 2)[0],:]\n",
    "fig, ax = plt.subplots(nrows=2,ncols=3, figsize=(12, 6))\n",
    "for i in range(2):\n",
    "    for j in range(3):\n",
    "        ax[i][j].scatter(cluster1[:,i], cluster1[:,j], s=50, c='m')\n",
    "        ax[i][j].scatter(cluster2[:,i], cluster2[:,j], s=50, c='b')\n",
    "        ax[i][j].scatter(cluster3[:,i], cluster3[:,j], s=50, c='g')"
   ]
  },
  {
   "cell_type": "code",
   "execution_count": null,
   "metadata": {},
   "outputs": [],
   "source": []
  },
  {
   "cell_type": "code",
   "execution_count": null,
   "metadata": {},
   "outputs": [],
   "source": []
  }
 ],
 "metadata": {
  "kernelspec": {
   "display_name": "Python 3",
   "language": "python",
   "name": "python3"
  },
  "language_info": {
   "codemirror_mode": {
    "name": "ipython",
    "version": 3
   },
   "file_extension": ".py",
   "mimetype": "text/x-python",
   "name": "python",
   "nbconvert_exporter": "python",
   "pygments_lexer": "ipython3",
   "version": "3.7.6"
  }
 },
 "nbformat": 4,
 "nbformat_minor": 2
}
