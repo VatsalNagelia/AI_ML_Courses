{
 "cells": [
  {
   "cell_type": "markdown",
   "metadata": {},
   "source": [
    "# K MEANS CLUSTERING\n",
    "<hr style=\"height:5px;border-width:2;color:gray\">"
   ]
  },
  {
   "cell_type": "markdown",
   "metadata": {},
   "source": [
    "## Unsupervised Learning\n",
    "\n",
    "So far we have seen different models like Linear Regression, Logistic Regression and Neural Networks. However if you remember from the Introduction to ML document all these are Supervised Learning models, where we have both input and output and our goal is to create a logic associating input and the output. However sometimes you may deal only with inputs which may have no defined outputs. This is called Unsupervised Learning.\n",
    "\n",
    "For example,\n",
    "<ul>\n",
    "    <li>Dimensionality Reduction (Ex: PCA, tSNE)</li>\n",
    "    <li>Clustering (Ex: K Means, Hierarchical Clustering, DBSCAN)</li>\n",
    "</ul>\n",
    "etc.\n",
    "<br>\n",
    "Here we'll be looking at the most basic clustering algorithm, K Means Clustering."
   ]
  },
  {
   "cell_type": "markdown",
   "metadata": {},
   "source": [
    "<hr style=\"height:2px;border-width:2;color:gray\">"
   ]
  },
  {
   "cell_type": "markdown",
   "metadata": {},
   "source": [
    "## Theory"
   ]
  },
  {
   "cell_type": "markdown",
   "metadata": {},
   "source": [
    "### Introduction\n",
    "\n",
    "K Means is one of the simplest well known unsupervised clustering algorithms. A <b>cluster</b> is a group of data points that are similar to each other in some way. Generally to find similarity, Euclidean distance between the features is used i.e, the data points which are closer to each other are more similar. \n",
    "\n",
    "In K means, <b>K</b> refers to <b>number of clusters</b>.\n",
    "\n",
    "The main goal of K means is to find <b>K</b> points and call these the center of the clusters. After that each data point is assigned to cluster whose center is closest to the data point. The K Means Algorithm is used to find these centers.\n",
    "\n",
    "<center><img src = \"https://i2.wp.com/cmdlinetips.com/wp-content/uploads/2019/05/kmeans_data.png?resize=432%2C288\"></center>\n",
    "\n",
    "> In this image, the data points have two features and are plotted on the X and Y axis. The different clusters are denoted by different colours. As we can see, the points belonging to same cluster are closer to each other.<br><a href = \"https://cmdlinetips.com/2019/05/k-means-clustering-in-python/\">Image credits</a>"
   ]
  },
  {
   "cell_type": "markdown",
   "metadata": {},
   "source": [
    "### Algorithm\n",
    "\n",
    "Let $\\{ v_1, v_2 \\ldots v_m\\}$ be $m$ data points that we need to cluster.\n",
    "\n",
    "<b><u>Algorithm Steps</u></b>:<br>\n",
    "<ol>\n",
    "    <li>\n",
    "        <b>Chose a suitable K value i.e, number of clusters.</b> \n",
    "    </li>\n",
    "    <li>\n",
    "        <b>Randomly chose K cluster centers</b>:<br>\n",
    "        Randomly chose K data points and call them the cluster centers $\\{C_1, C_2 \\ldots C_K\\}$.\n",
    "    </li>\n",
    "    <li>\n",
    "        <b>Assign cluster to each data point</b>:<br>\n",
    "        For each data point $v_i$ find the closest cluster center to it and assign $v_i$ to that cluster. The closeness between two points is measured by the Euclidean distance between the two points.\n",
    "    </li>\n",
    "    <li>\n",
    "        <b>Recalculate the cluster centers</b>:\n",
    "        Each data point has been assigned to a single cluster in the previous step. Now for each <u>cluster</u> (say $C_j$), calculate the mean of all the data points that belong to $C_j$. Reassign $C_j$ to this mean i.e,<br><br>\n",
    "        $$C_j = mean(\\{v_i \\ | \\  v_i \\in C_j\\})$$\n",
    "    <br>\n",
    "    </li>\n",
    "    <li>\n",
    "        Repeat the process from step 3 until maximum number of iterations is reached or cluster centers stop changing.\n",
    "    </li>\n",
    "</ol>\n",
    "\n",
    "Since the final clusters depend on initially chosen cluster centers (which are chosen at random) the entire algorithm is applied multiple times to find the best results."
   ]
  },
  {
   "cell_type": "markdown",
   "metadata": {},
   "source": [
    "### Intuition\n",
    "\n",
    "In the first step, we randomly chose K cluster centers. They are generally chosen as K random data points instead of random points in the entire space. After that, the algorithm moves the cluster centers closer and closer to the actual cluster centers in every iteration, until the cluster centers don't change anymore. However the final clusters will depend on initial random initialization and hence we run the algorithm multiple times to chose the best clusters.\n",
    "\n",
    "The following image shows K Means at various steps.\n",
    "\n",
    "<center><img src = \"https://stanford.edu/~cpiech/cs221/img/kmeansViz.png\"></center>\n",
    "\n",
    "> <a href = \"https://stanford.edu/~cpiech/cs221/handouts/kmeans.html\">Image credits</a>"
   ]
  },
  {
   "cell_type": "markdown",
   "metadata": {},
   "source": [
    "### Evaluation\n",
    "\n",
    "Since K Means is an unsupervised learning algorithm, we can't measure how well the algorithm performs by comparing it to a true value. So, the clusters are said to be good if the <b>data points belonging to same cluster are close to each other</b> and <b>data points belonging to different clusters are far from each other</b>.\n",
    "\n",
    "Therefore, a K Means model is evaluated using the sum of squared distances between every data point and its cluster center. The smaller the SSE (Sum of Squared Errors), the better the clustering. To find SSE, for each cluster find the sum of the squared distances between the data points that belong to that cluster and the cluster centers. Then add all these sums for the K clusters.\n",
    "\n",
    "To chose the best clustering, run the K Means algorithm multiple times and chose the cluster center initialization that gives the lowest SSE."
   ]
  },
  {
   "cell_type": "markdown",
   "metadata": {},
   "source": [
    "### Chosing the best K Value\n",
    "\n",
    "We can also use the SSE to find the best K value using a method called the <b>elbow method</b>. \n",
    "\n",
    "To do this, plot the SSE (by SSE we mean SSE for the best clustering) against K values. The SSE drops as K value increases (in fact, SSE is 0 when K is equal to number of data points). So the K value for which there is a maximum drop in SSE is the best estimate for number of clusters. After this maximum drop, the curve seems to slowly flatten.\n",
    "\n",
    "<div class = \"alert alert-block alert-info\">\n",
    "    <b>Note</b>: Sometimes this method may not work as it might be difficult to identify the elbow point.\n",
    "</div>\n",
    "\n",
    "<center><img src = \"https://miro.medium.com/max/866/1*9z8erk4kvsnxkfv-QhsHZg.png\"></center>\n",
    "\n",
    "> In this image K = 2 causes maximum drop in SSE. Also notice how the curve tends to slowly flatten after K = 2. This methid is called elbow method because the curve looks like a human arm and the optimal value is the elbow point.<br>\n",
    "<a href = \"https://towardsdatascience.com/k-means-clustering-algorithm-applications-evaluation-methods-and-drawbacks-aa03e644b48a\">Image credits</a>"
   ]
  },
  {
   "cell_type": "markdown",
   "metadata": {},
   "source": [
    "### Advantages and Disadvantages\n",
    "\n",
    "#### Advantages\n",
    "<ul>\n",
    "    <li>It is fast and simple to understand.</li>\n",
    "    <li>Works really well when clusters are distinct.</li>\n",
    "</ul>\n",
    "\n",
    "#### Disadvantages\n",
    "<ul>\n",
    "    <li>Need to manually chose K value.</li>\n",
    "    <li>The algorithm may sometimes end up in local optima.</li>\n",
    "    <li>The algorithm does not works very well only for circular clusters.</li>\n",
    "</ul>"
   ]
  },
  {
   "cell_type": "markdown",
   "metadata": {},
   "source": [
    "<hr style=\"height:2px;border-width:2;color:gray\">"
   ]
  },
  {
   "cell_type": "markdown",
   "metadata": {},
   "source": [
    "## Implementation\n",
    "\n",
    "We can implement K Means clustering using Scikit Learn."
   ]
  },
  {
   "cell_type": "markdown",
   "metadata": {},
   "source": [
    "### Importing the libraries"
   ]
  },
  {
   "cell_type": "code",
   "execution_count": 1,
   "metadata": {},
   "outputs": [],
   "source": [
    "import numpy as np\n",
    "import matplotlib.pyplot as plt\n",
    "import seaborn as sns\n",
    "sns.set()"
   ]
  },
  {
   "cell_type": "markdown",
   "metadata": {},
   "source": [
    "### Creating the dataset\n",
    "\n",
    "An artificial cluster dataset can be created using sklearn. Also one more thing to notice is that generally we don't do train test splits in clustering since we don't have any labels to test on."
   ]
  },
  {
   "cell_type": "code",
   "execution_count": 9,
   "metadata": {},
   "outputs": [
    {
     "data": {
      "text/plain": [
       "(200, 2)"
      ]
     },
     "execution_count": 9,
     "metadata": {},
     "output_type": "execute_result"
    }
   ],
   "source": [
    "from sklearn.datasets import make_blobs\n",
    "\n",
    "data,_ = make_blobs(200, n_features = 2, centers = 3, cluster_std = [1, 1.5, 2], random_state = 1234)\n",
    "data.shape"
   ]
  },
  {
   "cell_type": "markdown",
   "metadata": {},
   "source": [
    "Let's plot the given data. First feature on X-axis and second feature on Y-axis."
   ]
  },
  {
   "cell_type": "code",
   "execution_count": 10,
   "metadata": {},
   "outputs": [
    {
     "data": {
      "text/plain": [
       "<matplotlib.axes._subplots.AxesSubplot at 0x7f5438545790>"
      ]
     },
     "execution_count": 10,
     "metadata": {},
     "output_type": "execute_result"
    },
    {
     "data": {
      "image/png": "[encoded data removed]",
      "text/plain": [
       "<Figure size 432x288 with 1 Axes>"
      ]
     },
     "metadata": {},
     "output_type": "display_data"
    }
   ],
   "source": [
    "sns.scatterplot(data[:,0], data[:,1])"
   ]
  },
  {
   "cell_type": "markdown",
   "metadata": {},
   "source": [
    "From the figure we can make out 3 clusters."
   ]
  },
  {
   "cell_type": "markdown",
   "metadata": {},
   "source": [
    "### Creating the model\n",
    "\n",
    "Create a K Means clustering model using sklearn. After fitting the model, plot the data points and distinguish the clusters by color. Also plot the cluster centers."
   ]
  },
  {
   "cell_type": "code",
   "execution_count": 14,
   "metadata": {},
   "outputs": [
    {
     "data": {
      "text/plain": [
       "array([[-0.12166832,  4.69388946],\n",
       "       [-1.06368751,  6.15564758],\n",
       "       [-0.19160188,  4.43165227],\n",
       "       [-6.37354386,  2.26000001],\n",
       "       [-0.30228148,  5.9869132 ],\n",
       "       [ 8.36551066, -4.59306964],\n",
       "       [-0.70009838,  5.68504351],\n",
       "       [ 2.49283148, -5.1867435 ],\n",
       "       [ 5.12284543, -0.68379156],\n",
       "       [-5.35348376,  4.33570989],\n",
       "       [ 6.38730069, -6.44819896],\n",
       "       [-5.49405691,  0.62514819],\n",
       "       [-5.3058937 ,  2.32008385],\n",
       "       [-7.57158427,  2.34125722],\n",
       "       [ 0.04915207,  4.12972989],\n",
       "       [ 6.71127102, -5.91191051],\n",
       "       [ 5.9542896 , -2.58112244],\n",
       "       [-6.648935  ,  2.14315913],\n",
       "       [-5.13581026,  0.04172179],\n",
       "       [-1.65910581,  6.45789602],\n",
       "       [-0.62863919,  7.04331911],\n",
       "       [-6.50368836,  2.44429379],\n",
       "       [ 5.73534088, -4.62211352],\n",
       "       [-5.40224226,  3.42709526],\n",
       "       [-0.475822  ,  4.88754725],\n",
       "       [ 3.98543955, -5.23216946],\n",
       "       [-0.19408362,  7.18345378],\n",
       "       [-5.94264845,  1.28951631],\n",
       "       [ 0.79125067,  4.49992109],\n",
       "       [ 3.06831509, -0.97218863],\n",
       "       [-4.84850538,  2.59480597],\n",
       "       [-5.48895499,  0.62367643],\n",
       "       [ 8.46188367, -3.362631  ],\n",
       "       [-6.00508145,  2.01207973],\n",
       "       [-1.72575104,  4.33287338],\n",
       "       [ 8.74500165, -4.75745104],\n",
       "       [ 7.5915021 , -2.63703203],\n",
       "       [-1.2101088 ,  4.71682742],\n",
       "       [ 5.54881836, -5.12325279],\n",
       "       [-3.45511984,  4.36230075],\n",
       "       [-0.58504563,  6.74062946],\n",
       "       [ 5.8623069 , -3.67927352],\n",
       "       [ 7.4484019 , -4.67064049],\n",
       "       [ 0.1832723 ,  7.18937805],\n",
       "       [ 9.18419456, -7.17357331],\n",
       "       [-0.77592553,  7.00695274],\n",
       "       [-1.82727457,  5.57651122],\n",
       "       [-5.86164214,  2.23367666],\n",
       "       [-3.1169246 ,  6.0813545 ],\n",
       "       [ 7.11882123, -5.39416035],\n",
       "       [-1.72478732,  4.77718204],\n",
       "       [-1.48715058,  7.04090792],\n",
       "       [ 2.72636829, -4.12671379],\n",
       "       [-4.46722778,  3.6858729 ],\n",
       "       [ 6.76968472, -4.8967442 ],\n",
       "       [ 0.6631474 ,  3.53282176],\n",
       "       [ 0.34100455,  4.51993846],\n",
       "       [ 4.23193652, -2.43374123],\n",
       "       [-5.81559066,  2.4066624 ],\n",
       "       [ 6.17667881, -5.63330693],\n",
       "       [ 3.35847417, -4.45161948],\n",
       "       [-1.86720249,  3.56847957],\n",
       "       [ 8.16538266, -4.00747204],\n",
       "       [-1.48109393,  4.59646814],\n",
       "       [-1.03592031,  5.3726432 ],\n",
       "       [ 5.49843678, -5.27616781],\n",
       "       [ 3.29031423, -7.084286  ],\n",
       "       [ 0.44413351,  6.07783925],\n",
       "       [ 7.24161207, -0.35254633],\n",
       "       [-5.01957527,  3.43412144],\n",
       "       [ 4.37695281, -4.34407767],\n",
       "       [ 4.74386394, -1.55100798],\n",
       "       [-5.29413549,  0.7314601 ],\n",
       "       [-7.14384733,  2.37183054],\n",
       "       [-5.53763155,  2.48168811],\n",
       "       [-5.41419701,  2.657444  ],\n",
       "       [-5.92181879,  1.54501864],\n",
       "       [ 5.64652533, -3.44059394],\n",
       "       [ 3.45677882, -4.6450689 ],\n",
       "       [-5.46538277,  2.96568339],\n",
       "       [ 5.72349306, -6.60317924],\n",
       "       [-0.81287995,  4.12986327],\n",
       "       [-1.23980545,  3.80368029],\n",
       "       [-6.0934114 ,  1.87572949],\n",
       "       [10.56243301, -1.77763814],\n",
       "       [ 5.1644252 ,  0.72743453],\n",
       "       [-0.7006792 ,  8.54769141],\n",
       "       [-6.51437701,  2.97046357],\n",
       "       [ 0.80450821, -1.46608793],\n",
       "       [ 3.80570782, -7.99693405],\n",
       "       [-5.12203242,  3.48811368],\n",
       "       [ 5.2579141 , -4.01420143],\n",
       "       [ 3.90893538, -3.71794678],\n",
       "       [ 1.55025637,  3.13876079],\n",
       "       [-1.35435769,  4.88126729],\n",
       "       [-1.66041441,  8.59397165],\n",
       "       [ 0.32047176,  8.8688494 ],\n",
       "       [-0.93135304,  4.81784267],\n",
       "       [ 0.41108213,  5.0598474 ],\n",
       "       [-5.68532288,  3.80565693],\n",
       "       [-1.42803783,  9.25582462],\n",
       "       [-5.60387269,  3.98783423],\n",
       "       [-7.09586531,  4.45001837],\n",
       "       [-0.44026948,  4.59142612],\n",
       "       [-6.30640583,  2.46046461],\n",
       "       [-5.52997823,  1.48014659],\n",
       "       [-4.85145944,  1.97287014],\n",
       "       [-2.57552425,  6.20846857],\n",
       "       [-3.33352634,  7.43805504],\n",
       "       [-7.19746155,  1.85745721],\n",
       "       [-5.32793628,  4.83313594],\n",
       "       [-4.43087559,  5.20691801],\n",
       "       [ 6.28102153, -4.94429781],\n",
       "       [ 6.26452941, -3.49025908],\n",
       "       [ 4.08779181, -6.31037136],\n",
       "       [ 9.41707548, -4.23630137],\n",
       "       [ 6.37202354, -2.90259715],\n",
       "       [ 5.14625158, -6.39580933],\n",
       "       [ 5.96286165, -3.99916275],\n",
       "       [-1.72347261,  4.62317838],\n",
       "       [-3.03873083,  4.81937721],\n",
       "       [ 0.52747094,  6.29422885],\n",
       "       [-6.95071628,  1.97415775],\n",
       "       [ 7.60579689, -2.39080079],\n",
       "       [ 4.89049875, -4.75767014],\n",
       "       [ 6.45057735, -6.50959661],\n",
       "       [ 2.92357936, -4.63092097],\n",
       "       [-2.5037096 ,  6.53805355],\n",
       "       [-5.97618962,  2.99561433],\n",
       "       [-4.13900737,  1.29954413],\n",
       "       [-0.04929209,  5.1374555 ],\n",
       "       [ 7.0271977 , -4.28140597],\n",
       "       [ 4.13744948, -6.5936953 ],\n",
       "       [-4.94503664,  1.16106715],\n",
       "       [ 6.31119416, -7.08827485],\n",
       "       [-0.79683943,  7.32198264],\n",
       "       [ 4.61854898, -5.29702109],\n",
       "       [-3.35959283,  7.8416506 ],\n",
       "       [ 6.65360906, -3.1259231 ],\n",
       "       [-5.35301707,  2.36022837],\n",
       "       [-6.12253936,  2.83701963],\n",
       "       [ 9.30031177, -5.21484875],\n",
       "       [ 0.944446  ,  7.23027986],\n",
       "       [-0.50123083,  6.90206397],\n",
       "       [-1.95647656,  5.6221281 ],\n",
       "       [-6.15391462,  0.19949047],\n",
       "       [ 5.20857134, -5.47498669],\n",
       "       [-2.53494767,  6.0461499 ],\n",
       "       [-6.04489804,  2.11938062],\n",
       "       [ 1.04865579,  6.01535396],\n",
       "       [-6.13346906,  0.36719782],\n",
       "       [-2.0015093 ,  4.5245114 ],\n",
       "       [ 5.66327611, -1.86178298],\n",
       "       [ 5.94010995, -8.05155979],\n",
       "       [-6.56745122,  2.77961307],\n",
       "       [-5.70521867, -1.12134124],\n",
       "       [-5.76415758,  2.73126736],\n",
       "       [-5.89877514,  3.83416161],\n",
       "       [ 1.94009261,  5.89058183],\n",
       "       [-6.35271953,  3.50114461],\n",
       "       [ 5.94272093, -2.58251224],\n",
       "       [-7.23859978,  1.93029411],\n",
       "       [ 5.98644463, -5.54163777],\n",
       "       [-2.03238624,  5.81498873],\n",
       "       [ 0.51977346,  4.92066752],\n",
       "       [-2.56701586,  6.14979161],\n",
       "       [ 1.62069392,  6.8891187 ],\n",
       "       [-5.21628686,  0.4209206 ],\n",
       "       [-2.65267414,  3.84856433],\n",
       "       [-6.71785344,  2.29755591],\n",
       "       [-0.90590038,  2.58924483],\n",
       "       [-0.37383524,  9.85293779],\n",
       "       [-5.95772761,  3.14689605],\n",
       "       [-8.25487663,  4.37242219],\n",
       "       [-1.00994766,  4.84998865],\n",
       "       [-6.08976868,  2.04221084],\n",
       "       [-6.85249499,  2.87843303],\n",
       "       [-4.8484528 ,  0.89526987],\n",
       "       [-7.87262377,  2.83588602],\n",
       "       [-6.37225732,  1.78620608],\n",
       "       [-5.3286022 ,  0.99636534],\n",
       "       [-5.930055  ,  2.59340205],\n",
       "       [ 5.72568524, -5.11702926],\n",
       "       [-6.9550462 ,  2.90423516],\n",
       "       [-6.41804305,  1.82446877],\n",
       "       [-5.4755077 ,  3.12080509],\n",
       "       [ 6.81524053, -6.70834086],\n",
       "       [-3.35607204,  5.89734345],\n",
       "       [-5.66601923,  2.72747111],\n",
       "       [-5.87840563,  3.00870912],\n",
       "       [-6.6203761 ,  3.19133923],\n",
       "       [ 6.30705475, -5.09933516],\n",
       "       [ 7.66496259, -8.02775549],\n",
       "       [-7.90495987,  3.65255913],\n",
       "       [ 6.1285843 , -3.41683121],\n",
       "       [ 4.87920302, -5.46462867],\n",
       "       [-5.31002258,  1.80565192],\n",
       "       [ 2.1152409 , -4.73701751],\n",
       "       [-0.64645706,  6.70990393],\n",
       "       [-1.97407434,  6.28868336]])"
      ]
     },
     "execution_count": 14,
     "metadata": {},
     "output_type": "execute_result"
    }
   ],
   "source": [
    "from sklearn.cluster import KMeans\n",
    "k_means_model = KMeans(n_clusters=3) \n",
    "k_means_model.fit(data)\n",
    "y_pred = k_means_model.predict(data)"
   ]
  },
  {
   "cell_type": "code",
   "execution_count": 12,
   "metadata": {},
   "outputs": [
    {
     "data": {
      "image/png": "[encoded data removed]",
      "text/plain": [
       "<Figure size 432x288 with 1 Axes>"
      ]
     },
     "metadata": {},
     "output_type": "display_data"
    }
   ],
   "source": [
    "plt.scatter(data[:,0], data[:,1], c=y_pred, cmap=plt.cm.Paired)\n",
    "plt.show()"
   ]
  },
  {
   "cell_type": "markdown",
   "metadata": {},
   "source": [
    "#### Experimentation\n",
    "\n",
    "The KMeans class abstracts a lot of information. Try looking at all the attributes of the class and try changing them. For example, <code>init</code> is set to \"k-means++\" initially which intelligently choses initial clusters, try changing it to \"random\"; <code>n_init</code> is set to 10 by default which means the algorithm is run 10 times and the best one is chosen automatically, try changing it to 1 and run the model multiple times.\n",
    "\n",
    "Also here we know that K = 3 because this data is artificially generated. Try fitting the model for different K values and see how KMeans tries to fit for those K values."
   ]
  },
  {
   "cell_type": "markdown",
   "metadata": {},
   "source": [
    "### Elbow plot\n",
    "\n",
    "Since this data is 2 dimensional we could easily figure out that there were 3 clusters. However in case of high dimensional data we can use an elbow plot to figure out the number of clusters.\n",
    "\n",
    "Plot an elbow plot for this data. (<b>Hint</b>: You can use sklearn to calculate SSE for each K value)"
   ]
  },
  {
   "cell_type": "code",
   "execution_count": 6,
   "metadata": {},
   "outputs": [],
   "source": [
    "sse = {}\n",
    "for k in range(1, 10):\n",
    "    kmeans = KMeans(n_clusters=k, max_iter=20).fit(data)\n",
    "    sse[k] = kmeans.inertia_ # Inertia: Sum of distances of samples to their closest cluster center"
   ]
  },
  {
   "cell_type": "code",
   "execution_count": 7,
   "metadata": {},
   "outputs": [
    {
     "data": {
      "image/png": "[encoded data removed]",
      "text/plain": [
       "<Figure size 432x288 with 1 Axes>"
      ]
     },
     "metadata": {},
     "output_type": "display_data"
    }
   ],
   "source": [
    "plt.figure()\n",
    "plt.plot(list(sse.keys()), list(sse.values()))\n",
    "plt.xlabel(\"Number of clusters\")\n",
    "plt.ylabel(\"SSE\")\n",
    "plt.show()"
   ]
  },
  {
   "cell_type": "markdown",
   "metadata": {},
   "source": [
    "If you see the elbow plot, you can notice that the elbow point is at K = 3. Eventhough K = 2 has a very high drop, the curve starts to flatten after K = 3 and hence it is the elbow point."
   ]
  },
  {
   "cell_type": "markdown",
   "metadata": {},
   "source": [
    "#### Experimentation\n",
    "\n",
    "Feel free to experiment by changing the number of clusters in <code>make_blobs</code> and see how KMeans performs on different data. Also try to see if Standardization has any effect on KMeans."
   ]
  },
  {
   "cell_type": "markdown",
   "metadata": {},
   "source": [
    "<hr style=\"height:2px;border-width:2;color:gray\">"
   ]
  },
  {
   "cell_type": "markdown",
   "metadata": {},
   "source": [
    "### Resources for further learning\n",
    "\n",
    "<ul>\n",
    "    <li>Checkout this <a href = \"https://towardsdatascience.com/k-means-clustering-algorithm-applications-evaluation-methods-and-drawbacks-aa03e644b48a\">article</a> for more information on K Means.</li>\n",
    "    <li><a href = \"https://www.youtube.com/playlist?list=PLLssT5z_DsK-h9vYZkQkYNWcItqhlRJLN\">This</a> is the link to Andrew Ng's Machine Learning playlist on youtube. He discusses Unsupervised Learning from <b>Lecture 13.1</b>. He not only covers K Means and clustering but also covers other Unsupervised Learning techniques like Dimensionality reduction, Anomaly detection, etc.</li>\n",
    "</ul>"
   ]
  },
  {
   "cell_type": "markdown",
   "metadata": {},
   "source": [
    "<hr style=\"height:5px;border-width:2;color:gray\">"
   ]
  }
 ],
 "metadata": {
  "kernelspec": {
   "display_name": "Python 3",
   "language": "python",
   "name": "python3"
  },
  "language_info": {
   "codemirror_mode": {
    "name": "ipython",
    "version": 3
   },
   "file_extension": ".py",
   "mimetype": "text/x-python",
   "name": "python",
   "nbconvert_exporter": "python",
   "pygments_lexer": "ipython3",
   "version": "3.8.3"
  }
 },
 "nbformat": 4,
 "nbformat_minor": 4
}
