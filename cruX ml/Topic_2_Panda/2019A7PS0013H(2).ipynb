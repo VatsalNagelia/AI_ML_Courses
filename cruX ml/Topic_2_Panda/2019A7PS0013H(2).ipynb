{
 "cells": [
  {
   "cell_type": "code",
   "execution_count": 1,
   "metadata": {},
   "outputs": [],
   "source": [
    "#Colab users uncomment this code\n",
    "#Files for this notebook are Energy Indicators.xls and world_bank.csv"
   ]
  },
  {
   "cell_type": "code",
   "execution_count": 2,
   "metadata": {},
   "outputs": [
    {
     "data": {
      "text/plain": [
       "'\\n!pip install -U -q PyDrive\\nfrom pydrive.auth import GoogleAuth\\nfrom pydrive.drive import GoogleDrive\\nfrom google.colab import auth\\nfrom oauth2client.client import GoogleCredentials\\n'"
      ]
     },
     "execution_count": 2,
     "metadata": {},
     "output_type": "execute_result"
    }
   ],
   "source": [
    "\"\"\"\n",
    "!pip install -U -q PyDrive\n",
    "from pydrive.auth import GoogleAuth\n",
    "from pydrive.drive import GoogleDrive\n",
    "from google.colab import auth\n",
    "from oauth2client.client import GoogleCredentials\n",
    "\"\"\""
   ]
  },
  {
   "cell_type": "code",
   "execution_count": 3,
   "metadata": {},
   "outputs": [
    {
     "data": {
      "text/plain": [
       "'\\nauth.authenticate_user()\\ngauth = GoogleAuth()\\ngauth.credentials = GoogleCredentials.get_application_default()\\ndrive = GoogleDrive(gauth)\\n'"
      ]
     },
     "execution_count": 3,
     "metadata": {},
     "output_type": "execute_result"
    }
   ],
   "source": [
    "\"\"\"\n",
    "auth.authenticate_user()\n",
    "gauth = GoogleAuth()\n",
    "gauth.credentials = GoogleCredentials.get_application_default()\n",
    "drive = GoogleDrive(gauth)\n",
    "\"\"\""
   ]
  },
  {
   "cell_type": "code",
   "execution_count": 4,
   "metadata": {},
   "outputs": [
    {
     "data": {
      "text/plain": [
       "\"\\ndownloaded = drive.CreateFile({'id':'1R9vW5dmox7i8OGOoDql_r9yUrvAJgvhD'}) # replace the id with id of file you want to access\\ndownloaded.GetContentFile('Energy Indicators.xls')\\n\""
      ]
     },
     "execution_count": 4,
     "metadata": {},
     "output_type": "execute_result"
    }
   ],
   "source": [
    "\"\"\"\n",
    "downloaded = drive.CreateFile({'id':'1R9vW5dmox7i8OGOoDql_r9yUrvAJgvhD'}) # replace the id with id of file you want to access\n",
    "downloaded.GetContentFile('Energy Indicators.xls')\n",
    "\"\"\""
   ]
  },
  {
   "cell_type": "code",
   "execution_count": 5,
   "metadata": {},
   "outputs": [
    {
     "data": {
      "text/plain": [
       "\"\\ndownloaded = drive.CreateFile({'id':'1R9vW5dmox7i8OGOoDql_r9yUrvAJgvhD'}) # replace the id with id of file you want to access\\ndownloaded.GetContentFile('world_bank.csv')\\n\""
      ]
     },
     "execution_count": 5,
     "metadata": {},
     "output_type": "execute_result"
    }
   ],
   "source": [
    "\"\"\"\n",
    "downloaded = drive.CreateFile({'id':'1R9vW5dmox7i8OGOoDql_r9yUrvAJgvhD'}) # replace the id with id of file you want to access\n",
    "downloaded.GetContentFile('world_bank.csv')\n",
    "\"\"\""
   ]
  },
  {
   "cell_type": "markdown",
   "metadata": {},
   "source": [
    "# PANDAS ASSIGNMENT (100)\n",
    "<hr style=\"height:5px;border-width:2;color:gray\">"
   ]
  },
  {
   "cell_type": "markdown",
   "metadata": {},
   "source": [
    "In this assignment you'll be handling two datasets, <code>Energy Indicators.xls</code> and <code>world_bank.csv</code> and answering some questions.<br><br>\n",
    "<b>Grading:</b>\n",
    "<ul>\n",
    "    <li>Each question has the corresponding total marks next to it.</li>\n",
    "    <li>Each question will be graded on <b>final answer (60%)</b> and <b>conciseness of code (40%)</b>.</li>\n",
    "    <li>There is no partial marking for final answer but there is partial marking for conciseness of code</li>\n",
    "    <li>The total marks will be scaled down later on as per requirement.</li>\n",
    "</ul><br>\n",
    "<b>Write your code in the given empty cells</b>    "
   ]
  },
  {
   "cell_type": "code",
   "execution_count": 6,
   "metadata": {},
   "outputs": [],
   "source": [
    "import pandas as pd\n",
    "import numpy as np"
   ]
  },
  {
   "cell_type": "markdown",
   "metadata": {},
   "source": [
    "## Loading and Cleaning the Data (50)\n",
    "<div class=\"alert alert-block alert-warning\">\n",
    "    <b>Note that this is the most important part of this assignment as without successfully loading and cleaning the data, future questions cannot be answered.</b>\n",
    "</div>"
   ]
  },
  {
   "cell_type": "markdown",
   "metadata": {},
   "source": [
    "#### Energy Indicators data ( 6 X 5 = 30)\n",
    "<b>Instructions</b>:\n",
    "<ol>\n",
    "    <li>Load the <b>excel file</b> <code>Energy Indicators.xls</code> into dataframe called <code>energy</code>.</li>\n",
    "    <li>Make sure to exclude header and footer information from the datafile.</li>\n",
    "    <li>The first two columns are unecessary and hence get rid of them.</li>\n",
    "    <li>Change the remaining column names to <code>['Country', 'Energy Supply', 'Energy Supply per Capita', '% Renewable']</code>.</li>\n",
    "    <li>The Energy Supply is in petajoule. Covert it to gigajoule. (1 petajoule = 1,000,000 gigajoule)</li>\n",
    "    <li>Rename the following list of countries:\n",
    "        <ul>\n",
    "        <li>\"Republic of Korea\" : \"South Korea\"</li>\n",
    "        <li>\"United States of America\" : \"United States\"</li>\n",
    "        <li>\"United Kingdom of Great Britain and Northern Ireland\" : \"United Kingdom\"</li>\n",
    "        <li>\"China, Hong Kong Special Administrative Region\" : \"Hong Kong\"</li>\n",
    "        </ul>\n",
    "    </li>\n",
    "</ol>\n",
    "<div class=\"alert alert-block alert-info\">\n",
    "    <b>Hint</b>: <code>energy</code> dataframe has 227 rows and 4 columns.\n",
    "</div>"
   ]
  },
  {
   "cell_type": "code",
   "execution_count": 7,
   "metadata": {},
   "outputs": [],
   "source": [
    "energy=pd.read_excel('Energy Indicators.xls')\n",
    "energy=energy[16:243]\n",
    "energy.drop(energy.columns[[0,1]],axis=1,inplace=True)\n",
    "energy.rename(columns={'Unnamed: 2':'Country','Unnamed: 3':'Energy Supply','Unnamed: 4':'Energy Supply per Capita',\"Unnamed: 5\":\"% Renewable\"},inplace=True)\n",
    "energy.replace('...', np.nan,inplace = True)\n",
    "energy['Energy Supply']*=1000000\n",
    "change={'Republic of Korea':'South Korea','United States of America':'United States','United Kingdom of Great Britain and Northern Ireland':'United Kingdom','China, Hong Kong Special Administrative Region':'Hong Kong'}\n",
    "energy['Country'].replace(change,inplace=True)\n",
    "energy.iloc[0,1]='Gigajoules' # The file wouldn't export otherwise"
   ]
  },
  {
   "cell_type": "markdown",
   "metadata": {},
   "source": [
    "#### GDP Data (10)\n",
    "<b>Instructions: </b><br>\n",
    "<ol>\n",
    "    <li>Load the <b>csv file</b> <code>world_bank.csv</code> into a dataframe called <code>GDP</code>.</li>\n",
    "    <li>Skip the headers.</li>\n",
    "    <li>The GDP dataframe must only have the columns of country name and GDP of years 2006-2015 (both inclusive)</li>\n",
    "    <li>Rename the following list of countries:</li>\n",
    "    <ul>\n",
    "        <li>\"Korea, Rep.\": \"South Korea\"</li>\n",
    "        <li>\"Iran, Islamic Rep.\": \"Iran\"</li>\n",
    "        <li>\"Hong Kong SAR, China\": \"Hong Kong\"</li>\n",
    "    </ul>\n",
    "</ol>\n",
    "<div class=\"alert alert-block alert-info\">\n",
    "    <b>Hint</b>: <code>GDP</code> dataframe has 264 rows and 11 columns.\n",
    "</div>"
   ]
  },
  {
   "cell_type": "code",
   "execution_count": 8,
   "metadata": {},
   "outputs": [],
   "source": [
    "GDP=pd.read_csv('world_bank.csv',skiprows=4)\n",
    "GDP=GDP[['Country Name','2006','2007','2008','2009','2010','2011','2012','2013','2014','2015']]\n",
    "GDP.rename(columns={'Country Name':'Country'},inplace=True)\n",
    "change={\"Korea, Rep.\":\"South Korea\",\"Iran, Islamic Rep.\":\"Iran\",\"Hong Kong SAR, China\":\"Hong Kong\"}\n",
    "GDP['Country'].replace(change,inplace=True)"
   ]
  },
  {
   "cell_type": "markdown",
   "metadata": {},
   "source": [
    "#### Merging the dataframes (10)\n",
    "<b>Instructions</b>:\n",
    "Merge the two dataframes into one and call it <code>energy_GDP</code> which has data pertaining to <b>countries common to both dataframes</b>. <code>energy_GDP</code> must have <b>13 columns</b> excluding the index, which should be <code>Country</code>.<br>\n",
    "After this reduce the dataframe to have data pertaining the countries given in the next cell."
   ]
  },
  {
   "cell_type": "code",
   "execution_count": 9,
   "metadata": {},
   "outputs": [],
   "source": [
    "countries = ['China', 'United States', 'Japan', 'United Kingdom', 'Russian Federation', 'Canada', 'Germany', 'India', 'France', 'South Korea', 'Italy', 'Spain', 'Iran', 'Australia', 'Brazil']"
   ]
  },
  {
   "cell_type": "code",
   "execution_count": 10,
   "metadata": {},
   "outputs": [],
   "source": [
    "energy_GDP=pd.merge(energy,GDP,on=\"Country\")\n",
    "energy_GDP.set_index('Country',inplace=True)\n",
    "energy_GDP=energy_GDP.loc[countries,:]"
   ]
  },
  {
   "cell_type": "markdown",
   "metadata": {},
   "source": [
    "## Questions (50)"
   ]
  },
  {
   "cell_type": "markdown",
   "metadata": {},
   "source": [
    "#### 1. What is the average GDP over the last 10 years for each country? (exclude missing values from this calculation.) (5)\n",
    "(Your answer should be a series in <b>descending order</b> by average GDP)"
   ]
  },
  {
   "cell_type": "code",
   "execution_count": 11,
   "metadata": {},
   "outputs": [
    {
     "name": "stdout",
     "output_type": "stream",
     "text": [
      "Country\n",
      "United States         1.536434e+13\n",
      "China                 6.348609e+12\n",
      "Japan                 5.542208e+12\n",
      "Germany               3.493025e+12\n",
      "France                2.681725e+12\n",
      "United Kingdom        2.487907e+12\n",
      "Brazil                2.189794e+12\n",
      "Italy                 2.120175e+12\n",
      "India                 1.769297e+12\n",
      "Canada                1.660647e+12\n",
      "Russian Federation    1.565459e+12\n",
      "Spain                 1.418078e+12\n",
      "Australia             1.164043e+12\n",
      "South Korea           1.106715e+12\n",
      "Iran                  4.441558e+11\n",
      "dtype: float64\n"
     ]
    }
   ],
   "source": [
    "req=energy_GDP\n",
    "req=energy_GDP[['2006','2007','2008','2009','2010','2011','2012','2013','2014','2015']].mean(axis=1)\n",
    "req.sort_values(ascending=False,inplace=True)\n",
    "print(req)"
   ]
  },
  {
   "cell_type": "markdown",
   "metadata": {},
   "source": [
    "#### 2. By how much has the GDP changed over the 10 year span for the country with the 6th largest average GDP? (5)\n",
    "(Your answer should be a single number)"
   ]
  },
  {
   "cell_type": "code",
   "execution_count": 12,
   "metadata": {},
   "outputs": [
    {
     "name": "stdout",
     "output_type": "stream",
     "text": [
      "246702696075.3999\n"
     ]
    }
   ],
   "source": [
    "country=req.index[5]\n",
    "val=energy_GDP.loc[country]['2015']-energy_GDP.loc[country]['2006']\n",
    "print(val)"
   ]
  },
  {
   "cell_type": "markdown",
   "metadata": {},
   "source": [
    "#### 3. What country has the maximum % Renewable and what is the percentage? (10)\n",
    "(Your answer should be a python tuple coontaining country name and its % Renewable)"
   ]
  },
  {
   "cell_type": "code",
   "execution_count": 13,
   "metadata": {},
   "outputs": [
    {
     "name": "stdout",
     "output_type": "stream",
     "text": [
      "('Brazil', 69.64803)\n"
     ]
    }
   ],
   "source": [
    "req=energy_GDP['% Renewable'].sort_values(ascending=False)\n",
    "ans=(req.index[0],req[0])\n",
    "print(ans)"
   ]
  },
  {
   "cell_type": "markdown",
   "metadata": {},
   "source": [
    "#### 4(i). Create a column that estimates the population using Energy Supply and Energy Supply per capita. (5)\n",
    "<div class=\"alert alert-block alert-warning\">\n",
    "    <b>Note: </b>You should convert the population estimation by energy to np.float64 format.\n",
    "</div><br>\n",
    "(Your answer should be the first five rows of a dataframe)\n"
   ]
  },
  {
   "cell_type": "code",
   "execution_count": 14,
   "metadata": {},
   "outputs": [
    {
     "name": "stdout",
     "output_type": "stream",
     "text": [
      "Country\n",
      "China                 1.367645e+09\n",
      "United States         3.176154e+08\n",
      "Japan                 1.274094e+08\n",
      "United Kingdom        6.387097e+07\n",
      "Russian Federation    1.435000e+08\n",
      "dtype: float64\n"
     ]
    }
   ],
   "source": [
    "pop=(energy_GDP['Energy Supply']/energy_GDP['Energy Supply per Capita']).astype(float)\n",
    "print(pop.head())"
   ]
  },
  {
   "cell_type": "markdown",
   "metadata": {},
   "source": [
    "#### 4(ii). What is the third most populous country according to this? (5)\n",
    "(Your answer should be a single string)"
   ]
  },
  {
   "cell_type": "code",
   "execution_count": 15,
   "metadata": {},
   "outputs": [
    {
     "name": "stdout",
     "output_type": "stream",
     "text": [
      "United States\n"
     ]
    }
   ],
   "source": [
    "pop.sort_values(ascending=False,inplace=True)\n",
    "print(pop.index[2])"
   ]
  },
  {
   "cell_type": "markdown",
   "metadata": {},
   "source": [
    "#### 5. Create a series with country as index and value 1 if the country's % Renewable is above the median % Renewable of the 15 countries and 0 otherwise. (5)\n",
    "(Your answer should be a series)"
   ]
  },
  {
   "cell_type": "code",
   "execution_count": 16,
   "metadata": {},
   "outputs": [
    {
     "name": "stdout",
     "output_type": "stream",
     "text": [
      "Country\n",
      "China                 1\n",
      "United States         0\n",
      "Japan                 0\n",
      "United Kingdom        0\n",
      "Russian Federation    1\n",
      "Canada                1\n",
      "Germany               1\n",
      "India                 0\n",
      "France                0\n",
      "South Korea           0\n",
      "Italy                 1\n",
      "Spain                 1\n",
      "Iran                  0\n",
      "Australia             0\n",
      "Brazil                1\n",
      "dtype: int64\n"
     ]
    }
   ],
   "source": [
    "med=energy_GDP['% Renewable'].median()\n",
    "ans=energy_GDP.apply(lambda x:1 if x['% Renewable']>med else 0,axis=1)\n",
    "print(ans)\n"
   ]
  },
  {
   "cell_type": "markdown",
   "metadata": {},
   "source": [
    "#### 6. Summary of continents (15)\n",
    "Group the countries by continent and display the following data for each continent: (All data regarding the given 15 countries)\n",
    "<ul>\n",
    "    <li><b>size</b>: The number of countries in this continent</li>\n",
    "    <li><b>sum</b>: Total population estimate of this continent</li>\n",
    "    <li><b>mean</b>: Mean country population in this continent</li>\n",
    "    <li><b>std</b>: Standard deviation of country population in this continent</li>\n",
    "</ul>\n",
    "Use the dictionary in the next cell to assign corresponding continent to each country.<br>\n",
    "(Your answer should be  a dataframe with index named Continent <code>['Asia', 'Australia', 'Europe', 'North America', 'South America']</code> and columns <code>['size', 'sum', 'mean', 'std']</code> and it will have two <code>NaN</code>)"
   ]
  },
  {
   "cell_type": "code",
   "execution_count": 17,
   "metadata": {},
   "outputs": [],
   "source": [
    "continents = {'China':'Asia', \n",
    "                  'United States':'North America', \n",
    "                  'Japan':'Asia', \n",
    "                  'United Kingdom':'Europe', \n",
    "                  'Russian Federation':'Europe', \n",
    "                  'Canada':'North America', \n",
    "                  'Germany':'Europe', \n",
    "                  'India':'Asia',\n",
    "                  'France':'Europe', \n",
    "                  'South Korea':'Asia', \n",
    "                  'Italy':'Europe', \n",
    "                  'Spain':'Europe', \n",
    "                  'Iran':'Asia',\n",
    "                  'Australia':'Australia', \n",
    "                  'Brazil':'South America'}"
   ]
  },
  {
   "cell_type": "code",
   "execution_count": 18,
   "metadata": {},
   "outputs": [
    {
     "name": "stdout",
     "output_type": "stream",
     "text": [
      "               size           sum          mean           std\n",
      "Asia            5.0  2.898666e+09  5.797333e+08  6.790979e+08\n",
      "Australia       1.0  2.331602e+07  2.331602e+07           NaN\n",
      "Europe          6.0  4.579297e+08  7.632161e+07  3.464767e+07\n",
      "North America   2.0  3.528552e+08  1.764276e+08  1.996696e+08\n",
      "South America   1.0  2.059153e+08  2.059153e+08           NaN\n"
     ]
    }
   ],
   "source": [
    "req=energy_GDP\n",
    "ans=pd.DataFrame(columns=['size','sum','mean','std'])\n",
    "req['Population']=pop\n",
    "for i,j in req.groupby(continents):\n",
    "    ans.loc[i]=[len(j),j['Population'].sum(),j['Population'].mean(),j['Population'].std()]\n",
    "print(ans)"
   ]
  }
 ],
 "metadata": {
  "kernelspec": {
   "display_name": "Python 3",
   "language": "python",
   "name": "python3"
  },
  "language_info": {
   "codemirror_mode": {
    "name": "ipython",
    "version": 3
   },
   "file_extension": ".py",
   "mimetype": "text/x-python",
   "name": "python",
   "nbconvert_exporter": "python",
   "pygments_lexer": "ipython3",
   "version": "3.7.6"
  }
 },
 "nbformat": 4,
 "nbformat_minor": 2
}
