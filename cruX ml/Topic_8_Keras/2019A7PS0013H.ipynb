{
 "cells": [
  {
   "cell_type": "markdown",
   "metadata": {
    "colab_type": "text",
    "id": "T9wmin_N-BiC"
   },
   "source": [
    "#Introduction\n"
   ]
  },
  {
   "cell_type": "markdown",
   "metadata": {
    "colab_type": "text",
    "id": "KQRzMEEa9wWm"
   },
   "source": [
    "Great! Hope that you have a good overview of how to build a basic artificial neural network in Keras. In this assignment, you'll build your own neural network to classify images of the fashion MNIST dataset"
   ]
  },
  {
   "cell_type": "markdown",
   "metadata": {
    "colab_type": "text",
    "id": "is_NgMth-EvE"
   },
   "source": [
    "#The Fashion MNIST Dataset"
   ]
  },
  {
   "cell_type": "markdown",
   "metadata": {
    "colab_type": "text",
    "id": "johq3huC-J-n"
   },
   "source": [
    "The fashion MNIST dataset is a dataset containing 70000 pictures of different clothing items. Each picture is a 28 x 28 pixel image, and belongs to one of 10 differnt classes. The dataset contains 60000 pictures for training and 10000 pictures for testing"
   ]
  },
  {
   "cell_type": "markdown",
   "metadata": {
    "colab_type": "text",
    "id": "qMO1f588_NS5"
   },
   "source": [
    "Each training and test example is assigned to one of the following labels:\n",
    "\n",
    "0:\tT-shirt/top\n",
    "\n",
    "1:\tTrouser\n",
    "\n",
    "2:\tPullover\n",
    "\n",
    "3:\tDress\n",
    "\n",
    "4:\tCoat\n",
    "\n",
    "5:\tSandal\n",
    "\n",
    "6:\tShirt\n",
    "\n",
    "7:\tSneaker\n",
    "\n",
    "8:\tBag\n",
    "\n",
    "9:\tAnkle boot"
   ]
  },
  {
   "cell_type": "markdown",
   "metadata": {
    "colab_type": "text",
    "id": "PfEsRSme1xBX"
   },
   "source": [
    "Please go through this link to understand the dataset better:\n",
    "https://github.com/zalandoresearch/fashion-mnist"
   ]
  },
  {
   "cell_type": "markdown",
   "metadata": {
    "colab_type": "text",
    "id": "c5dLDow5_0JO"
   },
   "source": [
    "# Loading the Fashion MNIST dataset"
   ]
  },
  {
   "cell_type": "code",
   "execution_count": 1,
   "metadata": {
    "colab": {
     "base_uri": "https://localhost:8080/",
     "height": 73
    },
    "colab_type": "code",
    "id": "n4QFodeNBRHy",
    "outputId": "9bba9788-56be-4784-ecc6-80d93efa51e3"
   },
   "outputs": [],
   "source": [
    "import numpy as np\n",
    "import pandas as pd\n",
    "import seaborn as sns\n",
    "import matplotlib.pyplot as plt\n",
    "%matplotlib inline"
   ]
  },
  {
   "cell_type": "markdown",
   "metadata": {
    "colab_type": "text",
    "id": "1wp-gaN5_4aG"
   },
   "source": [
    "A couple of datasets can easily be loaded into numpy arrays from keras, fashion MNIST being one of them. To store them we simply do the following:"
   ]
  },
  {
   "cell_type": "code",
   "execution_count": 2,
   "metadata": {
    "colab": {},
    "colab_type": "code",
    "id": "5MU8QW5dADUx"
   },
   "outputs": [
    {
     "name": "stderr",
     "output_type": "stream",
     "text": [
      "G:\\Coding\\Anaconda3\\envs\\deeplearning\\lib\\site-packages\\tensorflow\\python\\framework\\dtypes.py:516: FutureWarning: Passing (type, 1) or '1type' as a synonym of type is deprecated; in a future version of numpy, it will be understood as (type, (1,)) / '(1,)type'.\n",
      "  _np_qint8 = np.dtype([(\"qint8\", np.int8, 1)])\n",
      "G:\\Coding\\Anaconda3\\envs\\deeplearning\\lib\\site-packages\\tensorflow\\python\\framework\\dtypes.py:517: FutureWarning: Passing (type, 1) or '1type' as a synonym of type is deprecated; in a future version of numpy, it will be understood as (type, (1,)) / '(1,)type'.\n",
      "  _np_quint8 = np.dtype([(\"quint8\", np.uint8, 1)])\n",
      "G:\\Coding\\Anaconda3\\envs\\deeplearning\\lib\\site-packages\\tensorflow\\python\\framework\\dtypes.py:518: FutureWarning: Passing (type, 1) or '1type' as a synonym of type is deprecated; in a future version of numpy, it will be understood as (type, (1,)) / '(1,)type'.\n",
      "  _np_qint16 = np.dtype([(\"qint16\", np.int16, 1)])\n",
      "G:\\Coding\\Anaconda3\\envs\\deeplearning\\lib\\site-packages\\tensorflow\\python\\framework\\dtypes.py:519: FutureWarning: Passing (type, 1) or '1type' as a synonym of type is deprecated; in a future version of numpy, it will be understood as (type, (1,)) / '(1,)type'.\n",
      "  _np_quint16 = np.dtype([(\"quint16\", np.uint16, 1)])\n",
      "G:\\Coding\\Anaconda3\\envs\\deeplearning\\lib\\site-packages\\tensorflow\\python\\framework\\dtypes.py:520: FutureWarning: Passing (type, 1) or '1type' as a synonym of type is deprecated; in a future version of numpy, it will be understood as (type, (1,)) / '(1,)type'.\n",
      "  _np_qint32 = np.dtype([(\"qint32\", np.int32, 1)])\n",
      "G:\\Coding\\Anaconda3\\envs\\deeplearning\\lib\\site-packages\\tensorflow\\python\\framework\\dtypes.py:525: FutureWarning: Passing (type, 1) or '1type' as a synonym of type is deprecated; in a future version of numpy, it will be understood as (type, (1,)) / '(1,)type'.\n",
      "  np_resource = np.dtype([(\"resource\", np.ubyte, 1)])\n",
      "G:\\Coding\\Anaconda3\\envs\\deeplearning\\lib\\site-packages\\tensorboard\\compat\\tensorflow_stub\\dtypes.py:541: FutureWarning: Passing (type, 1) or '1type' as a synonym of type is deprecated; in a future version of numpy, it will be understood as (type, (1,)) / '(1,)type'.\n",
      "  _np_qint8 = np.dtype([(\"qint8\", np.int8, 1)])\n",
      "G:\\Coding\\Anaconda3\\envs\\deeplearning\\lib\\site-packages\\tensorboard\\compat\\tensorflow_stub\\dtypes.py:542: FutureWarning: Passing (type, 1) or '1type' as a synonym of type is deprecated; in a future version of numpy, it will be understood as (type, (1,)) / '(1,)type'.\n",
      "  _np_quint8 = np.dtype([(\"quint8\", np.uint8, 1)])\n",
      "G:\\Coding\\Anaconda3\\envs\\deeplearning\\lib\\site-packages\\tensorboard\\compat\\tensorflow_stub\\dtypes.py:543: FutureWarning: Passing (type, 1) or '1type' as a synonym of type is deprecated; in a future version of numpy, it will be understood as (type, (1,)) / '(1,)type'.\n",
      "  _np_qint16 = np.dtype([(\"qint16\", np.int16, 1)])\n",
      "G:\\Coding\\Anaconda3\\envs\\deeplearning\\lib\\site-packages\\tensorboard\\compat\\tensorflow_stub\\dtypes.py:544: FutureWarning: Passing (type, 1) or '1type' as a synonym of type is deprecated; in a future version of numpy, it will be understood as (type, (1,)) / '(1,)type'.\n",
      "  _np_quint16 = np.dtype([(\"quint16\", np.uint16, 1)])\n",
      "G:\\Coding\\Anaconda3\\envs\\deeplearning\\lib\\site-packages\\tensorboard\\compat\\tensorflow_stub\\dtypes.py:545: FutureWarning: Passing (type, 1) or '1type' as a synonym of type is deprecated; in a future version of numpy, it will be understood as (type, (1,)) / '(1,)type'.\n",
      "  _np_qint32 = np.dtype([(\"qint32\", np.int32, 1)])\n",
      "G:\\Coding\\Anaconda3\\envs\\deeplearning\\lib\\site-packages\\tensorboard\\compat\\tensorflow_stub\\dtypes.py:550: FutureWarning: Passing (type, 1) or '1type' as a synonym of type is deprecated; in a future version of numpy, it will be understood as (type, (1,)) / '(1,)type'.\n",
      "  np_resource = np.dtype([(\"resource\", np.ubyte, 1)])\n"
     ]
    }
   ],
   "source": [
    "import tensorflow as tf\n",
    "from tensorflow import keras\n",
    "(X_train, y_train), (X_test, y_test) = tf.keras.datasets.fashion_mnist.load_data()"
   ]
  },
  {
   "cell_type": "code",
   "execution_count": 3,
   "metadata": {
    "colab": {},
    "colab_type": "code",
    "id": "rR9AsufxANXx"
   },
   "outputs": [
    {
     "name": "stdout",
     "output_type": "stream",
     "text": [
      "(60000, 28, 28) (60000,) (10000, 28, 28) (10000,)\n"
     ]
    }
   ],
   "source": [
    "print(X_train.shape, y_train.shape, X_test.shape, y_test.shape)"
   ]
  },
  {
   "cell_type": "markdown",
   "metadata": {
    "colab_type": "text",
    "id": "mWzQVjHZAb2-"
   },
   "source": [
    "We see that the training data has 60000 examples with each picture being a 28 x 28 image. So the entire training data is stored as a 60000 x 28 x 28 numpy array. Similary, the test set has 10000 examples\n",
    "\n"
   ]
  },
  {
   "cell_type": "markdown",
   "metadata": {
    "colab_type": "text",
    "id": "vq-5LZhcBD6f"
   },
   "source": [
    "# Visualizing some of the images"
   ]
  },
  {
   "cell_type": "markdown",
   "metadata": {
    "colab_type": "text",
    "id": "Sug_8SRQBiSs"
   },
   "source": [
    "To represent the matrix of pixels as an image, we use the matplotlib *imshow()* function. Feel free to change the range of images and see the images of the test set too"
   ]
  },
  {
   "cell_type": "code",
   "execution_count": 4,
   "metadata": {
    "colab": {},
    "colab_type": "code",
    "id": "mlxbpkRkBGk8"
   },
   "outputs": [
    {
     "data": {
      "image/png": "[encoded data removed]",
      "text/plain": [
       "<Figure size 2160x432 with 10 Axes>"
      ]
     },
     "metadata": {
      "needs_background": "light"
     },
     "output_type": "display_data"
    }
   ],
   "source": [
    "n = 10  \n",
    "plt.figure(figsize=(30,6))\n",
    "for i in range(n):\n",
    "    ax = plt.subplot(3, n, i + 1)\n",
    "    plt.gray()\n",
    "    plt.imshow(X_train[i])"
   ]
  },
  {
   "cell_type": "markdown",
   "metadata": {
    "colab_type": "text",
    "id": "yuzcIIaeB32a"
   },
   "source": [
    "# **Data Preprocessing**"
   ]
  },
  {
   "cell_type": "markdown",
   "metadata": {
    "colab_type": "text",
    "id": "mGaAncy5C4kj"
   },
   "source": [
    "##Reshaping the matrices"
   ]
  },
  {
   "cell_type": "markdown",
   "metadata": {
    "colab_type": "text",
    "id": "APYZ5dAsCA8n"
   },
   "source": [
    "Each training and testing example is a 28 x 28 matrix. The entire dataset is a 3 dimensional numpy array. However, to train the dataset as a whole in an ANN, we need a 2 dimensional array. Reshape X_train and X_test so that they are 2 dimensional, with number of rows being intact. The number of columns has to be set by you. (Hint: 28 x 28 image has to be reshaped into one dimension)"
   ]
  },
  {
   "cell_type": "code",
   "execution_count": 5,
   "metadata": {
    "colab": {},
    "colab_type": "code",
    "id": "HZpGIS55CvWK"
   },
   "outputs": [
    {
     "name": "stdout",
     "output_type": "stream",
     "text": [
      "(60000, 784)\n"
     ]
    }
   ],
   "source": [
    "X_train =X_train.reshape(X_train.shape[0],(X_train.shape[1]*X_train.shape[2]))\n",
    "X_test   =X_test.reshape(X_test.shape[0],(X_test.shape[1]*X_test.shape[2]))\n",
    "print(X_train.shape)"
   ]
  },
  {
   "cell_type": "markdown",
   "metadata": {
    "colab_type": "text",
    "id": "FftqQvk2DIWw"
   },
   "source": [
    "##Normalizing the data"
   ]
  },
  {
   "cell_type": "markdown",
   "metadata": {
    "colab_type": "text",
    "id": "qusXF078EMyj"
   },
   "source": [
    "Previously we used standardization of data, which is performing the mathematical operation $$\\frac{X-\\mu}{\\sigma}$$ on each feature.\n",
    "\n",
    "Now we will be *normalizing data* which is equivalent to performing the mathematical operation $$ \\frac{X - X_{min}}{X_{max} - X_{min}} $$ on each feature.\n",
    "\n",
    "Use scikit learn's MinMaxScaler to normalize the data. Feel free to Google the answer."
   ]
  },
  {
   "cell_type": "code",
   "execution_count": 6,
   "metadata": {
    "colab": {},
    "colab_type": "code",
    "id": "RqyYBpq8F5Ii"
   },
   "outputs": [],
   "source": [
    "\"\"\"Normalization of data. Your code goes below\"\"\"\n",
    "X_train=(X_train-X_train.min(axis=0))/(X_train.max(axis=0)-X_train.min(axis=0))\n",
    "X_test=(X_test-X_test.min(axis=0))/(X_test.max(axis=0)-X_test.min(axis=0))"
   ]
  },
  {
   "cell_type": "markdown",
   "metadata": {
    "colab_type": "text",
    "id": "cFB6NGki2RuT"
   },
   "source": [
    "## One hot encoding of labels"
   ]
  },
  {
   "cell_type": "code",
   "execution_count": 7,
   "metadata": {
    "colab": {},
    "colab_type": "code",
    "id": "KN7GLFhiIaeb"
   },
   "outputs": [],
   "source": [
    "\"\"\"Now convert both y_train and y_test into their one hot encodings. Your code goes below\"\"\"\n",
    "y_train=tf.keras.utils.to_categorical(y_train)\n",
    "y_test=tf.keras.utils.to_categorical(y_test)"
   ]
  },
  {
   "cell_type": "markdown",
   "metadata": {
    "colab_type": "text",
    "id": "gZRm3T5FHCTr"
   },
   "source": [
    "#**MAKING THE NEURAL NETWORK MODEL**"
   ]
  },
  {
   "cell_type": "markdown",
   "metadata": {
    "colab_type": "text",
    "id": "Ee2e0c_tHOq2"
   },
   "source": [
    "We now leave the task of making an appropriate neural network model upto you. Use the Sequential model and tweak the number of layers, number of neurons, regularization , dropout rate and other stuff until you get a fairly accurate model. Remember to solve overfitting as much as possible."
   ]
  },
  {
   "cell_type": "code",
   "execution_count": 8,
   "metadata": {
    "colab": {},
    "colab_type": "code",
    "id": "30Hcdx5cHuv0"
   },
   "outputs": [
    {
     "name": "stdout",
     "output_type": "stream",
     "text": [
      "WARNING:tensorflow:From G:\\Coding\\Anaconda3\\envs\\deeplearning\\lib\\site-packages\\tensorflow\\python\\ops\\init_ops.py:1251: calling VarianceScaling.__init__ (from tensorflow.python.ops.init_ops) with dtype is deprecated and will be removed in a future version.\n",
      "Instructions for updating:\n",
      "Call initializer instance with the dtype argument instead of passing it to the constructor\n"
     ]
    },
    {
     "name": "stderr",
     "output_type": "stream",
     "text": [
      "Using TensorFlow backend.\n"
     ]
    },
    {
     "name": "stdout",
     "output_type": "stream",
     "text": [
      "Model: \"sequential\"\n",
      "_________________________________________________________________\n",
      "Layer (type)                 Output Shape              Param #   \n",
      "=================================================================\n",
      "dense (Dense)                (None, 256)               200960    \n",
      "_________________________________________________________________\n",
      "dense_1 (Dense)              (None, 128)               32896     \n",
      "_________________________________________________________________\n",
      "dense_2 (Dense)              (None, 10)                1290      \n",
      "=================================================================\n",
      "Total params: 235,146\n",
      "Trainable params: 235,146\n",
      "Non-trainable params: 0\n",
      "_________________________________________________________________\n"
     ]
    }
   ],
   "source": [
    "from keras.layers import LeakyReLU\n",
    "from keras import regularizers\n",
    "\"\"\"Your neural network model goes below\"\"\"\n",
    "tf.keras.backend.clear_session()\n",
    "model=tf.keras.Sequential()\n",
    "model.add(tf.keras.Input(shape=784,))\n",
    "model.add(tf.keras.layers.Dense(units=256,activation=keras.layers.LeakyReLU(alpha=0.01),activity_regularizer=tf.keras.regularizers.l1()))\n",
    "#model.add(tf.keras.layers.BatchNormalization())\n",
    "model.add(tf.keras.layers.Dense(units=128,activation=keras.layers.LeakyReLU(alpha=0.01),activity_regularizer=tf.keras.regularizers.l1()))\n",
    "#model.add(tf.keras.layers.BatchNormalization())\n",
    "model.add(tf.keras.layers.Dense(units=10,activation='softmax'))\n",
    "model.summary()"
   ]
  },
  {
   "cell_type": "code",
   "execution_count": 9,
   "metadata": {
    "colab": {},
    "colab_type": "code",
    "id": "axxKzEgIIDth"
   },
   "outputs": [],
   "source": [
    "\"\"\"Use the compile() method to compile your model\"\"\"\n",
    "model.compile(loss=tf.keras.losses.CategoricalCrossentropy(from_logits=True),optimizer='adam',metrics=['accuracy'])"
   ]
  },
  {
   "cell_type": "code",
   "execution_count": null,
   "metadata": {
    "colab": {},
    "colab_type": "code",
    "id": "HgmkQLPcIMn0"
   },
   "outputs": [
    {
     "name": "stdout",
     "output_type": "stream",
     "text": [
      "Train on 60000 samples, validate on 10000 samples\n"
     ]
    }
   ],
   "source": [
    "\"\"\"Fit the model using the fit() method and store it in a variable\"\"\"\n",
    "keras_history = model.fit(X_train, y_train ,batch_size=1000,epochs=20, validation_data=(X_test, y_test))"
   ]
  },
  {
   "cell_type": "code",
   "execution_count": null,
   "metadata": {
    "colab": {},
    "colab_type": "code",
    "id": "I9avi-N8IcAM"
   },
   "outputs": [],
   "source": [
    "\"\"\"Plot the training loss, test loss withe each epoch\"\"\"\n",
    "import matplotlib.pyplot as plt\n",
    "plt.plot(keras_history.history['loss'], label='Training loss')\n",
    "plt.plot(keras_history.history['val_loss'], color='red', label='Test loss')\n",
    "plt.legend()"
   ]
  },
  {
   "cell_type": "code",
   "execution_count": null,
   "metadata": {
    "colab": {},
    "colab_type": "code",
    "id": "n_4FbaZYJBH9"
   },
   "outputs": [],
   "source": [
    "\"\"\"Plot the training accuracy, test accuracy with each epoch\"\"\"\n",
    "import matplotlib.pyplot as plt\n",
    "plt.plot(keras_history.history['accuracy'], label='Training accuracy')\n",
    "plt.plot(keras_history.history['val_accuracy'], color='red', label='Test accuracy')\n",
    "plt.legend()"
   ]
  },
  {
   "cell_type": "markdown",
   "metadata": {
    "colab_type": "text",
    "id": "ZirCc_Oy3OD6"
   },
   "source": [
    "# NEURAL NETWORK WITH REGULARIZATION"
   ]
  },
  {
   "cell_type": "markdown",
   "metadata": {
    "colab_type": "text",
    "id": "JHT7h1me3V_P"
   },
   "source": [
    "Now make a neural network model with l2 regularization. Add batch normalization and see if it helps. Please name the Sequential model with something other than \"model\""
   ]
  },
  {
   "cell_type": "code",
   "execution_count": 13,
   "metadata": {
    "colab": {},
    "colab_type": "code",
    "id": "t7-LwgnC3nks"
   },
   "outputs": [
    {
     "name": "stdout",
     "output_type": "stream",
     "text": [
      "Model: \"sequential\"\n",
      "_________________________________________________________________\n",
      "Layer (type)                 Output Shape              Param #   \n",
      "=================================================================\n",
      "dense (Dense)                (None, 256)               200960    \n",
      "_________________________________________________________________\n",
      "batch_normalization (BatchNo (None, 256)               1024      \n",
      "_________________________________________________________________\n",
      "dense_1 (Dense)              (None, 128)               32896     \n",
      "_________________________________________________________________\n",
      "batch_normalization_1 (Batch (None, 128)               512       \n",
      "_________________________________________________________________\n",
      "dense_2 (Dense)              (None, 10)                1290      \n",
      "=================================================================\n",
      "Total params: 236,682\n",
      "Trainable params: 235,914\n",
      "Non-trainable params: 768\n",
      "_________________________________________________________________\n",
      "Epoch 1/20\n",
      "60/60 [==============================] - 1s 20ms/step - loss: 1.8673 - accuracy: 0.7873 - val_loss: 2.3157 - val_accuracy: 0.3739\n",
      "Epoch 2/20\n",
      "60/60 [==============================] - 1s 17ms/step - loss: 1.6652 - accuracy: 0.8629 - val_loss: 2.3139 - val_accuracy: 0.1958\n",
      "Epoch 3/20\n",
      "60/60 [==============================] - 1s 19ms/step - loss: 1.6331 - accuracy: 0.8755 - val_loss: 2.3051 - val_accuracy: 0.1813\n",
      "Epoch 4/20\n",
      "60/60 [==============================] - 1s 19ms/step - loss: 1.6145 - accuracy: 0.8831 - val_loss: 2.2818 - val_accuracy: 0.2880\n",
      "Epoch 5/20\n",
      "60/60 [==============================] - 1s 17ms/step - loss: 1.6027 - accuracy: 0.8895 - val_loss: 2.2398 - val_accuracy: 0.3798\n",
      "Epoch 6/20\n",
      "60/60 [==============================] - 1s 21ms/step - loss: 1.5963 - accuracy: 0.8911 - val_loss: 2.0569 - val_accuracy: 0.6294\n",
      "Epoch 7/20\n",
      "60/60 [==============================] - 1s 17ms/step - loss: 1.5925 - accuracy: 0.8918 - val_loss: 1.9138 - val_accuracy: 0.7737\n",
      "Epoch 8/20\n",
      "60/60 [==============================] - 1s 17ms/step - loss: 1.5884 - accuracy: 0.8934 - val_loss: 1.7268 - val_accuracy: 0.8398\n",
      "Epoch 9/20\n",
      "60/60 [==============================] - 1s 19ms/step - loss: 1.5816 - accuracy: 0.8977 - val_loss: 1.6580 - val_accuracy: 0.8450\n",
      "Epoch 10/20\n",
      "60/60 [==============================] - 1s 19ms/step - loss: 1.5795 - accuracy: 0.8993 - val_loss: 1.6305 - val_accuracy: 0.8547\n",
      "Epoch 11/20\n",
      "60/60 [==============================] - 2s 26ms/step - loss: 1.5774 - accuracy: 0.9001 - val_loss: 1.6308 - val_accuracy: 0.8442\n",
      "Epoch 12/20\n",
      "60/60 [==============================] - 1s 20ms/step - loss: 1.5729 - accuracy: 0.9041 - val_loss: 1.6226 - val_accuracy: 0.8564\n",
      "Epoch 13/20\n",
      "60/60 [==============================] - 1s 16ms/step - loss: 1.5726 - accuracy: 0.9038 - val_loss: 1.6276 - val_accuracy: 0.8497\n",
      "Epoch 14/20\n",
      "60/60 [==============================] - 1s 21ms/step - loss: 1.5727 - accuracy: 0.9030 - val_loss: 1.6530 - val_accuracy: 0.8281\n",
      "Epoch 15/20\n",
      "60/60 [==============================] - 1s 24ms/step - loss: 1.5684 - accuracy: 0.9066 - val_loss: 1.6243 - val_accuracy: 0.8564\n",
      "Epoch 16/20\n",
      "60/60 [==============================] - 2s 28ms/step - loss: 1.5644 - accuracy: 0.9100 - val_loss: 1.6101 - val_accuracy: 0.8650\n",
      "Epoch 17/20\n",
      "60/60 [==============================] - 1s 21ms/step - loss: 1.5627 - accuracy: 0.9111 - val_loss: 1.6261 - val_accuracy: 0.8515\n",
      "Epoch 18/20\n",
      "60/60 [==============================] - 1s 18ms/step - loss: 1.5612 - accuracy: 0.9125 - val_loss: 1.6050 - val_accuracy: 0.8687\n",
      "Epoch 19/20\n",
      "60/60 [==============================] - 1s 17ms/step - loss: 1.5593 - accuracy: 0.9139 - val_loss: 1.6091 - val_accuracy: 0.8641\n",
      "Epoch 20/20\n",
      "60/60 [==============================] - 1s 18ms/step - loss: 1.5580 - accuracy: 0.9150 - val_loss: 1.6102 - val_accuracy: 0.8643\n"
     ]
    },
    {
     "data": {
      "image/png": "[encoded data removed]",
      "text/plain": [
       "<Figure size 432x288 with 1 Axes>"
      ]
     },
     "metadata": {
      "needs_background": "light"
     },
     "output_type": "display_data"
    },
    {
     "data": {
      "image/png": "[encoded data removed]",
      "text/plain": [
       "<Figure size 432x288 with 1 Axes>"
      ]
     },
     "metadata": {
      "needs_background": "light"
     },
     "output_type": "display_data"
    }
   ],
   "source": [
    "\"\"\"YOUR CODE GOES BELOW\"\"\"\n",
    "from keras.layers import LeakyReLU\n",
    "from keras import regularizers\n",
    "tf.keras.backend.clear_session()\n",
    "model2=tf.keras.Sequential()\n",
    "model2.add(tf.keras.Input(shape=784,))\n",
    "model2.add(tf.keras.layers.Dense(units=256,activation=keras.layers.LeakyReLU(alpha=0.01),activity_regularizer=tf.keras.regularizers.l2(0.005)))\n",
    "model2.add(tf.keras.layers.BatchNormalization())\n",
    "model2.add(tf.keras.layers.Dense(units=128,activation=keras.layers.LeakyReLU(alpha=0.01),activity_regularizer=tf.keras.regularizers.l2(0.005)))\n",
    "model2.add(tf.keras.layers.BatchNormalization())\n",
    "model2.add(tf.keras.layers.Dense(units=10,activation='softmax'))\n",
    "model2.summary()\n",
    "model2.compile(loss=tf.keras.losses.CategoricalCrossentropy(from_logits=True),optimizer='adam',metrics=['accuracy'])\n",
    "keras_history = model2.fit(X_train, y_train ,batch_size=1000,epochs=20, validation_data=(X_test, y_test))\n",
    "import matplotlib.pyplot as plt\n",
    "plt.plot(keras_history.history['loss'], label='Training loss')\n",
    "plt.plot(keras_history.history['val_loss'], color='red', label='Test loss')\n",
    "plt.legend()\n",
    "plt.show()\n",
    "plt.plot(keras_history.history['accuracy'], label='Training accuracy')\n",
    "plt.plot(keras_history.history['val_accuracy'], color='red', label='Test accuracy')\n",
    "plt.legend()\n",
    "plt.show()"
   ]
  },
  {
   "cell_type": "markdown",
   "metadata": {
    "colab_type": "text",
    "id": "t7bg8RhT37ya"
   },
   "source": [
    "# NEURAL NETWORK WITH DROPOUT "
   ]
  },
  {
   "cell_type": "markdown",
   "metadata": {
    "colab_type": "text",
    "id": "FkXeu04y4B31"
   },
   "source": [
    "Now implement the same neural network as above, but using dropout, and no regularization. Name the model differently."
   ]
  },
  {
   "cell_type": "code",
   "execution_count": 14,
   "metadata": {
    "colab": {},
    "colab_type": "code",
    "id": "VyPeLTke4Q1j"
   },
   "outputs": [
    {
     "name": "stdout",
     "output_type": "stream",
     "text": [
      "Model: \"sequential\"\n",
      "_________________________________________________________________\n",
      "Layer (type)                 Output Shape              Param #   \n",
      "=================================================================\n",
      "dense (Dense)                (None, 256)               200960    \n",
      "_________________________________________________________________\n",
      "batch_normalization (BatchNo (None, 256)               1024      \n",
      "_________________________________________________________________\n",
      "dropout (Dropout)            (None, 256)               0         \n",
      "_________________________________________________________________\n",
      "dense_1 (Dense)              (None, 128)               32896     \n",
      "_________________________________________________________________\n",
      "batch_normalization_1 (Batch (None, 128)               512       \n",
      "_________________________________________________________________\n",
      "dropout_1 (Dropout)          (None, 128)               0         \n",
      "_________________________________________________________________\n",
      "dense_2 (Dense)              (None, 10)                1290      \n",
      "=================================================================\n",
      "Total params: 236,682\n",
      "Trainable params: 235,914\n",
      "Non-trainable params: 768\n",
      "_________________________________________________________________\n",
      "Epoch 1/20\n",
      "60/60 [==============================] - 1s 18ms/step - loss: 1.7098 - accuracy: 0.7710 - val_loss: 1.8434 - val_accuracy: 0.7549\n",
      "Epoch 2/20\n",
      "60/60 [==============================] - 2s 25ms/step - loss: 1.6203 - accuracy: 0.8492 - val_loss: 1.7007 - val_accuracy: 0.8179\n",
      "Epoch 3/20\n",
      "60/60 [==============================] - 2s 26ms/step - loss: 1.6043 - accuracy: 0.8631 - val_loss: 1.6521 - val_accuracy: 0.8403\n",
      "Epoch 4/20\n",
      "60/60 [==============================] - 1s 19ms/step - loss: 1.5963 - accuracy: 0.8701 - val_loss: 1.6389 - val_accuracy: 0.8384\n",
      "Epoch 5/20\n",
      "60/60 [==============================] - 1s 18ms/step - loss: 1.5904 - accuracy: 0.8752 - val_loss: 1.6168 - val_accuracy: 0.8545\n",
      "Epoch 6/20\n",
      "60/60 [==============================] - 1s 18ms/step - loss: 1.5849 - accuracy: 0.8795 - val_loss: 1.6137 - val_accuracy: 0.8537\n",
      "Epoch 7/20\n",
      "60/60 [==============================] - 1s 19ms/step - loss: 1.5830 - accuracy: 0.8821 - val_loss: 1.6119 - val_accuracy: 0.8520\n",
      "Epoch 8/20\n",
      "60/60 [==============================] - 1s 18ms/step - loss: 1.5807 - accuracy: 0.8833 - val_loss: 1.6065 - val_accuracy: 0.8575\n",
      "Epoch 9/20\n",
      "60/60 [==============================] - 1s 18ms/step - loss: 1.5772 - accuracy: 0.8866 - val_loss: 1.5978 - val_accuracy: 0.8663\n",
      "Epoch 10/20\n",
      "60/60 [==============================] - 1s 19ms/step - loss: 1.5746 - accuracy: 0.8890 - val_loss: 1.5973 - val_accuracy: 0.8648\n",
      "Epoch 11/20\n",
      "60/60 [==============================] - 1s 18ms/step - loss: 1.5746 - accuracy: 0.8887 - val_loss: 1.6074 - val_accuracy: 0.8551\n",
      "Epoch 12/20\n",
      "60/60 [==============================] - 1s 18ms/step - loss: 1.5724 - accuracy: 0.8913 - val_loss: 1.6008 - val_accuracy: 0.8625\n",
      "Epoch 13/20\n",
      "60/60 [==============================] - 1s 18ms/step - loss: 1.5709 - accuracy: 0.8929 - val_loss: 1.6065 - val_accuracy: 0.8564\n",
      "Epoch 14/20\n",
      "60/60 [==============================] - 1s 18ms/step - loss: 1.5708 - accuracy: 0.8922 - val_loss: 1.6239 - val_accuracy: 0.8382\n",
      "Epoch 15/20\n",
      "60/60 [==============================] - 1s 18ms/step - loss: 1.5705 - accuracy: 0.8928 - val_loss: 1.6008 - val_accuracy: 0.8603\n",
      "Epoch 16/20\n",
      "60/60 [==============================] - 1s 19ms/step - loss: 1.5698 - accuracy: 0.8931 - val_loss: 1.6160 - val_accuracy: 0.8467\n",
      "Epoch 17/20\n",
      "60/60 [==============================] - 2s 27ms/step - loss: 1.5680 - accuracy: 0.8954 - val_loss: 1.5936 - val_accuracy: 0.8675\n",
      "Epoch 18/20\n",
      "60/60 [==============================] - 2s 30ms/step - loss: 1.5658 - accuracy: 0.8973 - val_loss: 1.6034 - val_accuracy: 0.8579\n",
      "Epoch 19/20\n",
      "60/60 [==============================] - 1s 18ms/step - loss: 1.5658 - accuracy: 0.8972 - val_loss: 1.5909 - val_accuracy: 0.8709\n",
      "Epoch 20/20\n",
      "60/60 [==============================] - 1s 18ms/step - loss: 1.5651 - accuracy: 0.8972 - val_loss: 1.5929 - val_accuracy: 0.8679\n"
     ]
    },
    {
     "data": {
      "image/png": "[encoded data removed]",
      "text/plain": [
       "<Figure size 432x288 with 1 Axes>"
      ]
     },
     "metadata": {
      "needs_background": "light"
     },
     "output_type": "display_data"
    },
    {
     "data": {
      "image/png": "[encoded data removed]",
      "text/plain": [
       "<Figure size 432x288 with 1 Axes>"
      ]
     },
     "metadata": {
      "needs_background": "light"
     },
     "output_type": "display_data"
    }
   ],
   "source": [
    "\"\"\"YOUR CODE GOES BELOW\"\"\"\n",
    "from keras.layers import LeakyReLU\n",
    "from keras import regularizers\n",
    "tf.keras.backend.clear_session()\n",
    "model3=tf.keras.Sequential()\n",
    "model3.add(tf.keras.Input(shape=784,))\n",
    "model3.add(tf.keras.layers.Dense(units=256,activation=keras.layers.LeakyReLU(alpha=0.01)))\n",
    "model3.add(tf.keras.layers.BatchNormalization())\n",
    "model3.add(tf.keras.layers.Dropout(0.2))\n",
    "model3.add(tf.keras.layers.Dense(units=128,activation=keras.layers.LeakyReLU(alpha=0.01)))\n",
    "model3.add(tf.keras.layers.BatchNormalization())\n",
    "model3.add(tf.keras.layers.Dropout(0.2))\n",
    "model3.add(tf.keras.layers.Dense(units=10,activation='softmax'))\n",
    "model3.summary()\n",
    "model3.compile(loss=tf.keras.losses.CategoricalCrossentropy(from_logits=True),optimizer='adam',metrics=['accuracy'])\n",
    "keras_history = model3.fit(X_train, y_train ,batch_size=1000,epochs=20, validation_data=(X_test, y_test))\n",
    "import matplotlib.pyplot as plt\n",
    "plt.plot(keras_history.history['loss'], label='Training loss')\n",
    "plt.plot(keras_history.history['val_loss'], color='red', label='Test loss')\n",
    "plt.legend()\n",
    "plt.show()\n",
    "plt.plot(keras_history.history['accuracy'], label='Training accuracy')\n",
    "plt.plot(keras_history.history['val_accuracy'], color='red', label='Test accuracy')\n",
    "plt.legend()\n",
    "plt.show()\n"
   ]
  },
  {
   "cell_type": "markdown",
   "metadata": {
    "colab_type": "text",
    "id": "QJBFLyX54WP3"
   },
   "source": [
    "#USING COMBINATION OF DIFFERENT OVERFITTING TECHNIQUES"
   ]
  },
  {
   "cell_type": "markdown",
   "metadata": {
    "colab_type": "text",
    "id": "zt8540M44d9t"
   },
   "source": [
    "Now use different combinations of overfitting techniques to get a good test accuracy."
   ]
  },
  {
   "cell_type": "code",
   "execution_count": 15,
   "metadata": {
    "colab": {},
    "colab_type": "code",
    "id": "mKQb7PIh4m13"
   },
   "outputs": [
    {
     "name": "stdout",
     "output_type": "stream",
     "text": [
      "Model: \"sequential\"\n",
      "_________________________________________________________________\n",
      "Layer (type)                 Output Shape              Param #   \n",
      "=================================================================\n",
      "dense (Dense)                (None, 512)               401920    \n",
      "_________________________________________________________________\n",
      "dense_1 (Dense)              (None, 256)               131328    \n",
      "_________________________________________________________________\n",
      "dense_2 (Dense)              (None, 10)                2570      \n",
      "=================================================================\n",
      "Total params: 535,818\n",
      "Trainable params: 535,818\n",
      "Non-trainable params: 0\n",
      "_________________________________________________________________\n",
      "Epoch 1/25\n",
      "60/60 [==============================] - 2s 31ms/step - loss: 2.4041 - accuracy: 0.1303 - val_loss: 2.3503 - val_accuracy: 0.1238\n",
      "Epoch 2/25\n",
      "60/60 [==============================] - 2s 30ms/step - loss: 2.3406 - accuracy: 0.1588 - val_loss: 2.3335 - val_accuracy: 0.1817\n",
      "Epoch 3/25\n",
      "60/60 [==============================] - 2s 28ms/step - loss: 2.3157 - accuracy: 0.1181 - val_loss: 2.2797 - val_accuracy: 0.1000\n",
      "Epoch 4/25\n",
      "60/60 [==============================] - 2s 29ms/step - loss: 2.2708 - accuracy: 0.1543 - val_loss: 2.2656 - val_accuracy: 0.1963\n",
      "Epoch 5/25\n",
      "60/60 [==============================] - 2s 29ms/step - loss: 2.2612 - accuracy: 0.1984 - val_loss: 2.2597 - val_accuracy: 0.2031\n",
      "Epoch 6/25\n",
      "60/60 [==============================] - 2s 30ms/step - loss: 2.2546 - accuracy: 0.2180 - val_loss: 2.2530 - val_accuracy: 0.2119\n",
      "Epoch 7/25\n",
      "60/60 [==============================] - 2s 31ms/step - loss: 2.2247 - accuracy: 0.2625 - val_loss: 2.1997 - val_accuracy: 0.3047\n",
      "Epoch 8/25\n",
      "60/60 [==============================] - 2s 30ms/step - loss: 2.1901 - accuracy: 0.3993 - val_loss: 2.1811 - val_accuracy: 0.4647\n",
      "Epoch 9/25\n",
      "60/60 [==============================] - 2s 32ms/step - loss: 2.0987 - accuracy: 0.4843 - val_loss: 2.0682 - val_accuracy: 0.5437\n",
      "Epoch 10/25\n",
      "60/60 [==============================] - 2s 30ms/step - loss: 2.0239 - accuracy: 0.5943 - val_loss: 1.9998 - val_accuracy: 0.6478\n",
      "Epoch 11/25\n",
      "60/60 [==============================] - 2s 29ms/step - loss: 1.9176 - accuracy: 0.7140 - val_loss: 1.8701 - val_accuracy: 0.7467\n",
      "Epoch 12/25\n",
      "60/60 [==============================] - 2s 28ms/step - loss: 1.8433 - accuracy: 0.7584 - val_loss: 1.8358 - val_accuracy: 0.7529\n",
      "Epoch 13/25\n",
      "60/60 [==============================] - 2s 29ms/step - loss: 1.7940 - accuracy: 0.8214 - val_loss: 1.7824 - val_accuracy: 0.8397\n",
      "Epoch 14/25\n",
      "60/60 [==============================] - 2s 37ms/step - loss: 1.7462 - accuracy: 0.8641 - val_loss: 1.7546 - val_accuracy: 0.8534\n",
      "Epoch 15/25\n",
      "60/60 [==============================] - 2s 41ms/step - loss: 1.7280 - accuracy: 0.8746 - val_loss: 1.7449 - val_accuracy: 0.8559\n",
      "Epoch 16/25\n",
      "60/60 [==============================] - 2s 34ms/step - loss: 1.7181 - accuracy: 0.8781 - val_loss: 1.7378 - val_accuracy: 0.8591\n",
      "Epoch 17/25\n",
      "60/60 [==============================] - 2s 28ms/step - loss: 1.7085 - accuracy: 0.8834 - val_loss: 1.7291 - val_accuracy: 0.8572\n",
      "Epoch 18/25\n",
      "60/60 [==============================] - 2s 31ms/step - loss: 1.7006 - accuracy: 0.8856 - val_loss: 1.7213 - val_accuracy: 0.8608\n",
      "Epoch 19/25\n",
      "60/60 [==============================] - 2s 28ms/step - loss: 1.6937 - accuracy: 0.8893 - val_loss: 1.7170 - val_accuracy: 0.8633\n",
      "Epoch 20/25\n",
      "60/60 [==============================] - 2s 28ms/step - loss: 1.6894 - accuracy: 0.8927 - val_loss: 1.7167 - val_accuracy: 0.8658\n",
      "Epoch 21/25\n",
      "60/60 [==============================] - 2s 29ms/step - loss: 1.6839 - accuracy: 0.8963 - val_loss: 1.7163 - val_accuracy: 0.8673\n",
      "Epoch 22/25\n",
      "60/60 [==============================] - 2s 29ms/step - loss: 1.6774 - accuracy: 0.8997 - val_loss: 1.7087 - val_accuracy: 0.8668\n",
      "Epoch 23/25\n",
      "60/60 [==============================] - 2s 35ms/step - loss: 1.6745 - accuracy: 0.9014 - val_loss: 1.7058 - val_accuracy: 0.8712\n",
      "Epoch 24/25\n",
      "60/60 [==============================] - 2s 39ms/step - loss: 1.6703 - accuracy: 0.9038 - val_loss: 1.7044 - val_accuracy: 0.8683\n",
      "Epoch 25/25\n",
      "60/60 [==============================] - 2s 30ms/step - loss: 1.6686 - accuracy: 0.9045 - val_loss: 1.7014 - val_accuracy: 0.8715\n"
     ]
    },
    {
     "data": {
      "image/png": "[encoded data removed]",
      "text/plain": [
       "<Figure size 432x288 with 1 Axes>"
      ]
     },
     "metadata": {
      "needs_background": "light"
     },
     "output_type": "display_data"
    },
    {
     "data": {
      "image/png": "[encoded data removed]",
      "text/plain": [
       "<Figure size 432x288 with 1 Axes>"
      ]
     },
     "metadata": {
      "needs_background": "light"
     },
     "output_type": "display_data"
    }
   ],
   "source": [
    "\"\"\"YOUR CODE GOES BELOW\"\"\"\n",
    "\"\"\"YOUR CODE GOES BELOW\"\"\"\n",
    "from keras.layers import LeakyReLU\n",
    "from keras import regularizers\n",
    "tf.keras.backend.clear_session()\n",
    "model4=tf.keras.Sequential()\n",
    "model4.add(tf.keras.Input(shape=784,))\n",
    "model4.add(tf.keras.layers.Dense(units=512,activation=keras.layers.LeakyReLU(alpha=0.01),activity_regularizer=tf.keras.regularizers.l1()))\n",
    "model4.add(tf.keras.layers.Dense(units=256,activation=keras.layers.LeakyReLU(alpha=0.01),activity_regularizer=tf.keras.regularizers.l1()))\n",
    "model4.add(tf.keras.layers.Dense(units=10,activation='softmax'))\n",
    "model4.summary()\n",
    "model4.compile(loss=tf.keras.losses.CategoricalCrossentropy(from_logits=True),optimizer='adam',metrics=['accuracy'])\n",
    "keras_history = model4.fit(X_train, y_train ,batch_size=1000,epochs=25, validation_data=(X_test, y_test))\n",
    "import matplotlib.pyplot as plt\n",
    "plt.plot(keras_history.history['loss'], label='Training loss')\n",
    "plt.plot(keras_history.history['val_loss'], color='red', label='Test loss')\n",
    "plt.legend()\n",
    "plt.show()\n",
    "plt.plot(keras_history.history['accuracy'], label='Training accuracy')\n",
    "plt.plot(keras_history.history['val_accuracy'], color='red', label='Test accuracy')\n",
    "plt.legend()\n",
    "plt.show()\n"
   ]
  },
  {
   "cell_type": "markdown",
   "metadata": {
    "colab_type": "text",
    "id": "cogT05WM4uWq"
   },
   "source": [
    "Great! Hope you had fun playing around with the neural network. With this you've come to the end of the artificial neural networks section. Note that there are different types of neural networks, with each performing well in different areas.\n",
    "\n",
    "Happy Learning!"
   ]
  },
  {
   "cell_type": "code",
   "execution_count": null,
   "metadata": {},
   "outputs": [],
   "source": []
  }
 ],
 "metadata": {
  "colab": {
   "collapsed_sections": [],
   "name": "KerasAssignment.ipynb",
   "provenance": [],
   "toc_visible": true
  },
  "kernelspec": {
   "display_name": "Python 3",
   "language": "python",
   "name": "python3"
  },
  "language_info": {
   "codemirror_mode": {
    "name": "ipython",
    "version": 3
   },
   "file_extension": ".py",
   "mimetype": "text/x-python",
   "name": "python",
   "nbconvert_exporter": "python",
   "pygments_lexer": "ipython3",
   "version": "3.6.10"
  }
 },
 "nbformat": 4,
 "nbformat_minor": 1
}
