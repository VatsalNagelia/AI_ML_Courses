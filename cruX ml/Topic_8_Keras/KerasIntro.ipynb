{
 "cells": [
  {
   "cell_type": "markdown",
   "metadata": {
    "colab_type": "text",
    "id": "l-J9dvmz-JbK"
   },
   "source": [
    "# Deep Learning Frameworks\n",
    "\n"
   ]
  },
  {
   "cell_type": "markdown",
   "metadata": {
    "colab_type": "text",
    "id": "A0btGdz3-Ptr"
   },
   "source": [
    "Great job on completing the neural network assignment! Well, we know the pain of working with neural networks from scratch. Don't fret! - because there are multiple frameworks, like Tensorflow, Keras, Pytorch, Caffe, etc. out there to help you build a deep learning model easily. "
   ]
  },
  {
   "cell_type": "markdown",
   "metadata": {
    "colab_type": "text",
    "id": "bCxc_AeBAKDn"
   },
   "source": [
    "# Why Keras"
   ]
  },
  {
   "cell_type": "markdown",
   "metadata": {
    "colab_type": "text",
    "id": "KLxkBRcMANHF"
   },
   "source": [
    "Keras is an open source deep learning framework for python. It is a high level API that is built upon Tensorflow. Keras makes deployment of neural networks really simple, with just a few lines of code! The syntax is clear, simple and intuitive.  We urge you to go through the documentation after this to get a better feel of Keras. The link is: https://keras.io/api/"
   ]
  },
  {
   "cell_type": "markdown",
   "metadata": {
    "colab_type": "text",
    "id": "7GRWp2rrp2AK"
   },
   "source": [
    "#Importing Keras"
   ]
  },
  {
   "cell_type": "markdown",
   "metadata": {
    "colab_type": "text",
    "id": "K25nLJeRIFSL"
   },
   "source": [
    "We will first import tensorflow. Note that Keras uses Tensorflow 2.  as backend"
   ]
  },
  {
   "cell_type": "code",
   "execution_count": 1,
   "metadata": {
    "colab": {},
    "colab_type": "code",
    "id": "X_U64Pp7IOae"
   },
   "outputs": [],
   "source": [
    "import tensorflow as tf\n",
    "from tensorflow import keras"
   ]
  },
  {
   "cell_type": "markdown",
   "metadata": {
    "colab_type": "text",
    "id": "Sq6aaZ0dEJTL"
   },
   "source": [
    "# The dataset"
   ]
  },
  {
   "cell_type": "markdown",
   "metadata": {
    "colab_type": "text",
    "id": "dTLfzHLFENcN"
   },
   "source": [
    "We will generate a random n-class classification problem using scikit learn"
   ]
  },
  {
   "cell_type": "code",
   "execution_count": 2,
   "metadata": {
    "colab": {
     "base_uri": "https://localhost:8080/",
     "height": 35
    },
    "colab_type": "code",
    "id": "in3X10QhEYM1",
    "outputId": "0a5e9ab3-8374-41ce-991d-92a6fd3edd59"
   },
   "outputs": [
    {
     "name": "stdout",
     "output_type": "stream",
     "text": [
      "(5000, 10) (5000,)\n"
     ]
    }
   ],
   "source": [
    "from sklearn.datasets import make_classification\n",
    "#X, y = make_classification(n_samples=3000, n_informative = 4, n_features=10, n_classes=5, random_state=1)\n",
    "\n",
    "X,y =make_classification(n_samples=5000, n_informative = 8, n_features=10, n_redundant = 0, n_classes=5, random_state=1)\n",
    "print(X.shape, y.shape)"
   ]
  },
  {
   "cell_type": "markdown",
   "metadata": {
    "colab_type": "text",
    "id": "7Wr9zs4cFjac"
   },
   "source": [
    "We have created a dataset with m=1000 and n=10. Each training example belongs to one of 5 classes"
   ]
  },
  {
   "cell_type": "markdown",
   "metadata": {
    "colab_type": "text",
    "id": "z1bX3RwKFuOJ"
   },
   "source": [
    "# Split and standardization of data"
   ]
  },
  {
   "cell_type": "code",
   "execution_count": 4,
   "metadata": {
    "colab": {},
    "colab_type": "code",
    "id": "RO8Os900Fycy"
   },
   "outputs": [],
   "source": [
    "from sklearn.model_selection import train_test_split\n",
    "X_train, X_test, y_train, y_test = train_test_split(X, y, test_size=0.3, random_state=42)   #Split data into 70% training, 30%test data"
   ]
  },
  {
   "cell_type": "code",
   "execution_count": 5,
   "metadata": {
    "colab": {},
    "colab_type": "code",
    "id": "g2Xr0fLiGHh_"
   },
   "outputs": [],
   "source": [
    "from sklearn.preprocessing import StandardScaler    #Standardize data\n",
    "scaler = StandardScaler()\n",
    "scaler.fit(X_train)\n",
    "X_train = scaler.transform(X_train)\n",
    "X_test = scaler.transform(X_test)"
   ]
  },
  {
   "cell_type": "markdown",
   "metadata": {
    "colab_type": "text",
    "id": "EfJImjfMZmzO"
   },
   "source": [
    "# Converting the labels to one hot encodings"
   ]
  },
  {
   "cell_type": "markdown",
   "metadata": {
    "colab_type": "text",
    "id": "kjeXHOMcZrM1"
   },
   "source": [
    "To convert our targets into a one hot encoding we use the Keras to_categorical function"
   ]
  },
  {
   "cell_type": "code",
   "execution_count": 6,
   "metadata": {
    "colab": {},
    "colab_type": "code",
    "id": "Dtx2XYc_Z39t"
   },
   "outputs": [],
   "source": [
    "y_train = tf.keras.utils.to_categorical(y_train)\n",
    "y_test = tf.keras.utils.to_categorical(y_test)"
   ]
  },
  {
   "cell_type": "markdown",
   "metadata": {
    "colab_type": "text",
    "id": "SYyCI_EFHJo0"
   },
   "source": [
    "# **MAKING THE NEURAL NETWORK**"
   ]
  },
  {
   "cell_type": "markdown",
   "metadata": {
    "colab_type": "text",
    "id": "8r3ox244Thad"
   },
   "source": [
    "##The Sequential class"
   ]
  },
  {
   "cell_type": "markdown",
   "metadata": {
    "colab_type": "text",
    "id": "mJx4JnoqHgEy"
   },
   "source": [
    "The keras.models.Sequential class is a wrapper for the neural network model that treats the network as a sequence of layers. We assign it to a variable model.  Click [here](https://keras.io/api/models/sequential/) to check out the documentation"
   ]
  },
  {
   "cell_type": "code",
   "execution_count": 7,
   "metadata": {
    "colab": {},
    "colab_type": "code",
    "id": "X836dVLpIVB4"
   },
   "outputs": [],
   "source": [
    "tf.keras.backend.clear_session()\n",
    "model = tf.keras.Sequential()"
   ]
  },
  {
   "cell_type": "markdown",
   "metadata": {
    "colab_type": "text",
    "id": "N93HlSc1T1Jp"
   },
   "source": [
    "##The Input Layer"
   ]
  },
  {
   "cell_type": "markdown",
   "metadata": {
    "colab_type": "text",
    "id": "5Aa-YdXEJJio"
   },
   "source": [
    "First, we call the Input() object of Keras, to instantiate a Keras tensor. Note that we only input the number of features and not the training size. So the shape argument of the Input() object is inputs (n, None) \n",
    "\n",
    "To add a certain object or layer to the Sequential model, we use the *add* function"
   ]
  },
  {
   "cell_type": "code",
   "execution_count": 8,
   "metadata": {
    "colab": {},
    "colab_type": "code",
    "id": "EGWqM_HiJrRX"
   },
   "outputs": [],
   "source": [
    "model.add(tf.keras.Input(shape=10,))"
   ]
  },
  {
   "cell_type": "markdown",
   "metadata": {
    "colab_type": "text",
    "id": "T2gEqpjJUI2X"
   },
   "source": [
    "##Adding layers "
   ]
  },
  {
   "cell_type": "markdown",
   "metadata": {
    "colab_type": "text",
    "id": "ELKmipHsKUTo"
   },
   "source": [
    "To add a layer to a neural network, we add a dense layer, or the Dense class. Arguments to the Dense class include the number of neurons for the layer, the activation, regularizer and and other stuff which we do not need to worry about. \n",
    "\n",
    "In this model we will make an NN with 2 hidden layers, each activated by the relu function. The last layer , which is the output layer, has 5 neurons(one belonging to each class), activated by the softmax function. \n",
    "\n",
    "[Dense layer documentation link](https://keras.io/api/layers/core_layers/dense/)"
   ]
  },
  {
   "cell_type": "code",
   "execution_count": 9,
   "metadata": {
    "colab": {},
    "colab_type": "code",
    "id": "kJBbxgEALDsT"
   },
   "outputs": [],
   "source": [
    "model.add(tf.keras.layers.Dense(units=30, activation='relu' )) #First hidden layer with 30 neurons, relu activation\n",
    "model.add(tf.keras.layers.Dense(units=15, activation='relu')) #Second hidden layer with 15 neurons, relu activation\n",
    "model.add(tf.keras.layers.Dense(units=5, activation='softmax')) #Output layer with 5 neuron, softmax activation"
   ]
  },
  {
   "cell_type": "markdown",
   "metadata": {
    "colab_type": "text",
    "id": "MGnQ4HLEWm3M"
   },
   "source": [
    "##Activations"
   ]
  },
  {
   "cell_type": "markdown",
   "metadata": {
    "colab_type": "text",
    "id": "rli-9UekVftL"
   },
   "source": [
    "Note: Here we pass the type of activation as an argument to the Dense class. This is the same as adding an Activation layer with the activation inside it. So the first line of code above is the same as:\n",
    "\n",
    "\n",
    "```\n",
    "model.add(tf.keras.layers.Dense(64))\n",
    "model.add(tf.keras.layers.Activation(tf.keras.activations.relu))\n",
    "```\n",
    "\n"
   ]
  },
  {
   "cell_type": "markdown",
   "metadata": {
    "colab_type": "text",
    "id": "gr8wmFs1W8FG"
   },
   "source": [
    "Click [here](https://keras.io/api/layers/activations/) to check out the various activations provided by keras"
   ]
  },
  {
   "cell_type": "markdown",
   "metadata": {
    "colab_type": "text",
    "id": "fDJy4tpfXIZi"
   },
   "source": [
    "##Model summary"
   ]
  },
  {
   "cell_type": "markdown",
   "metadata": {
    "colab_type": "text",
    "id": "BNv3zOtWLjvO"
   },
   "source": [
    "Just that many lines of code to prototype our neural network model! Simple right? We can check out the model's details by calling the summary() function"
   ]
  },
  {
   "cell_type": "code",
   "execution_count": 10,
   "metadata": {
    "colab": {
     "base_uri": "https://localhost:8080/",
     "height": 269
    },
    "colab_type": "code",
    "id": "4T6Pa9FbLuBU",
    "outputId": "ebfd9db4-171b-4bb7-feb1-c0f573111b51"
   },
   "outputs": [
    {
     "name": "stdout",
     "output_type": "stream",
     "text": [
      "Model: \"sequential\"\n",
      "_________________________________________________________________\n",
      "Layer (type)                 Output Shape              Param #   \n",
      "=================================================================\n",
      "dense (Dense)                (None, 30)                330       \n",
      "_________________________________________________________________\n",
      "dense_1 (Dense)              (None, 15)                465       \n",
      "_________________________________________________________________\n",
      "dense_2 (Dense)              (None, 5)                 80        \n",
      "=================================================================\n",
      "Total params: 875\n",
      "Trainable params: 875\n",
      "Non-trainable params: 0\n",
      "_________________________________________________________________\n"
     ]
    }
   ],
   "source": [
    "model.summary()"
   ]
  },
  {
   "cell_type": "markdown",
   "metadata": {
    "colab_type": "text",
    "id": "SsMp9jtxXgFB"
   },
   "source": [
    "## The compile() function"
   ]
  },
  {
   "cell_type": "markdown",
   "metadata": {
    "colab_type": "text",
    "id": "VLmun9IpL7Ip"
   },
   "source": [
    "Next, we compile the model using the compile() method. Here we mention what our loss function should be, the type of optimizer used, and what metrics to print.\n",
    "\n",
    "We will be using the categorical cross-entropy as our loss function, with the adam optimizer and accuracy as our metric. Note that we pass our metrics as a list"
   ]
  },
  {
   "cell_type": "code",
   "execution_count": 11,
   "metadata": {
    "colab": {},
    "colab_type": "code",
    "id": "wMZ7TEqTMPns"
   },
   "outputs": [],
   "source": [
    "model.compile(loss='categorical_crossentropy', optimizer='adam', metrics=['accuracy'])"
   ]
  },
  {
   "cell_type": "markdown",
   "metadata": {
    "colab_type": "text",
    "id": "gzogFygcX0ED"
   },
   "source": [
    "## Keras Optimizers"
   ]
  },
  {
   "cell_type": "markdown",
   "metadata": {
    "colab_type": "text",
    "id": "QaQ6H21PX3Dz"
   },
   "source": [
    "Passing optimizer='adam' to the compile method uses the default learning rate and some other parameters. But often , we want to choose the learning rate, momentum, etc. So, we call the optimizer's class, store it in a variable and pass it as an argument to the compile method.\n",
    "\n",
    "For example, if we want to use stochastic gradient descent with a learning rate of 0.1 and momentum 0.9 , we would code it as follows:\n",
    "\n",
    "\n",
    "```\n",
    "opt = tf.keras.optimizers.SGD(learning_rate=0.01, momentum=0.9)\n",
    "model.compile(loss='categorical_crossentropy', optimizer =opt, metrics=['accuracy'])\n",
    "```\n",
    "\n"
   ]
  },
  {
   "cell_type": "markdown",
   "metadata": {
    "colab_type": "text",
    "id": "yBmwz-qBZOV_"
   },
   "source": [
    "Click [here](https://keras.io/api/optimizers/) to check out the various Keras optimizers and their syntax"
   ]
  },
  {
   "cell_type": "markdown",
   "metadata": {
    "colab_type": "text",
    "id": "4kyDJpKAZY3a"
   },
   "source": [
    "## The fit() function"
   ]
  },
  {
   "cell_type": "markdown",
   "metadata": {
    "colab_type": "text",
    "id": "R2zNL_SGNL2V"
   },
   "source": [
    "Finally , we call the fit() function to fit our data! Keras takes care of all the mathematical computation of forward prop and backprop! The fit() function takes into input the data, true labels, batch size in which we train, the number of epochs, and the validation data(here which is our test set). It returns a Keras history object which contains various attributes"
   ]
  },
  {
   "cell_type": "code",
   "execution_count": 12,
   "metadata": {
    "colab": {
     "base_uri": "https://localhost:8080/",
     "height": 1000
    },
    "colab_type": "code",
    "id": "Yx8qroZnNxjc",
    "outputId": "ca52c3a0-3b7f-42e4-bbd5-2aad61bb75f6"
   },
   "outputs": [
    {
     "name": "stdout",
     "output_type": "stream",
     "text": [
      "Epoch 1/200\n",
      "219/219 [==============================] - 1s 4ms/step - loss: 1.4336 - accuracy: 0.4043 - val_loss: 1.2625 - val_accuracy: 0.5440\n",
      "Epoch 2/200\n",
      "219/219 [==============================] - 1s 3ms/step - loss: 1.0532 - accuracy: 0.6286 - val_loss: 0.9733 - val_accuracy: 0.6360\n",
      "Epoch 3/200\n",
      "219/219 [==============================] - 1s 3ms/step - loss: 0.8438 - accuracy: 0.6940 - val_loss: 0.8492 - val_accuracy: 0.6927\n",
      "Epoch 4/200\n",
      "219/219 [==============================] - 1s 3ms/step - loss: 0.7364 - accuracy: 0.7397 - val_loss: 0.7651 - val_accuracy: 0.7120\n",
      "Epoch 5/200\n",
      "219/219 [==============================] - 1s 3ms/step - loss: 0.6678 - accuracy: 0.7666 - val_loss: 0.7019 - val_accuracy: 0.7413\n",
      "Epoch 6/200\n",
      "219/219 [==============================] - 1s 3ms/step - loss: 0.6164 - accuracy: 0.7834 - val_loss: 0.6632 - val_accuracy: 0.7540\n",
      "Epoch 7/200\n",
      "219/219 [==============================] - 1s 3ms/step - loss: 0.5789 - accuracy: 0.7949 - val_loss: 0.6298 - val_accuracy: 0.7780\n",
      "Epoch 8/200\n",
      "219/219 [==============================] - 1s 3ms/step - loss: 0.5506 - accuracy: 0.8089 - val_loss: 0.6064 - val_accuracy: 0.7793\n",
      "Epoch 9/200\n",
      "219/219 [==============================] - 1s 3ms/step - loss: 0.5291 - accuracy: 0.8174 - val_loss: 0.5889 - val_accuracy: 0.7867\n",
      "Epoch 10/200\n",
      "219/219 [==============================] - 1s 3ms/step - loss: 0.5092 - accuracy: 0.8240 - val_loss: 0.5702 - val_accuracy: 0.7920\n",
      "Epoch 11/200\n",
      "219/219 [==============================] - 1s 3ms/step - loss: 0.4901 - accuracy: 0.8329 - val_loss: 0.5569 - val_accuracy: 0.7927\n",
      "Epoch 12/200\n",
      "219/219 [==============================] - 1s 3ms/step - loss: 0.4790 - accuracy: 0.8366 - val_loss: 0.5392 - val_accuracy: 0.8060\n",
      "Epoch 13/200\n",
      "219/219 [==============================] - 1s 3ms/step - loss: 0.4660 - accuracy: 0.8386 - val_loss: 0.5281 - val_accuracy: 0.8067\n",
      "Epoch 14/200\n",
      "219/219 [==============================] - 1s 3ms/step - loss: 0.4552 - accuracy: 0.8443 - val_loss: 0.5203 - val_accuracy: 0.8127\n",
      "Epoch 15/200\n",
      "219/219 [==============================] - 1s 3ms/step - loss: 0.4438 - accuracy: 0.8520 - val_loss: 0.5176 - val_accuracy: 0.8167\n",
      "Epoch 16/200\n",
      "219/219 [==============================] - 1s 3ms/step - loss: 0.4371 - accuracy: 0.8526 - val_loss: 0.5015 - val_accuracy: 0.8213\n",
      "Epoch 17/200\n",
      "219/219 [==============================] - 1s 3ms/step - loss: 0.4262 - accuracy: 0.8551 - val_loss: 0.4930 - val_accuracy: 0.8213\n",
      "Epoch 18/200\n",
      "219/219 [==============================] - 1s 3ms/step - loss: 0.4197 - accuracy: 0.8589 - val_loss: 0.4985 - val_accuracy: 0.8240\n",
      "Epoch 19/200\n",
      "219/219 [==============================] - 1s 3ms/step - loss: 0.4119 - accuracy: 0.8620 - val_loss: 0.4911 - val_accuracy: 0.8247\n",
      "Epoch 20/200\n",
      "219/219 [==============================] - 1s 3ms/step - loss: 0.4074 - accuracy: 0.8620 - val_loss: 0.4831 - val_accuracy: 0.8260\n",
      "Epoch 21/200\n",
      "219/219 [==============================] - 1s 3ms/step - loss: 0.4001 - accuracy: 0.8694 - val_loss: 0.4780 - val_accuracy: 0.8287\n",
      "Epoch 22/200\n",
      "219/219 [==============================] - 1s 3ms/step - loss: 0.3934 - accuracy: 0.8680 - val_loss: 0.4771 - val_accuracy: 0.8260\n",
      "Epoch 23/200\n",
      "219/219 [==============================] - 1s 3ms/step - loss: 0.3882 - accuracy: 0.8737 - val_loss: 0.4847 - val_accuracy: 0.8287\n",
      "Epoch 24/200\n",
      "219/219 [==============================] - 1s 3ms/step - loss: 0.3855 - accuracy: 0.8677 - val_loss: 0.4716 - val_accuracy: 0.8300\n",
      "Epoch 25/200\n",
      "219/219 [==============================] - 1s 3ms/step - loss: 0.3805 - accuracy: 0.8740 - val_loss: 0.4731 - val_accuracy: 0.8327\n",
      "Epoch 26/200\n",
      "219/219 [==============================] - 1s 3ms/step - loss: 0.3766 - accuracy: 0.8757 - val_loss: 0.4684 - val_accuracy: 0.8353\n",
      "Epoch 27/200\n",
      "219/219 [==============================] - 1s 3ms/step - loss: 0.3729 - accuracy: 0.8760 - val_loss: 0.4631 - val_accuracy: 0.8353\n",
      "Epoch 28/200\n",
      "219/219 [==============================] - 1s 3ms/step - loss: 0.3701 - accuracy: 0.8774 - val_loss: 0.4586 - val_accuracy: 0.8413\n",
      "Epoch 29/200\n",
      "219/219 [==============================] - 1s 3ms/step - loss: 0.3652 - accuracy: 0.8774 - val_loss: 0.4637 - val_accuracy: 0.8367\n",
      "Epoch 30/200\n",
      "219/219 [==============================] - 1s 3ms/step - loss: 0.3619 - accuracy: 0.8826 - val_loss: 0.4622 - val_accuracy: 0.8420\n",
      "Epoch 31/200\n",
      "219/219 [==============================] - 1s 3ms/step - loss: 0.3574 - accuracy: 0.8823 - val_loss: 0.4606 - val_accuracy: 0.8373\n",
      "Epoch 32/200\n",
      "219/219 [==============================] - 1s 3ms/step - loss: 0.3572 - accuracy: 0.8809 - val_loss: 0.4560 - val_accuracy: 0.8387\n",
      "Epoch 33/200\n",
      "219/219 [==============================] - 1s 4ms/step - loss: 0.3536 - accuracy: 0.8831 - val_loss: 0.4621 - val_accuracy: 0.8387\n",
      "Epoch 34/200\n",
      "219/219 [==============================] - 1s 3ms/step - loss: 0.3517 - accuracy: 0.8806 - val_loss: 0.4593 - val_accuracy: 0.8413\n",
      "Epoch 35/200\n",
      "219/219 [==============================] - 1s 3ms/step - loss: 0.3470 - accuracy: 0.8857 - val_loss: 0.4530 - val_accuracy: 0.8420\n",
      "Epoch 36/200\n",
      "219/219 [==============================] - 1s 3ms/step - loss: 0.3458 - accuracy: 0.8877 - val_loss: 0.4573 - val_accuracy: 0.8400\n",
      "Epoch 37/200\n",
      "219/219 [==============================] - 1s 3ms/step - loss: 0.3413 - accuracy: 0.8883 - val_loss: 0.4617 - val_accuracy: 0.8393\n",
      "Epoch 38/200\n",
      "219/219 [==============================] - 1s 3ms/step - loss: 0.3396 - accuracy: 0.8880 - val_loss: 0.4609 - val_accuracy: 0.8413\n",
      "Epoch 39/200\n",
      "219/219 [==============================] - 1s 3ms/step - loss: 0.3369 - accuracy: 0.8891 - val_loss: 0.4510 - val_accuracy: 0.8393\n",
      "Epoch 40/200\n",
      "219/219 [==============================] - 1s 3ms/step - loss: 0.3340 - accuracy: 0.8889 - val_loss: 0.4564 - val_accuracy: 0.8393\n",
      "Epoch 41/200\n",
      "219/219 [==============================] - 1s 3ms/step - loss: 0.3314 - accuracy: 0.8917 - val_loss: 0.4553 - val_accuracy: 0.8393\n",
      "Epoch 42/200\n",
      "219/219 [==============================] - 1s 3ms/step - loss: 0.3301 - accuracy: 0.8926 - val_loss: 0.4526 - val_accuracy: 0.8447\n",
      "Epoch 43/200\n",
      "219/219 [==============================] - 1s 3ms/step - loss: 0.3291 - accuracy: 0.8914 - val_loss: 0.4525 - val_accuracy: 0.8420\n",
      "Epoch 44/200\n",
      "219/219 [==============================] - 1s 3ms/step - loss: 0.3261 - accuracy: 0.8943 - val_loss: 0.4499 - val_accuracy: 0.8367\n",
      "Epoch 45/200\n",
      "219/219 [==============================] - 1s 3ms/step - loss: 0.3228 - accuracy: 0.8937 - val_loss: 0.4515 - val_accuracy: 0.8453\n",
      "Epoch 46/200\n",
      "219/219 [==============================] - 1s 3ms/step - loss: 0.3235 - accuracy: 0.8920 - val_loss: 0.4481 - val_accuracy: 0.8440\n",
      "Epoch 47/200\n",
      "219/219 [==============================] - 1s 3ms/step - loss: 0.3190 - accuracy: 0.8943 - val_loss: 0.4489 - val_accuracy: 0.8460\n",
      "Epoch 48/200\n",
      "219/219 [==============================] - 1s 3ms/step - loss: 0.3160 - accuracy: 0.8991 - val_loss: 0.4510 - val_accuracy: 0.8447\n",
      "Epoch 49/200\n",
      "219/219 [==============================] - 1s 3ms/step - loss: 0.3155 - accuracy: 0.8963 - val_loss: 0.4582 - val_accuracy: 0.8447\n",
      "Epoch 50/200\n",
      "219/219 [==============================] - 1s 3ms/step - loss: 0.3151 - accuracy: 0.8929 - val_loss: 0.4576 - val_accuracy: 0.8387\n",
      "Epoch 51/200\n",
      "219/219 [==============================] - 1s 3ms/step - loss: 0.3130 - accuracy: 0.8969 - val_loss: 0.4519 - val_accuracy: 0.8427\n",
      "Epoch 52/200\n",
      "219/219 [==============================] - 1s 3ms/step - loss: 0.3122 - accuracy: 0.8977 - val_loss: 0.4571 - val_accuracy: 0.8413\n",
      "Epoch 53/200\n",
      "219/219 [==============================] - 1s 3ms/step - loss: 0.3107 - accuracy: 0.8951 - val_loss: 0.4604 - val_accuracy: 0.8453\n",
      "Epoch 54/200\n",
      "219/219 [==============================] - 1s 3ms/step - loss: 0.3086 - accuracy: 0.8991 - val_loss: 0.4576 - val_accuracy: 0.8400\n",
      "Epoch 55/200\n",
      "219/219 [==============================] - 1s 3ms/step - loss: 0.3079 - accuracy: 0.8986 - val_loss: 0.4454 - val_accuracy: 0.8373\n",
      "Epoch 56/200\n",
      "219/219 [==============================] - 1s 3ms/step - loss: 0.3047 - accuracy: 0.8997 - val_loss: 0.4551 - val_accuracy: 0.8453\n",
      "Epoch 57/200\n",
      "219/219 [==============================] - 1s 3ms/step - loss: 0.3044 - accuracy: 0.9014 - val_loss: 0.4595 - val_accuracy: 0.8400\n"
     ]
    },
    {
     "name": "stdout",
     "output_type": "stream",
     "text": [
      "Epoch 58/200\n",
      "219/219 [==============================] - 1s 3ms/step - loss: 0.3021 - accuracy: 0.9031 - val_loss: 0.4587 - val_accuracy: 0.8467\n",
      "Epoch 59/200\n",
      "219/219 [==============================] - 1s 3ms/step - loss: 0.3015 - accuracy: 0.9014 - val_loss: 0.4570 - val_accuracy: 0.8413\n",
      "Epoch 60/200\n",
      "219/219 [==============================] - 1s 3ms/step - loss: 0.3002 - accuracy: 0.8991 - val_loss: 0.4539 - val_accuracy: 0.8453\n",
      "Epoch 61/200\n",
      "219/219 [==============================] - 1s 3ms/step - loss: 0.2987 - accuracy: 0.9031 - val_loss: 0.4602 - val_accuracy: 0.8453\n",
      "Epoch 62/200\n",
      "219/219 [==============================] - 1s 3ms/step - loss: 0.2983 - accuracy: 0.8994 - val_loss: 0.4497 - val_accuracy: 0.8513\n",
      "Epoch 63/200\n",
      "219/219 [==============================] - 1s 3ms/step - loss: 0.2959 - accuracy: 0.9000 - val_loss: 0.4586 - val_accuracy: 0.8473\n",
      "Epoch 64/200\n",
      "219/219 [==============================] - 1s 3ms/step - loss: 0.2963 - accuracy: 0.9029 - val_loss: 0.4532 - val_accuracy: 0.8473\n",
      "Epoch 65/200\n",
      "219/219 [==============================] - 1s 3ms/step - loss: 0.2948 - accuracy: 0.9040 - val_loss: 0.4492 - val_accuracy: 0.8407\n",
      "Epoch 66/200\n",
      "219/219 [==============================] - 1s 3ms/step - loss: 0.2946 - accuracy: 0.9009 - val_loss: 0.4518 - val_accuracy: 0.8433\n",
      "Epoch 67/200\n",
      "219/219 [==============================] - 1s 3ms/step - loss: 0.2904 - accuracy: 0.9040 - val_loss: 0.4650 - val_accuracy: 0.8427\n",
      "Epoch 68/200\n",
      "219/219 [==============================] - 1s 3ms/step - loss: 0.2905 - accuracy: 0.9023 - val_loss: 0.4541 - val_accuracy: 0.8440\n",
      "Epoch 69/200\n",
      "219/219 [==============================] - 1s 4ms/step - loss: 0.2909 - accuracy: 0.9063 - val_loss: 0.4524 - val_accuracy: 0.8467\n",
      "Epoch 70/200\n",
      "219/219 [==============================] - 1s 4ms/step - loss: 0.2884 - accuracy: 0.9066 - val_loss: 0.4527 - val_accuracy: 0.8433\n",
      "Epoch 71/200\n",
      "219/219 [==============================] - 1s 5ms/step - loss: 0.2874 - accuracy: 0.9029 - val_loss: 0.4576 - val_accuracy: 0.8513\n",
      "Epoch 72/200\n",
      "219/219 [==============================] - 1s 4ms/step - loss: 0.2870 - accuracy: 0.9071 - val_loss: 0.4594 - val_accuracy: 0.8453\n",
      "Epoch 73/200\n",
      "219/219 [==============================] - 1s 3ms/step - loss: 0.2857 - accuracy: 0.9063 - val_loss: 0.4726 - val_accuracy: 0.8380\n",
      "Epoch 74/200\n",
      "219/219 [==============================] - 1s 4ms/step - loss: 0.2841 - accuracy: 0.9071 - val_loss: 0.4551 - val_accuracy: 0.8493\n",
      "Epoch 75/200\n",
      "219/219 [==============================] - 1s 3ms/step - loss: 0.2827 - accuracy: 0.9040 - val_loss: 0.4609 - val_accuracy: 0.8413\n",
      "Epoch 76/200\n",
      "219/219 [==============================] - 1s 3ms/step - loss: 0.2817 - accuracy: 0.9026 - val_loss: 0.4631 - val_accuracy: 0.8527\n",
      "Epoch 77/200\n",
      "219/219 [==============================] - 1s 3ms/step - loss: 0.2828 - accuracy: 0.9031 - val_loss: 0.4546 - val_accuracy: 0.8487\n",
      "Epoch 78/200\n",
      "219/219 [==============================] - 1s 3ms/step - loss: 0.2812 - accuracy: 0.9014 - val_loss: 0.4563 - val_accuracy: 0.8507\n",
      "Epoch 79/200\n",
      "219/219 [==============================] - 1s 3ms/step - loss: 0.2794 - accuracy: 0.9091 - val_loss: 0.4541 - val_accuracy: 0.8380\n",
      "Epoch 80/200\n",
      "219/219 [==============================] - 1s 3ms/step - loss: 0.2783 - accuracy: 0.9077 - val_loss: 0.4532 - val_accuracy: 0.8460\n",
      "Epoch 81/200\n",
      "219/219 [==============================] - 1s 3ms/step - loss: 0.2786 - accuracy: 0.9057 - val_loss: 0.4518 - val_accuracy: 0.8500\n",
      "Epoch 82/200\n",
      "219/219 [==============================] - 1s 3ms/step - loss: 0.2785 - accuracy: 0.9063 - val_loss: 0.4510 - val_accuracy: 0.8493\n",
      "Epoch 83/200\n",
      "219/219 [==============================] - 1s 3ms/step - loss: 0.2772 - accuracy: 0.9083 - val_loss: 0.4582 - val_accuracy: 0.8493\n",
      "Epoch 84/200\n",
      "219/219 [==============================] - 1s 3ms/step - loss: 0.2739 - accuracy: 0.9114 - val_loss: 0.4654 - val_accuracy: 0.8467\n",
      "Epoch 85/200\n",
      "219/219 [==============================] - 1s 3ms/step - loss: 0.2759 - accuracy: 0.9077 - val_loss: 0.4560 - val_accuracy: 0.8453\n",
      "Epoch 86/200\n",
      "219/219 [==============================] - 1s 3ms/step - loss: 0.2745 - accuracy: 0.9077 - val_loss: 0.4499 - val_accuracy: 0.8533\n",
      "Epoch 87/200\n",
      "219/219 [==============================] - 1s 3ms/step - loss: 0.2706 - accuracy: 0.9089 - val_loss: 0.4556 - val_accuracy: 0.8480\n",
      "Epoch 88/200\n",
      "219/219 [==============================] - 1s 3ms/step - loss: 0.2715 - accuracy: 0.9120 - val_loss: 0.4580 - val_accuracy: 0.8487\n",
      "Epoch 89/200\n",
      "219/219 [==============================] - 1s 3ms/step - loss: 0.2708 - accuracy: 0.9137 - val_loss: 0.4613 - val_accuracy: 0.8500\n",
      "Epoch 90/200\n",
      "219/219 [==============================] - 1s 3ms/step - loss: 0.2722 - accuracy: 0.9054 - val_loss: 0.4597 - val_accuracy: 0.8453\n",
      "Epoch 91/200\n",
      "219/219 [==============================] - 1s 3ms/step - loss: 0.2698 - accuracy: 0.9131 - val_loss: 0.4601 - val_accuracy: 0.8460\n",
      "Epoch 92/200\n",
      "219/219 [==============================] - 1s 3ms/step - loss: 0.2675 - accuracy: 0.9123 - val_loss: 0.4580 - val_accuracy: 0.8480\n",
      "Epoch 93/200\n",
      "219/219 [==============================] - 1s 3ms/step - loss: 0.2661 - accuracy: 0.9086 - val_loss: 0.4673 - val_accuracy: 0.8387\n",
      "Epoch 94/200\n",
      "219/219 [==============================] - 1s 3ms/step - loss: 0.2672 - accuracy: 0.9111 - val_loss: 0.4659 - val_accuracy: 0.8380\n",
      "Epoch 95/200\n",
      "219/219 [==============================] - 1s 3ms/step - loss: 0.2649 - accuracy: 0.9103 - val_loss: 0.4608 - val_accuracy: 0.8487\n",
      "Epoch 96/200\n",
      "219/219 [==============================] - 1s 3ms/step - loss: 0.2639 - accuracy: 0.9094 - val_loss: 0.4566 - val_accuracy: 0.8493\n",
      "Epoch 97/200\n",
      "219/219 [==============================] - 1s 3ms/step - loss: 0.2652 - accuracy: 0.9126 - val_loss: 0.4563 - val_accuracy: 0.8480\n",
      "Epoch 98/200\n",
      "219/219 [==============================] - 1s 3ms/step - loss: 0.2633 - accuracy: 0.9131 - val_loss: 0.4566 - val_accuracy: 0.8507\n",
      "Epoch 99/200\n",
      "219/219 [==============================] - 1s 3ms/step - loss: 0.2606 - accuracy: 0.9097 - val_loss: 0.4614 - val_accuracy: 0.8447\n",
      "Epoch 100/200\n",
      "219/219 [==============================] - 1s 4ms/step - loss: 0.2627 - accuracy: 0.9094 - val_loss: 0.4699 - val_accuracy: 0.8473\n",
      "Epoch 101/200\n",
      "219/219 [==============================] - 1s 3ms/step - loss: 0.2611 - accuracy: 0.9149 - val_loss: 0.4544 - val_accuracy: 0.8473\n",
      "Epoch 102/200\n",
      "219/219 [==============================] - 1s 3ms/step - loss: 0.2608 - accuracy: 0.9149 - val_loss: 0.4670 - val_accuracy: 0.8453\n",
      "Epoch 103/200\n",
      "219/219 [==============================] - 1s 3ms/step - loss: 0.2581 - accuracy: 0.9109 - val_loss: 0.4586 - val_accuracy: 0.8453\n",
      "Epoch 104/200\n",
      "219/219 [==============================] - 1s 3ms/step - loss: 0.2577 - accuracy: 0.9114 - val_loss: 0.4595 - val_accuracy: 0.8473\n",
      "Epoch 105/200\n",
      "219/219 [==============================] - 1s 3ms/step - loss: 0.2573 - accuracy: 0.9134 - val_loss: 0.4638 - val_accuracy: 0.8487\n",
      "Epoch 106/200\n",
      "219/219 [==============================] - 1s 3ms/step - loss: 0.2567 - accuracy: 0.9123 - val_loss: 0.4568 - val_accuracy: 0.8547\n",
      "Epoch 107/200\n",
      "219/219 [==============================] - 1s 3ms/step - loss: 0.2569 - accuracy: 0.9146 - val_loss: 0.4567 - val_accuracy: 0.8513\n",
      "Epoch 108/200\n",
      "219/219 [==============================] - 1s 3ms/step - loss: 0.2558 - accuracy: 0.9131 - val_loss: 0.4679 - val_accuracy: 0.8433\n",
      "Epoch 109/200\n",
      "219/219 [==============================] - 1s 3ms/step - loss: 0.2530 - accuracy: 0.9154 - val_loss: 0.4669 - val_accuracy: 0.8487\n",
      "Epoch 110/200\n",
      "219/219 [==============================] - 1s 3ms/step - loss: 0.2550 - accuracy: 0.9177 - val_loss: 0.4631 - val_accuracy: 0.8507\n",
      "Epoch 111/200\n",
      "219/219 [==============================] - 1s 3ms/step - loss: 0.2521 - accuracy: 0.9183 - val_loss: 0.4663 - val_accuracy: 0.8433\n",
      "Epoch 112/200\n",
      "219/219 [==============================] - 1s 3ms/step - loss: 0.2537 - accuracy: 0.9160 - val_loss: 0.4648 - val_accuracy: 0.8533\n",
      "Epoch 113/200\n",
      "219/219 [==============================] - 1s 3ms/step - loss: 0.2506 - accuracy: 0.9194 - val_loss: 0.4697 - val_accuracy: 0.8513\n",
      "Epoch 114/200\n",
      "219/219 [==============================] - 1s 3ms/step - loss: 0.2510 - accuracy: 0.9163 - val_loss: 0.4623 - val_accuracy: 0.8533\n"
     ]
    },
    {
     "name": "stdout",
     "output_type": "stream",
     "text": [
      "Epoch 115/200\n",
      "219/219 [==============================] - 1s 3ms/step - loss: 0.2486 - accuracy: 0.9186 - val_loss: 0.4743 - val_accuracy: 0.8533\n",
      "Epoch 116/200\n",
      "219/219 [==============================] - 1s 3ms/step - loss: 0.2498 - accuracy: 0.9149 - val_loss: 0.4762 - val_accuracy: 0.8460\n",
      "Epoch 117/200\n",
      "219/219 [==============================] - 1s 3ms/step - loss: 0.2482 - accuracy: 0.9146 - val_loss: 0.4700 - val_accuracy: 0.8460\n",
      "Epoch 118/200\n",
      "219/219 [==============================] - 1s 3ms/step - loss: 0.2462 - accuracy: 0.9183 - val_loss: 0.4713 - val_accuracy: 0.8507\n",
      "Epoch 119/200\n",
      "219/219 [==============================] - 1s 3ms/step - loss: 0.2462 - accuracy: 0.9191 - val_loss: 0.4723 - val_accuracy: 0.8487\n",
      "Epoch 120/200\n",
      "219/219 [==============================] - 1s 3ms/step - loss: 0.2446 - accuracy: 0.9183 - val_loss: 0.4741 - val_accuracy: 0.8440\n",
      "Epoch 121/200\n",
      "219/219 [==============================] - 1s 3ms/step - loss: 0.2446 - accuracy: 0.9220 - val_loss: 0.4717 - val_accuracy: 0.8507\n",
      "Epoch 122/200\n",
      "219/219 [==============================] - 1s 3ms/step - loss: 0.2429 - accuracy: 0.9177 - val_loss: 0.4722 - val_accuracy: 0.8520\n",
      "Epoch 123/200\n",
      "219/219 [==============================] - 1s 3ms/step - loss: 0.2436 - accuracy: 0.9191 - val_loss: 0.4687 - val_accuracy: 0.8473\n",
      "Epoch 124/200\n",
      "219/219 [==============================] - 1s 3ms/step - loss: 0.2439 - accuracy: 0.9180 - val_loss: 0.4935 - val_accuracy: 0.8487\n",
      "Epoch 125/200\n",
      "219/219 [==============================] - 1s 3ms/step - loss: 0.2405 - accuracy: 0.9257 - val_loss: 0.4713 - val_accuracy: 0.8493\n",
      "Epoch 126/200\n",
      "219/219 [==============================] - 1s 3ms/step - loss: 0.2399 - accuracy: 0.9229 - val_loss: 0.4796 - val_accuracy: 0.8513\n",
      "Epoch 127/200\n",
      "219/219 [==============================] - 1s 3ms/step - loss: 0.2412 - accuracy: 0.9180 - val_loss: 0.4744 - val_accuracy: 0.8480\n",
      "Epoch 128/200\n",
      "219/219 [==============================] - 1s 3ms/step - loss: 0.2398 - accuracy: 0.9186 - val_loss: 0.4734 - val_accuracy: 0.8440\n",
      "Epoch 129/200\n",
      "219/219 [==============================] - 1s 3ms/step - loss: 0.2411 - accuracy: 0.9186 - val_loss: 0.4706 - val_accuracy: 0.8460\n",
      "Epoch 130/200\n",
      "219/219 [==============================] - 1s 3ms/step - loss: 0.2377 - accuracy: 0.9209 - val_loss: 0.4697 - val_accuracy: 0.8520\n",
      "Epoch 131/200\n",
      "219/219 [==============================] - 1s 3ms/step - loss: 0.2383 - accuracy: 0.9234 - val_loss: 0.4759 - val_accuracy: 0.8500\n",
      "Epoch 132/200\n",
      "219/219 [==============================] - 1s 3ms/step - loss: 0.2393 - accuracy: 0.9189 - val_loss: 0.4798 - val_accuracy: 0.8567\n",
      "Epoch 133/200\n",
      "219/219 [==============================] - 1s 3ms/step - loss: 0.2356 - accuracy: 0.9234 - val_loss: 0.4757 - val_accuracy: 0.8453\n",
      "Epoch 134/200\n",
      "219/219 [==============================] - 1s 3ms/step - loss: 0.2385 - accuracy: 0.9226 - val_loss: 0.4792 - val_accuracy: 0.8540\n",
      "Epoch 135/200\n",
      "219/219 [==============================] - 1s 3ms/step - loss: 0.2358 - accuracy: 0.9240 - val_loss: 0.4725 - val_accuracy: 0.8513\n",
      "Epoch 136/200\n",
      "219/219 [==============================] - 1s 3ms/step - loss: 0.2357 - accuracy: 0.9197 - val_loss: 0.4690 - val_accuracy: 0.8493\n",
      "Epoch 137/200\n",
      "219/219 [==============================] - 1s 3ms/step - loss: 0.2339 - accuracy: 0.9206 - val_loss: 0.4917 - val_accuracy: 0.8493\n",
      "Epoch 138/200\n",
      "219/219 [==============================] - 1s 3ms/step - loss: 0.2319 - accuracy: 0.9234 - val_loss: 0.4774 - val_accuracy: 0.8500\n",
      "Epoch 139/200\n",
      "219/219 [==============================] - 1s 3ms/step - loss: 0.2344 - accuracy: 0.9229 - val_loss: 0.4774 - val_accuracy: 0.8540\n",
      "Epoch 140/200\n",
      "219/219 [==============================] - 1s 3ms/step - loss: 0.2311 - accuracy: 0.9229 - val_loss: 0.4792 - val_accuracy: 0.8487\n",
      "Epoch 141/200\n",
      "219/219 [==============================] - 1s 3ms/step - loss: 0.2320 - accuracy: 0.9203 - val_loss: 0.4834 - val_accuracy: 0.8467\n",
      "Epoch 142/200\n",
      "219/219 [==============================] - 1s 3ms/step - loss: 0.2331 - accuracy: 0.9257 - val_loss: 0.4774 - val_accuracy: 0.8520\n",
      "Epoch 143/200\n",
      "219/219 [==============================] - 1s 3ms/step - loss: 0.2303 - accuracy: 0.9249 - val_loss: 0.4841 - val_accuracy: 0.8413\n",
      "Epoch 144/200\n",
      "219/219 [==============================] - 1s 3ms/step - loss: 0.2298 - accuracy: 0.9234 - val_loss: 0.4826 - val_accuracy: 0.8513\n",
      "Epoch 145/200\n",
      "219/219 [==============================] - 1s 3ms/step - loss: 0.2295 - accuracy: 0.9240 - val_loss: 0.4897 - val_accuracy: 0.8540\n",
      "Epoch 146/200\n",
      "219/219 [==============================] - 1s 3ms/step - loss: 0.2277 - accuracy: 0.9243 - val_loss: 0.4928 - val_accuracy: 0.8527\n",
      "Epoch 147/200\n",
      "219/219 [==============================] - 1s 3ms/step - loss: 0.2269 - accuracy: 0.9254 - val_loss: 0.4820 - val_accuracy: 0.8467\n",
      "Epoch 148/200\n",
      "219/219 [==============================] - 1s 4ms/step - loss: 0.2298 - accuracy: 0.9223 - val_loss: 0.4924 - val_accuracy: 0.8453\n",
      "Epoch 149/200\n",
      "219/219 [==============================] - 1s 3ms/step - loss: 0.2272 - accuracy: 0.9260 - val_loss: 0.4849 - val_accuracy: 0.8480\n",
      "Epoch 150/200\n",
      "219/219 [==============================] - 1s 3ms/step - loss: 0.2264 - accuracy: 0.9229 - val_loss: 0.4996 - val_accuracy: 0.8380\n",
      "Epoch 151/200\n",
      "219/219 [==============================] - 1s 3ms/step - loss: 0.2253 - accuracy: 0.9229 - val_loss: 0.4922 - val_accuracy: 0.8507\n",
      "Epoch 152/200\n",
      "219/219 [==============================] - 1s 3ms/step - loss: 0.2279 - accuracy: 0.9240 - val_loss: 0.4997 - val_accuracy: 0.8453\n",
      "Epoch 153/200\n",
      "219/219 [==============================] - 1s 3ms/step - loss: 0.2258 - accuracy: 0.9277 - val_loss: 0.4929 - val_accuracy: 0.8487\n",
      "Epoch 154/200\n",
      "219/219 [==============================] - 1s 3ms/step - loss: 0.2241 - accuracy: 0.9223 - val_loss: 0.4956 - val_accuracy: 0.8433\n",
      "Epoch 155/200\n",
      "219/219 [==============================] - 1s 3ms/step - loss: 0.2241 - accuracy: 0.9243 - val_loss: 0.4910 - val_accuracy: 0.8513\n",
      "Epoch 156/200\n",
      "219/219 [==============================] - 1s 3ms/step - loss: 0.2210 - accuracy: 0.9266 - val_loss: 0.4953 - val_accuracy: 0.8460\n",
      "Epoch 157/200\n",
      "219/219 [==============================] - 1s 3ms/step - loss: 0.2231 - accuracy: 0.9269 - val_loss: 0.4968 - val_accuracy: 0.8487\n",
      "Epoch 158/200\n",
      "219/219 [==============================] - 1s 3ms/step - loss: 0.2216 - accuracy: 0.9234 - val_loss: 0.4912 - val_accuracy: 0.8520\n",
      "Epoch 159/200\n",
      "219/219 [==============================] - 1s 3ms/step - loss: 0.2232 - accuracy: 0.9266 - val_loss: 0.4905 - val_accuracy: 0.8560\n",
      "Epoch 160/200\n",
      "219/219 [==============================] - 1s 3ms/step - loss: 0.2210 - accuracy: 0.9286 - val_loss: 0.4930 - val_accuracy: 0.8527\n",
      "Epoch 161/200\n",
      "219/219 [==============================] - 1s 3ms/step - loss: 0.2196 - accuracy: 0.9266 - val_loss: 0.5145 - val_accuracy: 0.8453\n",
      "Epoch 162/200\n",
      "219/219 [==============================] - 1s 3ms/step - loss: 0.2173 - accuracy: 0.9271 - val_loss: 0.5018 - val_accuracy: 0.8460\n",
      "Epoch 163/200\n",
      "219/219 [==============================] - 1s 3ms/step - loss: 0.2203 - accuracy: 0.9257 - val_loss: 0.5001 - val_accuracy: 0.8553\n",
      "Epoch 164/200\n",
      "219/219 [==============================] - 1s 3ms/step - loss: 0.2191 - accuracy: 0.9263 - val_loss: 0.4928 - val_accuracy: 0.8480\n",
      "Epoch 165/200\n",
      "219/219 [==============================] - 1s 3ms/step - loss: 0.2171 - accuracy: 0.9283 - val_loss: 0.5084 - val_accuracy: 0.8433\n",
      "Epoch 166/200\n",
      "219/219 [==============================] - 1s 3ms/step - loss: 0.2182 - accuracy: 0.9271 - val_loss: 0.4906 - val_accuracy: 0.8487\n",
      "Epoch 167/200\n",
      "219/219 [==============================] - 1s 3ms/step - loss: 0.2157 - accuracy: 0.9291 - val_loss: 0.4899 - val_accuracy: 0.8520\n",
      "Epoch 168/200\n",
      "219/219 [==============================] - 1s 3ms/step - loss: 0.2156 - accuracy: 0.9277 - val_loss: 0.4923 - val_accuracy: 0.8553\n",
      "Epoch 169/200\n",
      "219/219 [==============================] - 1s 3ms/step - loss: 0.2154 - accuracy: 0.9271 - val_loss: 0.4923 - val_accuracy: 0.8560\n",
      "Epoch 170/200\n",
      "219/219 [==============================] - 1s 3ms/step - loss: 0.2135 - accuracy: 0.9317 - val_loss: 0.4925 - val_accuracy: 0.8473\n",
      "Epoch 171/200\n",
      "219/219 [==============================] - 1s 3ms/step - loss: 0.2130 - accuracy: 0.9286 - val_loss: 0.4916 - val_accuracy: 0.8513\n",
      "Epoch 172/200\n",
      "219/219 [==============================] - 1s 3ms/step - loss: 0.2140 - accuracy: 0.9294 - val_loss: 0.5021 - val_accuracy: 0.8427\n",
      "Epoch 173/200\n",
      "219/219 [==============================] - 1s 3ms/step - loss: 0.2123 - accuracy: 0.9280 - val_loss: 0.5078 - val_accuracy: 0.8487\n",
      "Epoch 174/200\n",
      "219/219 [==============================] - 1s 3ms/step - loss: 0.2137 - accuracy: 0.9254 - val_loss: 0.4944 - val_accuracy: 0.8547\n",
      "Epoch 175/200\n",
      "219/219 [==============================] - 1s 3ms/step - loss: 0.2112 - accuracy: 0.9297 - val_loss: 0.4915 - val_accuracy: 0.8540\n",
      "Epoch 176/200\n",
      "219/219 [==============================] - 1s 3ms/step - loss: 0.2115 - accuracy: 0.9297 - val_loss: 0.4972 - val_accuracy: 0.8493\n",
      "Epoch 177/200\n",
      "219/219 [==============================] - 1s 3ms/step - loss: 0.2096 - accuracy: 0.9297 - val_loss: 0.4985 - val_accuracy: 0.8547\n",
      "Epoch 178/200\n",
      "219/219 [==============================] - 1s 3ms/step - loss: 0.2097 - accuracy: 0.9277 - val_loss: 0.4959 - val_accuracy: 0.8533\n",
      "Epoch 179/200\n",
      "219/219 [==============================] - 1s 3ms/step - loss: 0.2082 - accuracy: 0.9314 - val_loss: 0.5021 - val_accuracy: 0.8540\n",
      "Epoch 180/200\n",
      "219/219 [==============================] - 1s 3ms/step - loss: 0.2103 - accuracy: 0.9277 - val_loss: 0.4963 - val_accuracy: 0.8520\n",
      "Epoch 181/200\n",
      "219/219 [==============================] - 1s 3ms/step - loss: 0.2090 - accuracy: 0.9303 - val_loss: 0.5001 - val_accuracy: 0.8513\n",
      "Epoch 182/200\n",
      "219/219 [==============================] - 1s 4ms/step - loss: 0.2067 - accuracy: 0.9317 - val_loss: 0.5007 - val_accuracy: 0.8553\n",
      "Epoch 183/200\n",
      "219/219 [==============================] - 1s 4ms/step - loss: 0.2072 - accuracy: 0.9303 - val_loss: 0.5047 - val_accuracy: 0.8553\n",
      "Epoch 184/200\n",
      "219/219 [==============================] - 1s 3ms/step - loss: 0.2053 - accuracy: 0.9291 - val_loss: 0.5024 - val_accuracy: 0.8547\n",
      "Epoch 185/200\n",
      "219/219 [==============================] - 1s 3ms/step - loss: 0.2048 - accuracy: 0.9294 - val_loss: 0.5016 - val_accuracy: 0.8540\n",
      "Epoch 186/200\n",
      "219/219 [==============================] - 1s 3ms/step - loss: 0.2066 - accuracy: 0.9331 - val_loss: 0.5090 - val_accuracy: 0.8487\n",
      "Epoch 187/200\n",
      "219/219 [==============================] - 1s 3ms/step - loss: 0.2060 - accuracy: 0.9286 - val_loss: 0.5069 - val_accuracy: 0.8493\n",
      "Epoch 188/200\n",
      "219/219 [==============================] - 1s 3ms/step - loss: 0.2080 - accuracy: 0.9291 - val_loss: 0.5049 - val_accuracy: 0.8480\n",
      "Epoch 189/200\n",
      "219/219 [==============================] - 1s 3ms/step - loss: 0.2063 - accuracy: 0.9309 - val_loss: 0.5074 - val_accuracy: 0.8473\n",
      "Epoch 190/200\n",
      "219/219 [==============================] - 1s 3ms/step - loss: 0.2035 - accuracy: 0.9326 - val_loss: 0.5063 - val_accuracy: 0.8547\n",
      "Epoch 191/200\n",
      "219/219 [==============================] - 1s 3ms/step - loss: 0.2052 - accuracy: 0.9274 - val_loss: 0.4996 - val_accuracy: 0.8513\n",
      "Epoch 192/200\n",
      "219/219 [==============================] - 1s 3ms/step - loss: 0.2024 - accuracy: 0.9323 - val_loss: 0.5174 - val_accuracy: 0.8433\n",
      "Epoch 193/200\n",
      "219/219 [==============================] - 1s 3ms/step - loss: 0.2028 - accuracy: 0.9343 - val_loss: 0.5075 - val_accuracy: 0.8473\n",
      "Epoch 194/200\n",
      "219/219 [==============================] - 1s 3ms/step - loss: 0.2025 - accuracy: 0.9300 - val_loss: 0.5103 - val_accuracy: 0.8487\n",
      "Epoch 195/200\n",
      "219/219 [==============================] - 1s 4ms/step - loss: 0.2017 - accuracy: 0.9326 - val_loss: 0.5148 - val_accuracy: 0.8527\n",
      "Epoch 196/200\n",
      "219/219 [==============================] - 1s 3ms/step - loss: 0.2007 - accuracy: 0.9303 - val_loss: 0.5092 - val_accuracy: 0.8493\n",
      "Epoch 197/200\n",
      "219/219 [==============================] - 1s 3ms/step - loss: 0.2017 - accuracy: 0.9306 - val_loss: 0.5061 - val_accuracy: 0.8493\n",
      "Epoch 198/200\n",
      "219/219 [==============================] - 1s 3ms/step - loss: 0.2015 - accuracy: 0.9311 - val_loss: 0.4986 - val_accuracy: 0.8513\n",
      "Epoch 199/200\n",
      "219/219 [==============================] - 1s 3ms/step - loss: 0.2003 - accuracy: 0.9294 - val_loss: 0.5107 - val_accuracy: 0.8540\n",
      "Epoch 200/200\n",
      "219/219 [==============================] - 1s 3ms/step - loss: 0.1977 - accuracy: 0.9323 - val_loss: 0.5066 - val_accuracy: 0.8540\n"
     ]
    }
   ],
   "source": [
    "keras_history = model.fit(X_train, y_train , batch_size=16, epochs=200, validation_data=(X_test, y_test))"
   ]
  },
  {
   "cell_type": "markdown",
   "metadata": {
    "colab_type": "text",
    "id": "rUkigFLQcAfL"
   },
   "source": [
    "##The Keras History Object"
   ]
  },
  {
   "cell_type": "markdown",
   "metadata": {
    "colab_type": "text",
    "id": "xJRNfnw6cGaT"
   },
   "source": [
    "The Keras history object has two main attributes- \n",
    "\n",
    "1)model \n",
    "\n",
    "2)history\n",
    "\n",
    "The model contains all information about the weights, inputs, activations and so on\n",
    "\n",
    "For example, to get the weights you would code:\n",
    "\n",
    "\n",
    "```\n",
    "keras_history.model.get_weights()\n",
    "```\n",
    "\n"
   ]
  },
  {
   "cell_type": "markdown",
   "metadata": {
    "colab_type": "text",
    "id": "e1AnMOSFhg20"
   },
   "source": [
    "The history is a dictionary containing training loss, training accuracy, validation loss, validation accuracy, etc. after each epoch. Each key contains an array of the above."
   ]
  },
  {
   "cell_type": "code",
   "execution_count": 13,
   "metadata": {
    "colab": {
     "base_uri": "https://localhost:8080/",
     "height": 35
    },
    "colab_type": "code",
    "id": "vBUz_lDQh2y1",
    "outputId": "1231a5e6-58ca-4527-fa2f-000a6e648c74"
   },
   "outputs": [
    {
     "data": {
      "text/plain": [
       "dict_keys(['loss', 'accuracy', 'val_loss', 'val_accuracy'])"
      ]
     },
     "execution_count": 13,
     "metadata": {},
     "output_type": "execute_result"
    }
   ],
   "source": [
    "keras_history.history.keys()"
   ]
  },
  {
   "cell_type": "markdown",
   "metadata": {
    "colab_type": "text",
    "id": "4vq5LXY1iyfU"
   },
   "source": [
    "## Post training analysis"
   ]
  },
  {
   "cell_type": "code",
   "execution_count": 18,
   "metadata": {},
   "outputs": [
    {
     "name": "stdout",
     "output_type": "stream",
     "text": [
      "Requirement already satisfied: matplotlib in /home/vats/anaconda3/envs/deeplearning/lib/python3.8/site-packages (3.2.2)\n",
      "Requirement already satisfied: numpy>=1.11 in /home/vats/anaconda3/envs/deeplearning/lib/python3.8/site-packages (from matplotlib) (1.18.1)\n",
      "Requirement already satisfied: cycler>=0.10 in /home/vats/anaconda3/envs/deeplearning/lib/python3.8/site-packages (from matplotlib) (0.10.0)\n",
      "Requirement already satisfied: python-dateutil>=2.1 in /home/vats/anaconda3/envs/deeplearning/lib/python3.8/site-packages (from matplotlib) (2.8.1)\n",
      "Requirement already satisfied: pyparsing!=2.0.4,!=2.1.2,!=2.1.6,>=2.0.1 in /home/vats/anaconda3/envs/deeplearning/lib/python3.8/site-packages (from matplotlib) (2.4.7)\n",
      "Requirement already satisfied: kiwisolver>=1.0.1 in /home/vats/anaconda3/envs/deeplearning/lib/python3.8/site-packages (from matplotlib) (1.2.0)\n",
      "Requirement already satisfied: six in /home/vats/anaconda3/envs/deeplearning/lib/python3.8/site-packages (from cycler>=0.10->matplotlib) (1.15.0)\n"
     ]
    }
   ],
   "source": [
    "!pip install matplotlib"
   ]
  },
  {
   "cell_type": "markdown",
   "metadata": {
    "colab_type": "text",
    "id": "OwQOaGb2jCPX"
   },
   "source": [
    "Now we plot the training and test loss with each epoch. A key observation to make is that our model is overfitting- training accuracy is 94% while test accuracy is 87%. Notice how the training loss decreases while the test loss increases after a while"
   ]
  },
  {
   "cell_type": "code",
   "execution_count": 19,
   "metadata": {
    "colab": {
     "base_uri": "https://localhost:8080/",
     "height": 297
    },
    "colab_type": "code",
    "id": "qMSG1xPvOAoI",
    "outputId": "9745afe7-ac6f-4cfa-e0af-4c3ab57f18eb"
   },
   "outputs": [
    {
     "data": {
      "text/plain": [
       "<matplotlib.legend.Legend at 0x7ff44c608bb0>"
      ]
     },
     "execution_count": 19,
     "metadata": {},
     "output_type": "execute_result"
    },
    {
     "data": {
      "image/png": "[encoded data removed]",
      "text/plain": [
       "<Figure size 432x288 with 1 Axes>"
      ]
     },
     "metadata": {
      "needs_background": "light"
     },
     "output_type": "display_data"
    }
   ],
   "source": [
    "import matplotlib.pyplot as plt\n",
    "plt.plot(keras_history.history['loss'], label='Training loss')\n",
    "plt.plot(keras_history.history['val_loss'], color='red', label='Test loss')\n",
    "plt.xlabel('Epoch')\n",
    "plt.ylabel('Loss')\n",
    "plt.legend()"
   ]
  },
  {
   "cell_type": "markdown",
   "metadata": {
    "colab_type": "text",
    "id": "fkvqbRxUjewo"
   },
   "source": [
    "#**IMPROVING YOUR NEURAL NETWORK**"
   ]
  },
  {
   "cell_type": "markdown",
   "metadata": {
    "colab_type": "text",
    "id": "h96i8MOKjlPb"
   },
   "source": [
    "Great! Now you know how to build a basic artificial neural network in Keras. However, ANN's are extremely prone to overfitting, so always keep a close tab on that. We will now see how various methods are deployed in keras to prevent overfitting"
   ]
  },
  {
   "cell_type": "markdown",
   "metadata": {
    "colab_type": "text",
    "id": "KF4Hu4CVj9AK"
   },
   "source": [
    "## Regularization"
   ]
  },
  {
   "cell_type": "markdown",
   "metadata": {
    "colab_type": "text",
    "id": "g0M6IXEmkBUt"
   },
   "source": [
    "You can apply an L1, L2 or both L1 and L2 regularizers to a layer using tf.keras.regularizers. The value of $\\lambda$ is specified as an argument of the class. For example\n",
    "\n",
    "\n",
    "```\n",
    "model.add(tf.keras.layers.Dense(units=30, activation='relu', activity_regularizer=tf.keras.regularizers.l2(0.01)))\n",
    "```\n",
    "\n"
   ]
  },
  {
   "cell_type": "markdown",
   "metadata": {
    "colab_type": "text",
    "id": "c1egJo7ylNrQ"
   },
   "source": [
    "Click [here](https://keras.io/api/layers/regularizers/#l1-class) to check out the documentation"
   ]
  },
  {
   "cell_type": "markdown",
   "metadata": {
    "colab_type": "text",
    "id": "8UXYeM_PlYvj"
   },
   "source": [
    "## Batch Normalization"
   ]
  },
  {
   "cell_type": "markdown",
   "metadata": {
    "colab_type": "text",
    "id": "dwZfBan3lkgw"
   },
   "source": [
    "Nothing complicated here. Just do this:\n",
    "\n",
    "\n",
    "\n",
    "```\n",
    "model.add(tf.keras.layers.BatchNormalization())\n",
    "\n",
    "```\n",
    "\n"
   ]
  },
  {
   "cell_type": "markdown",
   "metadata": {
    "colab_type": "text",
    "id": "8Jdr1DsTlw86"
   },
   "source": [
    "[Link for BatchNorm](https://keras.io/api/layers/normalization_layers/batch_normalization/)"
   ]
  },
  {
   "cell_type": "markdown",
   "metadata": {
    "colab_type": "text",
    "id": "qa6aX97wmB2f"
   },
   "source": [
    "##Dropout"
   ]
  },
  {
   "cell_type": "markdown",
   "metadata": {
    "colab_type": "text",
    "id": "jA6A5QBRmEsi"
   },
   "source": [
    "Nothing complicated here too. The probability of a neuron being \"dropped out\" is specified. Higher the value, the \"simpler\" the neural network is. But make sure not to specify too high a dropout rate else the model will underfit\n",
    "\n",
    "\n",
    "\n",
    "```\n",
    "model.add(tf.keras.layers.Dropout(0.25))\n",
    "```\n",
    "\n"
   ]
  },
  {
   "cell_type": "markdown",
   "metadata": {
    "colab_type": "text",
    "id": "HBalrMLBnXep"
   },
   "source": [
    "#**PUTTING IT ALL TOGETHER**"
   ]
  },
  {
   "cell_type": "markdown",
   "metadata": {
    "colab_type": "text",
    "id": "zXTTGh_5nZ_M"
   },
   "source": [
    "Here is all of the concepts we have just learnt. Please note that all the abovementioned techniques to prevent overfitting have been implemented below, to get an idea of how they are used in Keras. In reality, all these are not necessary. "
   ]
  },
  {
   "cell_type": "code",
   "execution_count": 20,
   "metadata": {
    "colab": {
     "base_uri": "https://localhost:8080/",
     "height": 413
    },
    "colab_type": "code",
    "id": "dQDQMwlBjd9N",
    "outputId": "ad70f7c3-9e8d-4080-d127-b5ec83f1fed0"
   },
   "outputs": [
    {
     "name": "stdout",
     "output_type": "stream",
     "text": [
      "Model: \"sequential\"\n",
      "_________________________________________________________________\n",
      "Layer (type)                 Output Shape              Param #   \n",
      "=================================================================\n",
      "dense (Dense)                (None, 30)                330       \n",
      "_________________________________________________________________\n",
      "batch_normalization (BatchNo (None, 30)                120       \n",
      "_________________________________________________________________\n",
      "dropout (Dropout)            (None, 30)                0         \n",
      "_________________________________________________________________\n",
      "dense_1 (Dense)              (None, 15)                465       \n",
      "_________________________________________________________________\n",
      "batch_normalization_1 (Batch (None, 15)                60        \n",
      "_________________________________________________________________\n",
      "dropout_1 (Dropout)          (None, 15)                0         \n",
      "_________________________________________________________________\n",
      "dense_2 (Dense)              (None, 5)                 80        \n",
      "=================================================================\n",
      "Total params: 1,055\n",
      "Trainable params: 965\n",
      "Non-trainable params: 90\n",
      "_________________________________________________________________\n"
     ]
    }
   ],
   "source": [
    "tf.keras.backend.clear_session()\n",
    "model = tf.keras.Sequential()\n",
    "model.add(tf.keras.Input(shape=10,))\n",
    "model.add(tf.keras.layers.Dense(units=30, activation='relu', activity_regularizer=tf.keras.regularizers.l2(0.01))) \n",
    "model.add(tf.keras.layers.BatchNormalization())\n",
    "model.add(tf.keras.layers.Dropout(0.125))\n",
    "model.add(tf.keras.layers.Dense(units=15, activation='relu', activity_regularizer=tf.keras.regularizers.l2(0.01))) \n",
    "model.add(tf.keras.layers.BatchNormalization())\n",
    "model.add(tf.keras.layers.Dropout(0.25))\n",
    "model.add(tf.keras.layers.Dense(units=5, activation='softmax')) \n",
    "model.summary()"
   ]
  },
  {
   "cell_type": "code",
   "execution_count": 21,
   "metadata": {
    "colab": {
     "base_uri": "https://localhost:8080/",
     "height": 1000
    },
    "colab_type": "code",
    "id": "6b86CyX5qWB4",
    "outputId": "69944b9e-5f5f-4210-c3b0-cc229b6472d9"
   },
   "outputs": [
    {
     "name": "stdout",
     "output_type": "stream",
     "text": [
      "Epoch 1/200\n",
      "219/219 [==============================] - 1s 5ms/step - loss: 1.8484 - accuracy: 0.3583 - val_loss: 1.4414 - val_accuracy: 0.4980\n",
      "Epoch 2/200\n",
      "219/219 [==============================] - 1s 4ms/step - loss: 1.4794 - accuracy: 0.4840 - val_loss: 1.2884 - val_accuracy: 0.5587\n",
      "Epoch 3/200\n",
      "219/219 [==============================] - 1s 5ms/step - loss: 1.3659 - accuracy: 0.5089 - val_loss: 1.1858 - val_accuracy: 0.6027\n",
      "Epoch 4/200\n",
      "219/219 [==============================] - 1s 4ms/step - loss: 1.2654 - accuracy: 0.5457 - val_loss: 1.1000 - val_accuracy: 0.6433\n",
      "Epoch 5/200\n",
      "219/219 [==============================] - 1s 5ms/step - loss: 1.2206 - accuracy: 0.5817 - val_loss: 1.0330 - val_accuracy: 0.6867\n",
      "Epoch 6/200\n",
      "219/219 [==============================] - 1s 4ms/step - loss: 1.1638 - accuracy: 0.5917 - val_loss: 0.9646 - val_accuracy: 0.7053\n",
      "Epoch 7/200\n",
      "219/219 [==============================] - 1s 4ms/step - loss: 1.0905 - accuracy: 0.6149 - val_loss: 0.9075 - val_accuracy: 0.7247\n",
      "Epoch 8/200\n",
      "219/219 [==============================] - 1s 5ms/step - loss: 1.0440 - accuracy: 0.6454 - val_loss: 0.8703 - val_accuracy: 0.7367\n",
      "Epoch 9/200\n",
      "219/219 [==============================] - 1s 4ms/step - loss: 1.0152 - accuracy: 0.6486 - val_loss: 0.8305 - val_accuracy: 0.7413\n",
      "Epoch 10/200\n",
      "219/219 [==============================] - 1s 4ms/step - loss: 0.9833 - accuracy: 0.6589 - val_loss: 0.7980 - val_accuracy: 0.7480\n",
      "Epoch 11/200\n",
      "219/219 [==============================] - 1s 4ms/step - loss: 0.9563 - accuracy: 0.6583 - val_loss: 0.7622 - val_accuracy: 0.7567\n",
      "Epoch 12/200\n",
      "219/219 [==============================] - 1s 4ms/step - loss: 0.9441 - accuracy: 0.6797 - val_loss: 0.7416 - val_accuracy: 0.7613\n",
      "Epoch 13/200\n",
      "219/219 [==============================] - 1s 4ms/step - loss: 0.9108 - accuracy: 0.6903 - val_loss: 0.7223 - val_accuracy: 0.7733\n",
      "Epoch 14/200\n",
      "219/219 [==============================] - 1s 4ms/step - loss: 0.9011 - accuracy: 0.6829 - val_loss: 0.7079 - val_accuracy: 0.7727\n",
      "Epoch 15/200\n",
      "219/219 [==============================] - 1s 4ms/step - loss: 0.8760 - accuracy: 0.7006 - val_loss: 0.6960 - val_accuracy: 0.7733\n",
      "Epoch 16/200\n",
      "219/219 [==============================] - 1s 4ms/step - loss: 0.8669 - accuracy: 0.7063 - val_loss: 0.6712 - val_accuracy: 0.7827\n",
      "Epoch 17/200\n",
      "219/219 [==============================] - 1s 4ms/step - loss: 0.8709 - accuracy: 0.6997 - val_loss: 0.6700 - val_accuracy: 0.7880\n",
      "Epoch 18/200\n",
      "219/219 [==============================] - 1s 4ms/step - loss: 0.8443 - accuracy: 0.7114 - val_loss: 0.6567 - val_accuracy: 0.7887\n",
      "Epoch 19/200\n",
      "219/219 [==============================] - 1s 5ms/step - loss: 0.8381 - accuracy: 0.7129 - val_loss: 0.6491 - val_accuracy: 0.7893\n",
      "Epoch 20/200\n",
      "219/219 [==============================] - 1s 5ms/step - loss: 0.8571 - accuracy: 0.7043 - val_loss: 0.6429 - val_accuracy: 0.7900\n",
      "Epoch 21/200\n",
      "219/219 [==============================] - 1s 5ms/step - loss: 0.8293 - accuracy: 0.7171 - val_loss: 0.6358 - val_accuracy: 0.7847\n",
      "Epoch 22/200\n",
      "219/219 [==============================] - 1s 5ms/step - loss: 0.8058 - accuracy: 0.7263 - val_loss: 0.6302 - val_accuracy: 0.7947\n",
      "Epoch 23/200\n",
      "219/219 [==============================] - 1s 5ms/step - loss: 0.8147 - accuracy: 0.7186 - val_loss: 0.6277 - val_accuracy: 0.7953\n",
      "Epoch 24/200\n",
      "219/219 [==============================] - 1s 5ms/step - loss: 0.7992 - accuracy: 0.7226 - val_loss: 0.6145 - val_accuracy: 0.7980\n",
      "Epoch 25/200\n",
      "219/219 [==============================] - 1s 4ms/step - loss: 0.7785 - accuracy: 0.7243 - val_loss: 0.6014 - val_accuracy: 0.7947\n",
      "Epoch 26/200\n",
      "219/219 [==============================] - 1s 5ms/step - loss: 0.8008 - accuracy: 0.7286 - val_loss: 0.5935 - val_accuracy: 0.8000\n",
      "Epoch 27/200\n",
      "219/219 [==============================] - 1s 4ms/step - loss: 0.7781 - accuracy: 0.7286 - val_loss: 0.5950 - val_accuracy: 0.8020\n",
      "Epoch 28/200\n",
      "219/219 [==============================] - 1s 4ms/step - loss: 0.7771 - accuracy: 0.7303 - val_loss: 0.5801 - val_accuracy: 0.7987\n",
      "Epoch 29/200\n",
      "219/219 [==============================] - 1s 4ms/step - loss: 0.7642 - accuracy: 0.7437 - val_loss: 0.5741 - val_accuracy: 0.7980\n",
      "Epoch 30/200\n",
      "219/219 [==============================] - 1s 4ms/step - loss: 0.7664 - accuracy: 0.7366 - val_loss: 0.5698 - val_accuracy: 0.8093\n",
      "Epoch 31/200\n",
      "219/219 [==============================] - 1s 5ms/step - loss: 0.7539 - accuracy: 0.7343 - val_loss: 0.5611 - val_accuracy: 0.8147\n",
      "Epoch 32/200\n",
      "219/219 [==============================] - 1s 5ms/step - loss: 0.7552 - accuracy: 0.7323 - val_loss: 0.5495 - val_accuracy: 0.8220\n",
      "Epoch 33/200\n",
      "219/219 [==============================] - 1s 5ms/step - loss: 0.7376 - accuracy: 0.7494 - val_loss: 0.5591 - val_accuracy: 0.8133\n",
      "Epoch 34/200\n",
      "219/219 [==============================] - 1s 5ms/step - loss: 0.7422 - accuracy: 0.7389 - val_loss: 0.5553 - val_accuracy: 0.8187\n",
      "Epoch 35/200\n",
      "219/219 [==============================] - 1s 4ms/step - loss: 0.7504 - accuracy: 0.7426 - val_loss: 0.5507 - val_accuracy: 0.8180\n",
      "Epoch 36/200\n",
      "219/219 [==============================] - 1s 5ms/step - loss: 0.7514 - accuracy: 0.7383 - val_loss: 0.5508 - val_accuracy: 0.8240\n",
      "Epoch 37/200\n",
      "219/219 [==============================] - 1s 4ms/step - loss: 0.7223 - accuracy: 0.7457 - val_loss: 0.5393 - val_accuracy: 0.8193\n",
      "Epoch 38/200\n",
      "219/219 [==============================] - 1s 5ms/step - loss: 0.7406 - accuracy: 0.7443 - val_loss: 0.5483 - val_accuracy: 0.8233\n",
      "Epoch 39/200\n",
      "219/219 [==============================] - 1s 5ms/step - loss: 0.7289 - accuracy: 0.7471 - val_loss: 0.5438 - val_accuracy: 0.8160\n",
      "Epoch 40/200\n",
      "219/219 [==============================] - 1s 4ms/step - loss: 0.7159 - accuracy: 0.7471 - val_loss: 0.5477 - val_accuracy: 0.8227\n",
      "Epoch 41/200\n",
      "219/219 [==============================] - 1s 4ms/step - loss: 0.7348 - accuracy: 0.7523 - val_loss: 0.5414 - val_accuracy: 0.8193\n",
      "Epoch 42/200\n",
      "219/219 [==============================] - 1s 4ms/step - loss: 0.7223 - accuracy: 0.7506 - val_loss: 0.5413 - val_accuracy: 0.8200\n",
      "Epoch 43/200\n",
      "219/219 [==============================] - 1s 4ms/step - loss: 0.7098 - accuracy: 0.7529 - val_loss: 0.5289 - val_accuracy: 0.8267\n",
      "Epoch 44/200\n",
      "219/219 [==============================] - 1s 5ms/step - loss: 0.7167 - accuracy: 0.7454 - val_loss: 0.5488 - val_accuracy: 0.8207\n",
      "Epoch 45/200\n",
      "219/219 [==============================] - 1s 5ms/step - loss: 0.7066 - accuracy: 0.7503 - val_loss: 0.5210 - val_accuracy: 0.8413\n",
      "Epoch 46/200\n",
      "219/219 [==============================] - 1s 5ms/step - loss: 0.7086 - accuracy: 0.7549 - val_loss: 0.5240 - val_accuracy: 0.8260\n",
      "Epoch 47/200\n",
      "219/219 [==============================] - 1s 5ms/step - loss: 0.7007 - accuracy: 0.7500 - val_loss: 0.5257 - val_accuracy: 0.8227\n",
      "Epoch 48/200\n",
      "219/219 [==============================] - 1s 5ms/step - loss: 0.7098 - accuracy: 0.7497 - val_loss: 0.5325 - val_accuracy: 0.8187\n",
      "Epoch 49/200\n",
      "219/219 [==============================] - 1s 5ms/step - loss: 0.6939 - accuracy: 0.7537 - val_loss: 0.5213 - val_accuracy: 0.8280\n",
      "Epoch 50/200\n",
      "219/219 [==============================] - 1s 5ms/step - loss: 0.7096 - accuracy: 0.7597 - val_loss: 0.5145 - val_accuracy: 0.8307\n",
      "Epoch 51/200\n",
      "219/219 [==============================] - 1s 5ms/step - loss: 0.7036 - accuracy: 0.7537 - val_loss: 0.5148 - val_accuracy: 0.8287\n",
      "Epoch 52/200\n",
      "219/219 [==============================] - 1s 5ms/step - loss: 0.7211 - accuracy: 0.7449 - val_loss: 0.5190 - val_accuracy: 0.8260\n",
      "Epoch 53/200\n",
      "219/219 [==============================] - 1s 5ms/step - loss: 0.6971 - accuracy: 0.7566 - val_loss: 0.5138 - val_accuracy: 0.8253\n",
      "Epoch 54/200\n",
      "219/219 [==============================] - 1s 5ms/step - loss: 0.7025 - accuracy: 0.7546 - val_loss: 0.5145 - val_accuracy: 0.8247\n",
      "Epoch 55/200\n",
      "219/219 [==============================] - 1s 5ms/step - loss: 0.7134 - accuracy: 0.7420 - val_loss: 0.5148 - val_accuracy: 0.8307\n",
      "Epoch 56/200\n",
      "219/219 [==============================] - 1s 5ms/step - loss: 0.6894 - accuracy: 0.7503 - val_loss: 0.5176 - val_accuracy: 0.8247\n",
      "Epoch 57/200\n",
      "219/219 [==============================] - 1s 5ms/step - loss: 0.7029 - accuracy: 0.7489 - val_loss: 0.5179 - val_accuracy: 0.8320\n"
     ]
    },
    {
     "name": "stdout",
     "output_type": "stream",
     "text": [
      "Epoch 58/200\n",
      "219/219 [==============================] - 1s 5ms/step - loss: 0.6980 - accuracy: 0.7549 - val_loss: 0.5060 - val_accuracy: 0.8260\n",
      "Epoch 59/200\n",
      "219/219 [==============================] - 1s 5ms/step - loss: 0.6909 - accuracy: 0.7557 - val_loss: 0.5114 - val_accuracy: 0.8267\n",
      "Epoch 60/200\n",
      "219/219 [==============================] - 1s 5ms/step - loss: 0.6995 - accuracy: 0.7540 - val_loss: 0.5034 - val_accuracy: 0.8307\n",
      "Epoch 61/200\n",
      "219/219 [==============================] - 1s 4ms/step - loss: 0.6750 - accuracy: 0.7654 - val_loss: 0.5114 - val_accuracy: 0.8240\n",
      "Epoch 62/200\n",
      "219/219 [==============================] - 1s 4ms/step - loss: 0.6832 - accuracy: 0.7617 - val_loss: 0.5057 - val_accuracy: 0.8313\n",
      "Epoch 63/200\n",
      "219/219 [==============================] - 1s 5ms/step - loss: 0.6741 - accuracy: 0.7717 - val_loss: 0.5028 - val_accuracy: 0.8273\n",
      "Epoch 64/200\n",
      "219/219 [==============================] - 1s 5ms/step - loss: 0.7020 - accuracy: 0.7623 - val_loss: 0.5066 - val_accuracy: 0.8320\n",
      "Epoch 65/200\n",
      "219/219 [==============================] - 1s 5ms/step - loss: 0.6820 - accuracy: 0.7637 - val_loss: 0.5037 - val_accuracy: 0.8387\n",
      "Epoch 66/200\n",
      "219/219 [==============================] - 1s 6ms/step - loss: 0.6821 - accuracy: 0.7563 - val_loss: 0.5081 - val_accuracy: 0.8287\n",
      "Epoch 67/200\n",
      "219/219 [==============================] - 1s 6ms/step - loss: 0.6808 - accuracy: 0.7626 - val_loss: 0.4983 - val_accuracy: 0.8307\n",
      "Epoch 68/200\n",
      "219/219 [==============================] - 1s 5ms/step - loss: 0.6945 - accuracy: 0.7606 - val_loss: 0.4939 - val_accuracy: 0.8333\n",
      "Epoch 69/200\n",
      "219/219 [==============================] - 1s 5ms/step - loss: 0.6961 - accuracy: 0.7511 - val_loss: 0.5002 - val_accuracy: 0.8313\n",
      "Epoch 70/200\n",
      "219/219 [==============================] - 1s 5ms/step - loss: 0.6872 - accuracy: 0.7494 - val_loss: 0.5017 - val_accuracy: 0.8313\n",
      "Epoch 71/200\n",
      "219/219 [==============================] - 1s 4ms/step - loss: 0.6793 - accuracy: 0.7557 - val_loss: 0.4887 - val_accuracy: 0.8413\n",
      "Epoch 72/200\n",
      "219/219 [==============================] - 1s 4ms/step - loss: 0.6767 - accuracy: 0.7674 - val_loss: 0.4851 - val_accuracy: 0.8393\n",
      "Epoch 73/200\n",
      "219/219 [==============================] - 1s 4ms/step - loss: 0.6566 - accuracy: 0.7697 - val_loss: 0.4995 - val_accuracy: 0.8373\n",
      "Epoch 74/200\n",
      "219/219 [==============================] - 1s 4ms/step - loss: 0.6897 - accuracy: 0.7543 - val_loss: 0.4973 - val_accuracy: 0.8307\n",
      "Epoch 75/200\n",
      "219/219 [==============================] - 1s 5ms/step - loss: 0.6731 - accuracy: 0.7580 - val_loss: 0.4884 - val_accuracy: 0.8313\n",
      "Epoch 76/200\n",
      "219/219 [==============================] - 1s 5ms/step - loss: 0.6676 - accuracy: 0.7654 - val_loss: 0.4818 - val_accuracy: 0.8373\n",
      "Epoch 77/200\n",
      "219/219 [==============================] - 1s 4ms/step - loss: 0.6566 - accuracy: 0.7711 - val_loss: 0.4905 - val_accuracy: 0.8327\n",
      "Epoch 78/200\n",
      "219/219 [==============================] - 1s 4ms/step - loss: 0.6699 - accuracy: 0.7606 - val_loss: 0.4794 - val_accuracy: 0.8440\n",
      "Epoch 79/200\n",
      "219/219 [==============================] - 1s 5ms/step - loss: 0.6618 - accuracy: 0.7614 - val_loss: 0.4833 - val_accuracy: 0.8347\n",
      "Epoch 80/200\n",
      "219/219 [==============================] - 1s 5ms/step - loss: 0.6685 - accuracy: 0.7611 - val_loss: 0.4772 - val_accuracy: 0.8387\n",
      "Epoch 81/200\n",
      "219/219 [==============================] - 1s 4ms/step - loss: 0.6674 - accuracy: 0.7629 - val_loss: 0.4835 - val_accuracy: 0.8367\n",
      "Epoch 82/200\n",
      "219/219 [==============================] - 1s 4ms/step - loss: 0.6699 - accuracy: 0.7654 - val_loss: 0.4820 - val_accuracy: 0.8380\n",
      "Epoch 83/200\n",
      "219/219 [==============================] - 1s 4ms/step - loss: 0.6667 - accuracy: 0.7646 - val_loss: 0.4729 - val_accuracy: 0.8467\n",
      "Epoch 84/200\n",
      "219/219 [==============================] - 1s 4ms/step - loss: 0.6569 - accuracy: 0.7683 - val_loss: 0.4802 - val_accuracy: 0.8333\n",
      "Epoch 85/200\n",
      "219/219 [==============================] - 1s 4ms/step - loss: 0.6715 - accuracy: 0.7683 - val_loss: 0.4802 - val_accuracy: 0.8347\n",
      "Epoch 86/200\n",
      "219/219 [==============================] - 1s 4ms/step - loss: 0.6376 - accuracy: 0.7714 - val_loss: 0.5048 - val_accuracy: 0.8307\n",
      "Epoch 87/200\n",
      "219/219 [==============================] - 1s 4ms/step - loss: 0.6534 - accuracy: 0.7660 - val_loss: 0.4903 - val_accuracy: 0.8333\n",
      "Epoch 88/200\n",
      "219/219 [==============================] - 1s 4ms/step - loss: 0.6742 - accuracy: 0.7617 - val_loss: 0.4861 - val_accuracy: 0.8287\n",
      "Epoch 89/200\n",
      "219/219 [==============================] - 1s 4ms/step - loss: 0.6801 - accuracy: 0.7549 - val_loss: 0.4776 - val_accuracy: 0.8387\n",
      "Epoch 90/200\n",
      "219/219 [==============================] - 1s 4ms/step - loss: 0.6739 - accuracy: 0.7534 - val_loss: 0.4772 - val_accuracy: 0.8360\n",
      "Epoch 91/200\n",
      "219/219 [==============================] - 1s 4ms/step - loss: 0.6548 - accuracy: 0.7674 - val_loss: 0.4678 - val_accuracy: 0.8347\n",
      "Epoch 92/200\n",
      "219/219 [==============================] - 1s 4ms/step - loss: 0.6722 - accuracy: 0.7663 - val_loss: 0.4755 - val_accuracy: 0.8373\n",
      "Epoch 93/200\n",
      "219/219 [==============================] - 1s 4ms/step - loss: 0.6447 - accuracy: 0.7691 - val_loss: 0.4751 - val_accuracy: 0.8320\n",
      "Epoch 94/200\n",
      "219/219 [==============================] - 1s 5ms/step - loss: 0.6814 - accuracy: 0.7583 - val_loss: 0.4791 - val_accuracy: 0.8313\n",
      "Epoch 95/200\n",
      "219/219 [==============================] - 1s 4ms/step - loss: 0.6741 - accuracy: 0.7626 - val_loss: 0.4759 - val_accuracy: 0.8393\n",
      "Epoch 96/200\n",
      "219/219 [==============================] - 1s 4ms/step - loss: 0.6683 - accuracy: 0.7663 - val_loss: 0.4737 - val_accuracy: 0.8367\n",
      "Epoch 97/200\n",
      "219/219 [==============================] - 1s 4ms/step - loss: 0.6558 - accuracy: 0.7726 - val_loss: 0.4685 - val_accuracy: 0.8347\n",
      "Epoch 98/200\n",
      "219/219 [==============================] - 1s 4ms/step - loss: 0.6580 - accuracy: 0.7694 - val_loss: 0.4649 - val_accuracy: 0.8420\n",
      "Epoch 99/200\n",
      "219/219 [==============================] - 1s 4ms/step - loss: 0.6603 - accuracy: 0.7714 - val_loss: 0.4752 - val_accuracy: 0.8313\n",
      "Epoch 100/200\n",
      "219/219 [==============================] - 1s 4ms/step - loss: 0.6570 - accuracy: 0.7689 - val_loss: 0.4683 - val_accuracy: 0.8427\n",
      "Epoch 101/200\n",
      "219/219 [==============================] - 1s 4ms/step - loss: 0.6618 - accuracy: 0.7626 - val_loss: 0.4783 - val_accuracy: 0.8287\n",
      "Epoch 102/200\n",
      "219/219 [==============================] - 1s 4ms/step - loss: 0.6694 - accuracy: 0.7720 - val_loss: 0.4730 - val_accuracy: 0.8320\n",
      "Epoch 103/200\n",
      "219/219 [==============================] - 1s 4ms/step - loss: 0.6513 - accuracy: 0.7711 - val_loss: 0.4668 - val_accuracy: 0.8433\n",
      "Epoch 104/200\n",
      "219/219 [==============================] - 1s 4ms/step - loss: 0.6388 - accuracy: 0.7723 - val_loss: 0.4667 - val_accuracy: 0.8440\n",
      "Epoch 105/200\n",
      "219/219 [==============================] - 1s 4ms/step - loss: 0.6707 - accuracy: 0.7700 - val_loss: 0.4612 - val_accuracy: 0.8347\n",
      "Epoch 106/200\n",
      "219/219 [==============================] - 1s 4ms/step - loss: 0.6478 - accuracy: 0.7677 - val_loss: 0.4639 - val_accuracy: 0.8453\n",
      "Epoch 107/200\n",
      "219/219 [==============================] - 1s 4ms/step - loss: 0.6656 - accuracy: 0.7614 - val_loss: 0.4733 - val_accuracy: 0.8333\n",
      "Epoch 108/200\n",
      "219/219 [==============================] - 1s 4ms/step - loss: 0.6430 - accuracy: 0.7740 - val_loss: 0.4733 - val_accuracy: 0.8347\n",
      "Epoch 109/200\n",
      "219/219 [==============================] - 1s 4ms/step - loss: 0.6537 - accuracy: 0.7714 - val_loss: 0.4761 - val_accuracy: 0.8353\n",
      "Epoch 110/200\n",
      "219/219 [==============================] - 1s 4ms/step - loss: 0.6428 - accuracy: 0.7734 - val_loss: 0.4601 - val_accuracy: 0.8433\n",
      "Epoch 111/200\n",
      "219/219 [==============================] - 1s 4ms/step - loss: 0.6510 - accuracy: 0.7711 - val_loss: 0.4656 - val_accuracy: 0.8313\n",
      "Epoch 112/200\n",
      "219/219 [==============================] - 1s 4ms/step - loss: 0.6513 - accuracy: 0.7677 - val_loss: 0.4785 - val_accuracy: 0.8307\n",
      "Epoch 113/200\n",
      "219/219 [==============================] - 1s 4ms/step - loss: 0.6558 - accuracy: 0.7737 - val_loss: 0.4623 - val_accuracy: 0.8420\n",
      "Epoch 114/200\n",
      "219/219 [==============================] - 1s 4ms/step - loss: 0.6572 - accuracy: 0.7611 - val_loss: 0.4714 - val_accuracy: 0.8407\n"
     ]
    },
    {
     "name": "stdout",
     "output_type": "stream",
     "text": [
      "Epoch 115/200\n",
      "219/219 [==============================] - 1s 4ms/step - loss: 0.6595 - accuracy: 0.7734 - val_loss: 0.4630 - val_accuracy: 0.8460\n",
      "Epoch 116/200\n",
      "219/219 [==============================] - 1s 4ms/step - loss: 0.6451 - accuracy: 0.7703 - val_loss: 0.4671 - val_accuracy: 0.8347\n",
      "Epoch 117/200\n",
      "219/219 [==============================] - 1s 4ms/step - loss: 0.6290 - accuracy: 0.7780 - val_loss: 0.4631 - val_accuracy: 0.8387\n",
      "Epoch 118/200\n",
      "219/219 [==============================] - 1s 4ms/step - loss: 0.6335 - accuracy: 0.7737 - val_loss: 0.4542 - val_accuracy: 0.8527\n",
      "Epoch 119/200\n",
      "219/219 [==============================] - 1s 4ms/step - loss: 0.6530 - accuracy: 0.7734 - val_loss: 0.4661 - val_accuracy: 0.8373\n",
      "Epoch 120/200\n",
      "219/219 [==============================] - 1s 4ms/step - loss: 0.6510 - accuracy: 0.7697 - val_loss: 0.4747 - val_accuracy: 0.8407\n",
      "Epoch 121/200\n",
      "219/219 [==============================] - 1s 4ms/step - loss: 0.6568 - accuracy: 0.7709 - val_loss: 0.4610 - val_accuracy: 0.8427\n",
      "Epoch 122/200\n",
      "219/219 [==============================] - 1s 4ms/step - loss: 0.6112 - accuracy: 0.7877 - val_loss: 0.4671 - val_accuracy: 0.8360\n",
      "Epoch 123/200\n",
      "219/219 [==============================] - 1s 4ms/step - loss: 0.6651 - accuracy: 0.7637 - val_loss: 0.4543 - val_accuracy: 0.8413\n",
      "Epoch 124/200\n",
      "219/219 [==============================] - 1s 4ms/step - loss: 0.6471 - accuracy: 0.7640 - val_loss: 0.4636 - val_accuracy: 0.8460\n",
      "Epoch 125/200\n",
      "219/219 [==============================] - 1s 4ms/step - loss: 0.6544 - accuracy: 0.7594 - val_loss: 0.4534 - val_accuracy: 0.8500\n",
      "Epoch 126/200\n",
      "219/219 [==============================] - 1s 4ms/step - loss: 0.6368 - accuracy: 0.7714 - val_loss: 0.4566 - val_accuracy: 0.8507\n",
      "Epoch 127/200\n",
      "219/219 [==============================] - 1s 4ms/step - loss: 0.6626 - accuracy: 0.7634 - val_loss: 0.4576 - val_accuracy: 0.8440\n",
      "Epoch 128/200\n",
      "219/219 [==============================] - 1s 4ms/step - loss: 0.6456 - accuracy: 0.7709 - val_loss: 0.4515 - val_accuracy: 0.8400\n",
      "Epoch 129/200\n",
      "219/219 [==============================] - 1s 4ms/step - loss: 0.6682 - accuracy: 0.7711 - val_loss: 0.4702 - val_accuracy: 0.8347\n",
      "Epoch 130/200\n",
      "219/219 [==============================] - 1s 4ms/step - loss: 0.6301 - accuracy: 0.7834 - val_loss: 0.4633 - val_accuracy: 0.8433\n",
      "Epoch 131/200\n",
      "219/219 [==============================] - 1s 4ms/step - loss: 0.6556 - accuracy: 0.7597 - val_loss: 0.4676 - val_accuracy: 0.8400\n",
      "Epoch 132/200\n",
      "219/219 [==============================] - 1s 4ms/step - loss: 0.6439 - accuracy: 0.7737 - val_loss: 0.4610 - val_accuracy: 0.8447\n",
      "Epoch 133/200\n",
      "219/219 [==============================] - 1s 4ms/step - loss: 0.6437 - accuracy: 0.7720 - val_loss: 0.4549 - val_accuracy: 0.8380\n",
      "Epoch 134/200\n",
      "219/219 [==============================] - 1s 4ms/step - loss: 0.6493 - accuracy: 0.7749 - val_loss: 0.4506 - val_accuracy: 0.8447\n",
      "Epoch 135/200\n",
      "219/219 [==============================] - 1s 4ms/step - loss: 0.6487 - accuracy: 0.7631 - val_loss: 0.4565 - val_accuracy: 0.8380\n",
      "Epoch 136/200\n",
      "219/219 [==============================] - 1s 4ms/step - loss: 0.6352 - accuracy: 0.7769 - val_loss: 0.4549 - val_accuracy: 0.8460\n",
      "Epoch 137/200\n",
      "219/219 [==============================] - 1s 4ms/step - loss: 0.6496 - accuracy: 0.7714 - val_loss: 0.4569 - val_accuracy: 0.8393\n",
      "Epoch 138/200\n",
      "219/219 [==============================] - 1s 4ms/step - loss: 0.6417 - accuracy: 0.7754 - val_loss: 0.4617 - val_accuracy: 0.8433\n",
      "Epoch 139/200\n",
      "219/219 [==============================] - 1s 4ms/step - loss: 0.6226 - accuracy: 0.7880 - val_loss: 0.4574 - val_accuracy: 0.8373\n",
      "Epoch 140/200\n",
      "219/219 [==============================] - 1s 4ms/step - loss: 0.6558 - accuracy: 0.7686 - val_loss: 0.4578 - val_accuracy: 0.8467\n",
      "Epoch 141/200\n",
      "219/219 [==============================] - 1s 4ms/step - loss: 0.6171 - accuracy: 0.7814 - val_loss: 0.4555 - val_accuracy: 0.8480\n",
      "Epoch 142/200\n",
      "219/219 [==============================] - 1s 4ms/step - loss: 0.6350 - accuracy: 0.7769 - val_loss: 0.4605 - val_accuracy: 0.8427\n",
      "Epoch 143/200\n",
      "219/219 [==============================] - 1s 4ms/step - loss: 0.6453 - accuracy: 0.7763 - val_loss: 0.4516 - val_accuracy: 0.8453\n",
      "Epoch 144/200\n",
      "219/219 [==============================] - 1s 4ms/step - loss: 0.6320 - accuracy: 0.7811 - val_loss: 0.4519 - val_accuracy: 0.8493\n",
      "Epoch 145/200\n",
      "219/219 [==============================] - 1s 4ms/step - loss: 0.6283 - accuracy: 0.7800 - val_loss: 0.4513 - val_accuracy: 0.8513\n",
      "Epoch 146/200\n",
      "219/219 [==============================] - 1s 4ms/step - loss: 0.6640 - accuracy: 0.7714 - val_loss: 0.4607 - val_accuracy: 0.8360\n",
      "Epoch 147/200\n",
      "219/219 [==============================] - 1s 4ms/step - loss: 0.6677 - accuracy: 0.7660 - val_loss: 0.4572 - val_accuracy: 0.8447\n",
      "Epoch 148/200\n",
      "219/219 [==============================] - 1s 4ms/step - loss: 0.6440 - accuracy: 0.7651 - val_loss: 0.4576 - val_accuracy: 0.8373\n",
      "Epoch 149/200\n",
      "219/219 [==============================] - 1s 4ms/step - loss: 0.6353 - accuracy: 0.7751 - val_loss: 0.4670 - val_accuracy: 0.8480\n",
      "Epoch 150/200\n",
      "219/219 [==============================] - 1s 4ms/step - loss: 0.6548 - accuracy: 0.7729 - val_loss: 0.4572 - val_accuracy: 0.8333\n",
      "Epoch 151/200\n",
      "219/219 [==============================] - 1s 4ms/step - loss: 0.6441 - accuracy: 0.7740 - val_loss: 0.4836 - val_accuracy: 0.8327\n",
      "Epoch 152/200\n",
      "219/219 [==============================] - 1s 4ms/step - loss: 0.6696 - accuracy: 0.7577 - val_loss: 0.4594 - val_accuracy: 0.8387\n",
      "Epoch 153/200\n",
      "219/219 [==============================] - 1s 4ms/step - loss: 0.6624 - accuracy: 0.7669 - val_loss: 0.4540 - val_accuracy: 0.8527\n",
      "Epoch 154/200\n",
      "219/219 [==============================] - 1s 4ms/step - loss: 0.6512 - accuracy: 0.7700 - val_loss: 0.4550 - val_accuracy: 0.8467\n",
      "Epoch 155/200\n",
      "219/219 [==============================] - 1s 4ms/step - loss: 0.6179 - accuracy: 0.7869 - val_loss: 0.4511 - val_accuracy: 0.8373\n",
      "Epoch 156/200\n",
      "219/219 [==============================] - 1s 4ms/step - loss: 0.6093 - accuracy: 0.7843 - val_loss: 0.4711 - val_accuracy: 0.8340\n",
      "Epoch 157/200\n",
      "219/219 [==============================] - 1s 4ms/step - loss: 0.6269 - accuracy: 0.7754 - val_loss: 0.4654 - val_accuracy: 0.8453\n",
      "Epoch 158/200\n",
      "219/219 [==============================] - 1s 4ms/step - loss: 0.6444 - accuracy: 0.7749 - val_loss: 0.4627 - val_accuracy: 0.8347\n",
      "Epoch 159/200\n",
      "219/219 [==============================] - 1s 4ms/step - loss: 0.6273 - accuracy: 0.7789 - val_loss: 0.4627 - val_accuracy: 0.8353\n",
      "Epoch 160/200\n",
      "219/219 [==============================] - 1s 4ms/step - loss: 0.6138 - accuracy: 0.7880 - val_loss: 0.4630 - val_accuracy: 0.8313\n",
      "Epoch 161/200\n",
      "219/219 [==============================] - 1s 4ms/step - loss: 0.6469 - accuracy: 0.7714 - val_loss: 0.4683 - val_accuracy: 0.8400\n",
      "Epoch 162/200\n",
      "219/219 [==============================] - 1s 4ms/step - loss: 0.6363 - accuracy: 0.7689 - val_loss: 0.4527 - val_accuracy: 0.8380\n",
      "Epoch 163/200\n",
      "219/219 [==============================] - 1s 4ms/step - loss: 0.6486 - accuracy: 0.7706 - val_loss: 0.4530 - val_accuracy: 0.8440\n",
      "Epoch 164/200\n",
      "219/219 [==============================] - 1s 4ms/step - loss: 0.6543 - accuracy: 0.7691 - val_loss: 0.4538 - val_accuracy: 0.8373\n",
      "Epoch 165/200\n",
      "219/219 [==============================] - 1s 4ms/step - loss: 0.6255 - accuracy: 0.7746 - val_loss: 0.4572 - val_accuracy: 0.8433\n",
      "Epoch 166/200\n",
      "219/219 [==============================] - 1s 4ms/step - loss: 0.6319 - accuracy: 0.7717 - val_loss: 0.4604 - val_accuracy: 0.8433\n",
      "Epoch 167/200\n",
      "219/219 [==============================] - 1s 4ms/step - loss: 0.6354 - accuracy: 0.7749 - val_loss: 0.4591 - val_accuracy: 0.8400\n",
      "Epoch 168/200\n",
      "219/219 [==============================] - 1s 4ms/step - loss: 0.6460 - accuracy: 0.7691 - val_loss: 0.4572 - val_accuracy: 0.8360\n",
      "Epoch 169/200\n",
      "219/219 [==============================] - 1s 4ms/step - loss: 0.6337 - accuracy: 0.7814 - val_loss: 0.4514 - val_accuracy: 0.8433\n",
      "Epoch 170/200\n",
      "219/219 [==============================] - 1s 4ms/step - loss: 0.6323 - accuracy: 0.7686 - val_loss: 0.4604 - val_accuracy: 0.8447\n",
      "Epoch 171/200\n",
      "219/219 [==============================] - 1s 4ms/step - loss: 0.6207 - accuracy: 0.7829 - val_loss: 0.4505 - val_accuracy: 0.8407\n",
      "Epoch 172/200\n",
      "219/219 [==============================] - 1s 4ms/step - loss: 0.6110 - accuracy: 0.7823 - val_loss: 0.4376 - val_accuracy: 0.8533\n",
      "Epoch 173/200\n",
      "219/219 [==============================] - 1s 4ms/step - loss: 0.6397 - accuracy: 0.7743 - val_loss: 0.4480 - val_accuracy: 0.8420\n",
      "Epoch 174/200\n",
      "219/219 [==============================] - 1s 4ms/step - loss: 0.6264 - accuracy: 0.7866 - val_loss: 0.4532 - val_accuracy: 0.8353\n",
      "Epoch 175/200\n",
      "219/219 [==============================] - 1s 4ms/step - loss: 0.6383 - accuracy: 0.7777 - val_loss: 0.4460 - val_accuracy: 0.8413\n",
      "Epoch 176/200\n",
      "219/219 [==============================] - 1s 4ms/step - loss: 0.6131 - accuracy: 0.7817 - val_loss: 0.4528 - val_accuracy: 0.8487\n",
      "Epoch 177/200\n",
      "219/219 [==============================] - 1s 4ms/step - loss: 0.6764 - accuracy: 0.7600 - val_loss: 0.4538 - val_accuracy: 0.8460\n",
      "Epoch 178/200\n",
      "219/219 [==============================] - 1s 4ms/step - loss: 0.6476 - accuracy: 0.7686 - val_loss: 0.4569 - val_accuracy: 0.8413\n",
      "Epoch 179/200\n",
      "219/219 [==============================] - 1s 4ms/step - loss: 0.6375 - accuracy: 0.7660 - val_loss: 0.4486 - val_accuracy: 0.8467\n",
      "Epoch 180/200\n",
      "219/219 [==============================] - 1s 4ms/step - loss: 0.6511 - accuracy: 0.7723 - val_loss: 0.4557 - val_accuracy: 0.8380\n",
      "Epoch 181/200\n",
      "219/219 [==============================] - 1s 4ms/step - loss: 0.6307 - accuracy: 0.7763 - val_loss: 0.4501 - val_accuracy: 0.8407\n",
      "Epoch 182/200\n",
      "219/219 [==============================] - 1s 4ms/step - loss: 0.6473 - accuracy: 0.7663 - val_loss: 0.4591 - val_accuracy: 0.8493\n",
      "Epoch 183/200\n",
      "219/219 [==============================] - 1s 4ms/step - loss: 0.6249 - accuracy: 0.7766 - val_loss: 0.4580 - val_accuracy: 0.8453\n",
      "Epoch 184/200\n",
      "219/219 [==============================] - 1s 4ms/step - loss: 0.6442 - accuracy: 0.7637 - val_loss: 0.4601 - val_accuracy: 0.8433\n",
      "Epoch 185/200\n",
      "219/219 [==============================] - 1s 4ms/step - loss: 0.6148 - accuracy: 0.7909 - val_loss: 0.4482 - val_accuracy: 0.8447\n",
      "Epoch 186/200\n",
      "219/219 [==============================] - 1s 4ms/step - loss: 0.6180 - accuracy: 0.7829 - val_loss: 0.4508 - val_accuracy: 0.8427\n",
      "Epoch 187/200\n",
      "219/219 [==============================] - 1s 4ms/step - loss: 0.6212 - accuracy: 0.7789 - val_loss: 0.4431 - val_accuracy: 0.8427\n",
      "Epoch 188/200\n",
      "219/219 [==============================] - 1s 4ms/step - loss: 0.6324 - accuracy: 0.7811 - val_loss: 0.4443 - val_accuracy: 0.8527\n",
      "Epoch 189/200\n",
      "219/219 [==============================] - 1s 4ms/step - loss: 0.6368 - accuracy: 0.7691 - val_loss: 0.4547 - val_accuracy: 0.8413\n",
      "Epoch 190/200\n",
      "219/219 [==============================] - 1s 4ms/step - loss: 0.6275 - accuracy: 0.7809 - val_loss: 0.4463 - val_accuracy: 0.8400\n",
      "Epoch 191/200\n",
      "219/219 [==============================] - 1s 4ms/step - loss: 0.6127 - accuracy: 0.7871 - val_loss: 0.4524 - val_accuracy: 0.8400\n",
      "Epoch 192/200\n",
      "219/219 [==============================] - 1s 4ms/step - loss: 0.6494 - accuracy: 0.7800 - val_loss: 0.4427 - val_accuracy: 0.8467\n",
      "Epoch 193/200\n",
      "219/219 [==============================] - 1s 4ms/step - loss: 0.6125 - accuracy: 0.7763 - val_loss: 0.4502 - val_accuracy: 0.8460\n",
      "Epoch 194/200\n",
      "219/219 [==============================] - 1s 4ms/step - loss: 0.6350 - accuracy: 0.7737 - val_loss: 0.4496 - val_accuracy: 0.8400\n",
      "Epoch 195/200\n",
      "219/219 [==============================] - 1s 4ms/step - loss: 0.6491 - accuracy: 0.7649 - val_loss: 0.4571 - val_accuracy: 0.8467\n",
      "Epoch 196/200\n",
      "219/219 [==============================] - 1s 4ms/step - loss: 0.6345 - accuracy: 0.7746 - val_loss: 0.4415 - val_accuracy: 0.8527\n",
      "Epoch 197/200\n",
      "219/219 [==============================] - 1s 4ms/step - loss: 0.6297 - accuracy: 0.7763 - val_loss: 0.4485 - val_accuracy: 0.8387\n",
      "Epoch 198/200\n",
      "219/219 [==============================] - 1s 4ms/step - loss: 0.6355 - accuracy: 0.7726 - val_loss: 0.4635 - val_accuracy: 0.8347\n",
      "Epoch 199/200\n",
      "219/219 [==============================] - 1s 4ms/step - loss: 0.6285 - accuracy: 0.7757 - val_loss: 0.4450 - val_accuracy: 0.8447\n",
      "Epoch 200/200\n",
      "219/219 [==============================] - 1s 4ms/step - loss: 0.6271 - accuracy: 0.7751 - val_loss: 0.4653 - val_accuracy: 0.8373\n"
     ]
    }
   ],
   "source": [
    "model.compile(loss='categorical_crossentropy', optimizer='adam', metrics=['accuracy'])\n",
    "keras_history = model.fit(X_train, y_train , batch_size=16, epochs=200, validation_data=(X_test, y_test))"
   ]
  },
  {
   "cell_type": "code",
   "execution_count": 22,
   "metadata": {
    "colab": {
     "base_uri": "https://localhost:8080/",
     "height": 283
    },
    "colab_type": "code",
    "id": "1BpghfAMqcEW",
    "outputId": "fc570e9a-d05f-447c-a698-3c80d651104d"
   },
   "outputs": [
    {
     "data": {
      "text/plain": [
       "<matplotlib.legend.Legend at 0x7ff44c35b250>"
      ]
     },
     "execution_count": 22,
     "metadata": {},
     "output_type": "execute_result"
    },
    {
     "data": {
      "image/png": "[encoded data removed]",
      "text/plain": [
       "<Figure size 432x288 with 1 Axes>"
      ]
     },
     "metadata": {
      "needs_background": "light"
     },
     "output_type": "display_data"
    }
   ],
   "source": [
    "import matplotlib.pyplot as plt\n",
    "plt.plot(keras_history.history['loss'], label='Training loss')\n",
    "plt.plot(keras_history.history['val_loss'], color='red', label='Test loss')\n",
    "plt.legend()"
   ]
  },
  {
   "cell_type": "markdown",
   "metadata": {
    "colab_type": "text",
    "id": "-1B1b4YcoMoY"
   },
   "source": [
    "**We now urge you to tweak various hyperparamers, such as the learning rate,  dropout rate, regularization parameter, batch size, number of layers, number of neurons, etc. to get an idea of how the model performs with such changes**"
   ]
  },
  {
   "cell_type": "code",
   "execution_count": 0,
   "metadata": {
    "colab": {},
    "colab_type": "code",
    "id": "xNvrOIEypT9v"
   },
   "outputs": [],
   "source": []
  },
  {
   "cell_type": "code",
   "execution_count": 0,
   "metadata": {
    "colab": {},
    "colab_type": "code",
    "id": "biJIIaHWpUCw"
   },
   "outputs": [],
   "source": []
  },
  {
   "cell_type": "markdown",
   "metadata": {
    "colab_type": "text",
    "id": "MHgbYB8QpUk5"
   },
   "source": [
    "Awesome! Hope you've gotten the gist of how to use Keras and how simple and straightforward it is to use."
   ]
  }
 ],
 "metadata": {
  "colab": {
   "collapsed_sections": [],
   "name": "KerasIntro",
   "provenance": [],
   "toc_visible": true
  },
  "kernelspec": {
   "display_name": "Python 3",
   "language": "python",
   "name": "python3"
  },
  "language_info": {
   "codemirror_mode": {
    "name": "ipython",
    "version": 3
   },
   "file_extension": ".py",
   "mimetype": "text/x-python",
   "name": "python",
   "nbconvert_exporter": "python",
   "pygments_lexer": "ipython3",
   "version": "3.8.3"
  }
 },
 "nbformat": 4,
 "nbformat_minor": 1
}
