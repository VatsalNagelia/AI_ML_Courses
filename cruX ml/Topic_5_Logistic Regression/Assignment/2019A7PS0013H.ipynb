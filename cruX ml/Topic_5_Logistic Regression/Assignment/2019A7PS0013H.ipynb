{
 "cells": [
  {
   "cell_type": "markdown",
   "metadata": {
    "colab_type": "text",
    "id": "QEncmBStFCLo"
   },
   "source": [
    "# Logistic Regression Assignment\n",
    "\n",
    "## General Instructions for this assignment:\n",
    "1. Don't change the function signature\n",
    "2. Don't change the code already given to you; A lot of the work has been done for you, as we assume you are reasonably familiar with it.\n",
    "3. Write the code only where asked"
   ]
  },
  {
   "cell_type": "markdown",
   "metadata": {
    "colab_type": "text",
    "id": "ODV-kLWnFCLp"
   },
   "source": [
    "## 1. Basic Design of the Model\n",
    "1. Output of the model: 0 or 1 (Binary Classification)\n",
    "2. Hypothesis to be tested: $Z = W \\cdot X + b$\n",
    "3. Activation Function: $\\frac{1}{1 + e^{-x}} $ (Signmoid Function)"
   ]
  },
  {
   "cell_type": "markdown",
   "metadata": {
    "colab_type": "text",
    "id": "_oehNhBDFCLq"
   },
   "source": [
    "## 2. Import Packages\n",
    "\n",
    "1. numpy: obviously\n",
    "2. matplotlib: for making graphs\n",
    "3. seaborn: Making matplotlib graphs prettier"
   ]
  },
  {
   "cell_type": "code",
   "execution_count": 1,
   "metadata": {
    "colab": {},
    "colab_type": "code",
    "id": "OtEoCnoZFCLr"
   },
   "outputs": [],
   "source": [
    "import numpy as np\n",
    "import matplotlib.pyplot as plt\n",
    "\n",
    "%matplotlib inline\n",
    "\n",
    "# Next Libraries are unimportant, they just make everyhting look better\n",
    "\n",
    "import matplotlib.style as style\n",
    "import seaborn as sns\n",
    "\n",
    "style.use('seaborn-poster') #sets the size of the charts\n",
    "style.use('ggplot')"
   ]
  },
  {
   "cell_type": "markdown",
   "metadata": {
    "colab_type": "text",
    "id": "BF5Hf3UhFCLv"
   },
   "source": [
    "## 3. Loading the dataset\n",
    "\n",
    "We have prepared and preprocessed the data. You can use the `np.load(path)` to obtain a dictionary of numpy arrays.\n",
    "\n",
    "> The loading has been done for you, just ensure that the path is correct and obtain the nump arrays from the dictionary"
   ]
  },
  {
   "cell_type": "code",
   "execution_count": 2,
   "metadata": {
    "colab": {},
    "colab_type": "code",
    "id": "5rPC9-xZFCLx"
   },
   "outputs": [],
   "source": [
    "dataset = np.load('dataset.npz')\n",
    "\n",
    "## Get the numpy arrays from the dictionary\n",
    "X_train = dataset['X_train.npy']\n",
    "Y_train = dataset['Y_train.npy']\n",
    "X_test  = dataset['X_test.npy']\n",
    "Y_test  = dataset['Y_test.npy']"
   ]
  },
  {
   "cell_type": "code",
   "execution_count": 3,
   "metadata": {
    "colab": {},
    "colab_type": "code",
    "id": "cOS8h4viFCL0"
   },
   "outputs": [
    {
     "name": "stdout",
     "output_type": "stream",
     "text": [
      "(784, 8000)\n",
      "(1, 8000)\n",
      "(784, 2000)\n",
      "(1, 2000)\n"
     ]
    }
   ],
   "source": [
    "print(X_train.shape)\n",
    "print(Y_train.shape)\n",
    "print(X_test.shape)\n",
    "print(Y_test.shape)"
   ]
  },
  {
   "cell_type": "markdown",
   "metadata": {
    "colab_type": "text",
    "id": "_Bjoq3CUFCL4"
   },
   "source": [
    "If you loaded the data correctly, then the code below should display\n",
    "```\n",
    "(784, 8000)\n",
    "(1, 8000)\n",
    "(784, 2000)\n",
    "(1, 2000)\n",
    "```"
   ]
  },
  {
   "cell_type": "markdown",
   "metadata": {
    "colab_type": "text",
    "id": "QwRecXxsFCL4"
   },
   "source": [
    "## 4. Get a feel of the data\n",
    "\n",
    "### 5.1 View the Imagethat\n",
    "Use the imshow function of matplotlib.pyplot to actually see one of the 28x28 images from the training dataset and its respectie label."
   ]
  },
  {
   "cell_type": "code",
   "execution_count": 4,
   "metadata": {
    "colab": {},
    "colab_type": "code",
    "id": "ozMfJJW3FCL5"
   },
   "outputs": [
    {
     "name": "stdout",
     "output_type": "stream",
     "text": [
      "Label: bat\n"
     ]
    },
    {
     "data": {
      "image/png": "[encoded data removed]",
      "text/plain": [
       "<Figure size 921.6x633.6 with 1 Axes>"
      ]
     },
     "metadata": {},
     "output_type": "display_data"
    }
   ],
   "source": [
    "idx = np.random.randint(X_train.shape[1])\n",
    "\n",
    "plt.imshow(X_train[:, idx].reshape(28, 28))\n",
    "\n",
    "label = \"cat\" if Y_train[:, idx][0] else \"bat\"\n",
    "print(f\"Label: {label}\")"
   ]
  },
  {
   "cell_type": "markdown",
   "metadata": {
    "colab_type": "text",
    "id": "MCQ6-6NsFCL9"
   },
   "source": [
    "### View the raw data\n",
    "\n",
    "View the actual raw array associated with the idx selected previously"
   ]
  },
  {
   "cell_type": "code",
   "execution_count": 5,
   "metadata": {
    "colab": {},
    "colab_type": "code",
    "id": "mYlHFjL3FCL9"
   },
   "outputs": [
    {
     "data": {
      "text/plain": [
       "array([  0,   0,   0,   0,   0,   0,   0,   0,   0,   0,   0,   0,   0,\n",
       "         0,   0,   0,   0,   0,   0,   0,   0,   0,   0,   0,   0,   0,\n",
       "         0,   0,   0,   0,   0,   0,   0,   0,   0,   0,   0,   0,   0,\n",
       "         0,   0,   0,   0,   0,   0,   0,   0,   0,   0,   0,   0,   0,\n",
       "         0,   0,   0,   0,   0,   0,   0,   0,   0,   0,   0,   0,   0,\n",
       "         0,   0,   0,   0,   0,   0,   0,   0,   0,   0,   0,   0,   0,\n",
       "         0,   0,   0,   0,   0,   0,   0,   0,   0,   0,   0,   0,   0,\n",
       "         0,   0,   0,   0,   0,   0,   0,   0,   0,   0,   0,   0,   0,\n",
       "         0,   0,   0,   0,   0,   0,   0,   0,   0,   0,   0,   0,   0,\n",
       "         0,   0,   0,   0,   0,   0,   0,   0,   0,   0,   0,   0,   0,\n",
       "         0,   0,   0,   0,   0,   0,   0,   0,   0,   0,   0,   0,   0,\n",
       "         0,   0,   0,   0,   0,   0,   0,   0,   0,   0,   0,   0,   0,\n",
       "         0,   0,   0,   0,   0,   0,   0,   0,   0,   0,   0,   0,   0,\n",
       "         0,   0,   0,   0,   0,   0,   0,   0,   0,   0,   0,   0,   0,\n",
       "         0,   0,   0,   0,   0,   0,   0,   0,   0,   0,   0,   0,   0,\n",
       "         0,   0,   0,   0,   0,   0,   0,   0,   0,   0,   0,  54, 133,\n",
       "        22,   0,   0,   0,   0,   0,   0,   0,   0,   0,   0,   0,   0,\n",
       "         0,   0,   0,   0,   0,   0,   0,   0,   0,   0,   0,   0,  36,\n",
       "       239, 255, 160,   0,   0,   0,   0,   0,   0,   0,   0,   0,   0,\n",
       "         0,   0,   0,   0,   0,   0,   0,   0,   0,   0,   0,   0,   0,\n",
       "         0, 122, 252, 182, 231, 118,  27,   0,   0,   0,   0,   0,   0,\n",
       "         0,   0,   0,   0,   0,   0,   0,   0,   0,   0,   0,   0,   0,\n",
       "         0,   0,   0, 177, 208, 100, 255, 251, 251, 174,  69,   1,   0,\n",
       "         0,   0,   0,   0,   0,   0,   0,   0,   0,   0,   0,   0,   0,\n",
       "         0,   0,   0,   0,   0, 229, 156,  48, 255,  94, 119, 224, 255,\n",
       "       219, 119,  20,   0,   0,   0,   0,   0,   0,   0,   0,   0,   0,\n",
       "         0,   0,   0,   0,   0,   0,  27, 255, 103,  42, 255,  80,   0,\n",
       "         2,  68, 179, 254, 248, 170,  68,   0,   0,   0,   0,   0,   0,\n",
       "         0,   0,  81, 250, 255, 197,  51,   0, 110, 255,  48,  42, 255,\n",
       "       142,   0,   0,   0,   0,  37, 141, 237, 255, 205, 100,   3,   0,\n",
       "         0,   0,   0,   0,  99, 255, 152, 225, 252, 168, 222, 255,  44,\n",
       "        42, 255, 217,  11,   0,  39, 127, 127,  74,  19,  96, 200, 255,\n",
       "       171,   6,   0,   0,   0,   8, 178, 253,  33,  11, 134, 222, 235,\n",
       "       255,  66,  42, 255, 251, 230, 127, 236, 250, 250, 255, 241, 154,\n",
       "        56, 103, 253, 179,   2,   0,   0, 102, 255,  99,   0,   0,   0,\n",
       "         0,  34, 255,  88,  42, 255, 114, 181, 255, 218,  27,   8,  60,\n",
       "       151, 240, 255, 198, 162, 255,  55,   0,   0,  45, 125,   0,   0,\n",
       "         0,   0,   0,  12, 255, 110,  42, 255,  79,   0,  25,  12,   0,\n",
       "         0,   0,   0,   9,  96, 225, 255, 255, 108,   0,   0,   0,   0,\n",
       "         0,   0,   0,   0,   0,   0, 244, 151,  73, 255,  64,   0,   0,\n",
       "         0,   0,   0,   0,   0,   0,   0,   9, 124, 217,  36,   0,   0,\n",
       "         0,   0,   0,   0,   0,   0,   0,   0, 150, 253, 248, 218,  10,\n",
       "         0,   0,   0,   0,   0,   0,   0,   0,   0,   0,   0,   0,   0,\n",
       "         0,   0,   0,   0,   0,   0,   0,   0,   0,   0,   6, 116, 142,\n",
       "        43,   0,   0,   0,   0,   0,   0,   0,   0,   0,   0,   0,   0,\n",
       "         0,   0,   0,   0,   0,   0,   0,   0,   0,   0,   0,   0,   0,\n",
       "         0,   0,   0,   0,   0,   0,   0,   0,   0,   0,   0,   0,   0,\n",
       "         0,   0,   0,   0,   0,   0,   0,   0,   0,   0,   0,   0,   0,\n",
       "         0,   0,   0,   0,   0,   0,   0,   0,   0,   0,   0,   0,   0,\n",
       "         0,   0,   0,   0,   0,   0,   0,   0,   0,   0,   0,   0,   0,\n",
       "         0,   0,   0,   0,   0,   0,   0,   0,   0,   0,   0,   0,   0,\n",
       "         0,   0,   0,   0,   0,   0,   0,   0,   0,   0,   0,   0,   0,\n",
       "         0,   0,   0,   0,   0,   0,   0,   0,   0,   0,   0,   0,   0,\n",
       "         0,   0,   0,   0,   0,   0,   0,   0,   0,   0,   0,   0,   0,\n",
       "         0,   0,   0,   0,   0,   0,   0,   0,   0,   0,   0,   0,   0,\n",
       "         0,   0,   0,   0,   0,   0,   0,   0,   0,   0,   0,   0,   0,\n",
       "         0,   0,   0,   0,   0,   0,   0,   0,   0,   0,   0,   0,   0,\n",
       "         0,   0,   0,   0,   0,   0,   0,   0,   0,   0,   0,   0,   0,\n",
       "         0,   0,   0,   0,   0,   0,   0,   0,   0,   0,   0,   0,   0,\n",
       "         0,   0,   0,   0,   0,   0,   0,   0,   0,   0,   0,   0,   0,\n",
       "         0,   0,   0,   0], dtype=uint8)"
      ]
     },
     "execution_count": 5,
     "metadata": {},
     "output_type": "execute_result"
    }
   ],
   "source": [
    "X_train[:, idx]"
   ]
  },
  {
   "cell_type": "markdown",
   "metadata": {
    "colab_type": "text",
    "id": "qeg9vFx5FCMA"
   },
   "source": [
    "## 6. Normalizing the data\n",
    "\n",
    "Normalizing the data with the following equation:\n",
    "\n",
    "$$ X_{norm} = \\frac {X - X_{min}}{X_{max} - X_{min}} $$\n",
    "\n",
    "For this pixel data, $X_{max} = 255$ and $X_{min} = 0$\n",
    "\n",
    "> After running the next cell, go back and view the raw array again"
   ]
  },
  {
   "cell_type": "code",
   "execution_count": 6,
   "metadata": {
    "colab": {},
    "colab_type": "code",
    "id": "j9LgEtNsFCMB"
   },
   "outputs": [],
   "source": [
    "## Normalize the training and testning data\n",
    "\n",
    "# Replace None with relevant code\n",
    "X_train = (X_train-np.min(X_train))/((np.max(X_train))-(np.min(X_train)))\n",
    "X_test = (X_test-np.min(X_test))/((np.max(X_test))-(np.min(X_test)))"
   ]
  },
  {
   "cell_type": "markdown",
   "metadata": {
    "colab_type": "text",
    "id": "FB-J1xHEFCMF"
   },
   "source": [
    "## 7. Helper functions for the Model:\n",
    "\n",
    "### Write the respective functions described by their docstrings"
   ]
  },
  {
   "cell_type": "code",
   "execution_count": 7,
   "metadata": {
    "colab": {},
    "colab_type": "code",
    "id": "Y1T3thCFFCMG"
   },
   "outputs": [],
   "source": [
    "def sigmoid(z):\n",
    "    \"\"\"\n",
    "    Computes the element sigmoid of scalar or numpy array(element wise)\n",
    "    \n",
    "    Arguments:\n",
    "        z: Scalar or numpy array\n",
    "    \n",
    "    Returns:\n",
    "        s: Sigmoid of z (element wise in case of Numpy Array)\n",
    "    \"\"\"\n",
    "    ### Write Code here ###\n",
    "    s=(1.0)/(1.0+np.exp(-z))\n",
    "    ### End Code here ###\n",
    "    \n",
    "    return s"
   ]
  },
  {
   "cell_type": "code",
   "execution_count": 8,
   "metadata": {
    "colab": {},
    "colab_type": "code",
    "id": "BrrJqSIuFCMJ"
   },
   "outputs": [],
   "source": [
    "def initialize_parameters(n_x):\n",
    "    \"\"\"\n",
    "    Initialize w to a zero vector, and b to a 0 with datatype float \n",
    "    \n",
    "    Arguments:\n",
    "        n_x: Number of features in each sample of X\n",
    "    \n",
    "    Returns:\n",
    "        w: Initialized Numpy array of shape (1, n_x) (Weight)\n",
    "        b: Initialized Scalar (bias)\n",
    "    \"\"\"\n",
    "    ### Write Code here ###\n",
    "    w=np.zeros(n_x).reshape(1,n_x)\n",
    "    b=float(0.0)\n",
    "    ### End Code here ###\n",
    "    \n",
    "    return w, b"
   ]
  },
  {
   "cell_type": "code",
   "execution_count": 9,
   "metadata": {
    "colab": {},
    "colab_type": "code",
    "id": "Th4xkEvrFCMM"
   },
   "outputs": [],
   "source": [
    "def compute_cost(A, Y):\n",
    "    \"\"\"\n",
    "    Calculate the Cost using the Cross Entropy Loss\n",
    "    \n",
    "    Arguments:\n",
    "        A: Computer Probabilities, numpy array\n",
    "        Y: Known Labels, numpy array\n",
    "        \n",
    "    Returns:\n",
    "        cost: The computed Cost\n",
    "    \"\"\"\n",
    "    ### Write Code here ###\n",
    "    m=Y.size\n",
    "    J=np.sum(((Y*(np.log(A)))+((1-Y)*(np.log(1-A)))))\n",
    "    J=(-J)/m\n",
    "    ### End Code here ###\n",
    "    \n",
    "    return np.squeeze(J)"
   ]
  },
  {
   "cell_type": "markdown",
   "metadata": {
    "colab_type": "text",
    "id": "B51HHAg_FCMQ"
   },
   "source": [
    "Here is a summary of the equations for Forward Propagation and Backward Propagation we have used so far:\n",
    "\n",
    "For m training examples $ X_{train} $ and $ Y_{train} $:\n",
    "\n",
    "### 7.1 Forward Propagation\n",
    "\n",
    "$$ Z^{(i)} = w \\cdot X_{train}^{(i)} + b $$\n",
    "\n",
    "$$ \\hat Y^{(i)} = A^{(i)} = \\sigma(Z^{(i)}) = sigmoid(Z^{(i)}) $$\n",
    "\n",
    "$$ \\mathcal{L}(\\hat Y^{(i)}, Y_{train}^{(i)}) = \\mathcal{L}(A^{(i)}, Y_{train}^{(i)}) = -[Y_{train}^{(i)} \\log(A^{(i)}) + (1 - Y_{train}^{(i)}) \\log(1 - A^{(i)})] $$\n",
    "\n",
    "$$ J = \\frac{1}{m} \\sum_1^m \\mathcal{L} (A^{(i)}, Y_{train}^{(i)}) $$\n",
    "\n",
    "\n",
    "### 7.2 Backward Propagation - Batch Gradient Descent\n",
    "\n",
    "$$ \\frac{\\partial J}{\\partial w} = \\frac{1}{m} (A - Y) \\cdot X^T $$\n",
    "\n",
    "$$ \\frac{\\partial J}{\\partial b} = \\frac{1}{m} \\sum_1^m (A - Y) $$\n",
    "\n",
    "\n",
    "> Note: Represent $ \\frac{\\partial J}{\\partial w} $ as dw, and $ \\frac{\\partial J}{\\partial b}$ as db\n"
   ]
  },
  {
   "cell_type": "code",
   "execution_count": 10,
   "metadata": {
    "colab": {},
    "colab_type": "code",
    "id": "xKf1Dc2lFCMQ"
   },
   "outputs": [],
   "source": [
    "def propagate(w, b, X, Y):\n",
    "    \"\"\"\n",
    "    Perform forward and backward propagation for the Logistic Regression model\n",
    "    \n",
    "    Arguments:\n",
    "        w: The Weight Matrix of dimension (1, n_x)\n",
    "        b: Bias\n",
    "        X: Input Matrix, with shape (n_x, m)\n",
    "        Y: Label Matrix of shape (1, m)\n",
    "        \n",
    "    Returns:\n",
    "        dw: Gradient of the weight matrix\n",
    "        db: Gradient of the bias\n",
    "        cost: Cost computed on Calculated Probability, and output Label\n",
    "    \"\"\"\n",
    "    \n",
    "    ### Write Code here ###\n",
    "    #Forward Propagation#\n",
    "    A=sigmoid(np.dot(w,X)+b)\n",
    "    cost=compute_cost(A,Y)\n",
    "    #Backward Propagation#\n",
    "    m=Y.size\n",
    "    dw=(1/m)*np.dot(X,(A-Y).T).reshape(w.shape)\n",
    "    db=(1/m)*np.sum(A-Y)\n",
    "    \n",
    "    ### End Code here ###\n",
    "    \n",
    "    assert dw.shape == w.shape\n",
    "    return dw, db, cost\n",
    "    "
   ]
  },
  {
   "cell_type": "code",
   "execution_count": 11,
   "metadata": {},
   "outputs": [
    {
     "name": "stdout",
     "output_type": "stream",
     "text": [
      "8000\n"
     ]
    }
   ],
   "source": [
    "print(X_train.shape[1])"
   ]
  },
  {
   "cell_type": "markdown",
   "metadata": {
    "colab_type": "text",
    "id": "DJwQjwOiFCMU"
   },
   "source": [
    "### 7.3 Optimization\n",
    "\n",
    "For a parameter $ \\theta $, the gradient descent update rule is given by:\n",
    "$$ \\theta := \\theta - \\alpha \\frac{\\partial J}{\\partial \\theta} $$\n",
    "\n",
    "where $\\alpha$ is the learning rate"
   ]
  },
  {
   "cell_type": "code",
   "execution_count": 12,
   "metadata": {
    "colab": {},
    "colab_type": "code",
    "id": "FYFW6bSkFCMV"
   },
   "outputs": [],
   "source": [
    "def fit(w, b, X, Y, num_iterations, learning_rate, print_freq=100):\n",
    "    \"\"\"\n",
    "    Given the parameters of the model, fit the model corresponding to the given Input Matrix aand output labels, by performing batch gradient descent for given number of iterations.\n",
    "    \n",
    "    Arguments:\n",
    "        w: The Weight Matrix of dimension (1, n_x)\n",
    "        b: Bias\n",
    "        X: Input Matrix, with shape (n_x, m)\n",
    "        Y: Label Matrix of shape (1, m)\n",
    "        num_iterations: The number of iteratios of bgd to be performed\n",
    "        print_freq: Frequency of recording the cost\n",
    "    Returns:\n",
    "        w: Optimized weight matrix\n",
    "        b: optimized bias\n",
    "        costs: print the cost at frequency given by print_freq, no prints if freq is 0\n",
    "    \"\"\"\n",
    "    \n",
    "    costs = []\n",
    "    for i in range(num_iterations):\n",
    "        ## 1. Calculate Gradients and cost\n",
    "        ### Write Code here ###\n",
    "        dw,db,cost=propagate(w,b,X,Y)\n",
    "        ### End Code here ###\n",
    "\n",
    "        costs.append(cost)\n",
    "            \n",
    "        if print_freq and i % print_freq == 0:\n",
    "            print(f\"Cost after iteration {i}: {cost}\")\n",
    "                \n",
    "        ## 2. Update parameters\n",
    "        ### Write Code here ###\n",
    "        w=w-learning_rate*dw\n",
    "        b=b-learning_rate*db\n",
    "        ### End Code here ###      \n",
    "\n",
    "            \n",
    "    return w, b, costs\n",
    "        "
   ]
  },
  {
   "cell_type": "markdown",
   "metadata": {
    "colab_type": "text",
    "id": "oBa_RviiFCMY"
   },
   "source": [
    "### 7.4 Prediction\n",
    "Use the following equation to determine the class that a given sample belongs to:\n",
    "\n",
    "$$\n",
    "\\begin{equation}\n",
    "    Y_{prediction}^{(i)} =\n",
    "    \\begin{cases} \n",
    "        1 \\text{, if } \\hat Y^{(i)} \\ge 0.5\\\\\n",
    "        0 \\text{, if } \\hat Y^{(i)} \\lt 0.5\\\\\n",
    "    \\end{cases}\n",
    "\\end{equation}\n",
    "$$\n",
    "\n",
    "> Hint: Use boolean Masking"
   ]
  },
  {
   "cell_type": "code",
   "execution_count": 13,
   "metadata": {
    "colab": {},
    "colab_type": "code",
    "id": "fcLm6a7cFCMY"
   },
   "outputs": [],
   "source": [
    "def predict(w, b, X):\n",
    "    \"\"\"\n",
    "    Predict the class which the given feature vector belongs to given Weights and Bias of the model\n",
    "    \n",
    "    Arguments:\n",
    "        w: The Weight Matrix of dimension (1, n_x)\n",
    "        b: Bias\n",
    "        X: Input Matrix, with X.shape[0] = n_X\n",
    "    Returns:\n",
    "        Y_prediction: Predicted labels\n",
    "    \"\"\"\n",
    "    \n",
    "    ### Write Code here ###\n",
    "    m=X.shape[1]\n",
    "    Y_prediction=np.zeros((1,m))\n",
    "    A=sigmoid(np.dot(w,X)+b)\n",
    "    for i in range(A.shape[1]):\n",
    "        Y_prediction[0,i]=1 if A[0,i]>=0.5 else 0\n",
    "    ### End Code here ###\n",
    "    \n",
    "    return Y_prediction"
   ]
  },
  {
   "cell_type": "markdown",
   "metadata": {
    "colab_type": "text",
    "id": "Dv7psRMoFCMb"
   },
   "source": [
    "## 8. Building the Model\n",
    "\n",
    "Now we have assembled all the individual pieces required to create the Logistic Regression model.\n",
    "Next function is creating the model and calculating its train and test accuracy. \n",
    "\n",
    "Acuracy is the ratio of correctly guessed samples, to the total number of samples that were checked. \n",
    "> Note: The correct accuracy is not being provided this time."
   ]
  },
  {
   "cell_type": "code",
   "execution_count": 14,
   "metadata": {
    "colab": {},
    "colab_type": "code",
    "id": "5RUTGfTyFCMc"
   },
   "outputs": [],
   "source": [
    "def model(X_train, Y_train, X_test, Y_test, num_iterations, learning_rate, print_freq):\n",
    "    \"\"\"\n",
    "    Create a model and fit it to the train and test data. Use this model to compute the train and test accuracy after 2500 iterations\n",
    "    \n",
    "    Arguments:\n",
    "        X_train: Training Data X\n",
    "        Y_train: Training Data Y\n",
    "        X_test: Testing Data X\n",
    "        Y_test: Testing data Y\n",
    "        num_iterations: Number of iterations of bgd to perform\n",
    "        learning_rate: Learning Rate of the model\n",
    "        print_freq: Frequency of recording the cost\n",
    "    Returns:\n",
    "        -None-\n",
    "    \"\"\"\n",
    "    \n",
    "    ### Write Code here ###\n",
    "    w,b=initialize_parameters(X_train.shape[0])\n",
    "    w,b,costs=fit(w,b,X_train,Y_train,num_iterations,learning_rate,print_freq)\n",
    "    ### End Code here ###\n",
    "    \n",
    "    Y_prediction_train = predict(w, b, X_train)\n",
    "    Y_prediction_test = predict(w, b, X_test)\n",
    "    \n",
    "    costs = np.squeeze(costs)\n",
    "    \n",
    "    print(f\"train accuracy: {100 - np.mean(np.abs(Y_prediction_train - Y_train)) * 100} %\")\n",
    "    print(f\"test accuracy: {100 - np.mean(np.abs(Y_prediction_test - Y_test)) * 100} %\")\n",
    "    \n",
    "    plt.plot(costs)\n",
    "    \n",
    "    plt.ylabel('cost')\n",
    "    plt.xlabel('iterations (per hundreds)')\n",
    "    plt.title(f\"Learning rate = {learning_rate}\")\n",
    "    plt.show()\n",
    "       "
   ]
  },
  {
   "cell_type": "code",
   "execution_count": 15,
   "metadata": {
    "colab": {},
    "colab_type": "code",
    "id": "vEmGRqtqFCMf"
   },
   "outputs": [
    {
     "name": "stdout",
     "output_type": "stream",
     "text": [
      "Cost after iteration 0: 0.6931471805599454\n",
      "Cost after iteration 100: 0.3433501584110635\n",
      "Cost after iteration 200: 0.3289740984249328\n",
      "Cost after iteration 300: 0.32326638115534495\n",
      "Cost after iteration 400: 0.31970436704308053\n",
      "Cost after iteration 500: 0.3170647019548738\n",
      "Cost after iteration 600: 0.3149517208351771\n",
      "Cost after iteration 700: 0.3131873793654107\n",
      "Cost after iteration 800: 0.3116736166745069\n",
      "Cost after iteration 900: 0.31034955432445077\n",
      "Cost after iteration 1000: 0.3091744749560511\n",
      "Cost after iteration 1100: 0.30811971405331506\n",
      "Cost after iteration 1200: 0.30716429510898796\n",
      "Cost after iteration 1300: 0.30629238107355694\n",
      "Cost after iteration 1400: 0.30549169980607177\n",
      "Cost after iteration 1500: 0.30475252920478246\n",
      "Cost after iteration 1600: 0.3040670204069449\n",
      "Cost after iteration 1700: 0.3034287332047725\n",
      "Cost after iteration 1800: 0.3028323089289211\n",
      "Cost after iteration 1900: 0.30227323480515816\n",
      "train accuracy: 87.2875 %\n",
      "test accuracy: 87.3 %\n"
     ]
    },
    {
     "data": {
      "image/png": "[encoded data removed]",
      "text/plain": [
       "<Figure size 921.6x633.6 with 1 Axes>"
      ]
     },
     "metadata": {},
     "output_type": "display_data"
    }
   ],
   "source": [
    "model(X_train, Y_train, X_test, Y_test, num_iterations=2000, learning_rate=0.1, print_freq=100)"
   ]
  },
  {
   "cell_type": "markdown",
   "metadata": {
    "colab_type": "text",
    "id": "K4U150gDFCMi"
   },
   "source": [
    "## 9. Experiments (Not Graded)\n",
    "\n",
    "Try using different Learning Rates, Change the number of iterations, try a different initialization of the parameters, try Stochastic Gradient Descent on the same Model. The possibilities are endless, and we encourage you to explore as much as you can. You can even try to use the Logistic Regression Model implementation from the ScikitLearn library, or explore other optimizing algorithms! If you try something new, do send it along with the assignment. We'd love to see what kinda work you are doing! Till then, adios!"
   ]
  }
 ],
 "metadata": {
  "colab": {
   "collapsed_sections": [],
   "name": "Copy of 5_Logistic_Regression_Assignment.ipynb",
   "provenance": []
  },
  "kernelspec": {
   "display_name": "Python 3",
   "language": "python",
   "name": "python3"
  },
  "language_info": {
   "codemirror_mode": {
    "name": "ipython",
    "version": 3
   },
   "file_extension": ".py",
   "mimetype": "text/x-python",
   "name": "python",
   "nbconvert_exporter": "python",
   "pygments_lexer": "ipython3",
   "version": "3.7.6"
  }
 },
 "nbformat": 4,
 "nbformat_minor": 1
}
