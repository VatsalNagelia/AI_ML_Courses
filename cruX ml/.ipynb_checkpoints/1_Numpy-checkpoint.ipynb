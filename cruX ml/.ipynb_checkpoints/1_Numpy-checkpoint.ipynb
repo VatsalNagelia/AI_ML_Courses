{
 "cells": [
  {
   "cell_type": "markdown",
   "metadata": {
    "colab_type": "text",
    "id": "Bx0w-X-r7jMy"
   },
   "source": [
    "# NumPy\n",
    "\n",
    "Numpy is a python library primarily used for fast array manipulations. It has inbuilt methods for various linear algebra functions that we will be needing throughtout the course. \n",
    "\n",
    "The speed of NumPy is primarily because the array data structure of Numpy, `numpy.ndarray` or 'N dimensional array', are stored at one continuous place in memory unlike lists, so processes can access and manipulate them very efficiently. These arrays are approximately 50x faster than traditional lists in pyhton\n",
    "\n",
    "> Note: Whenever Array is used in this notebook, we mean an ndarray\n",
    "\n"
   ]
  },
  {
   "cell_type": "markdown",
   "metadata": {
    "colab_type": "text",
    "id": "QA4rhNfaXn4L"
   },
   "source": [
    "# Installation Instructions\n",
    "Anaconda normally comes with libraries like numpy, pandas, matplotlib, etc pre installed.\n",
    "\n",
    "In case you are running a miniconda install, or don't have numpy installed you can do it as follows: in your desired conda virtual environment, run the following command on your terminal\n",
    "\n",
    "```\n",
    "conda install numpy\n",
    "```\n",
    "\n",
    "or the following on your jupyter notebook:\n",
    "```\n",
    "!conda install numpy\n",
    "```"
   ]
  },
  {
   "cell_type": "code",
   "execution_count": 0,
   "metadata": {
    "colab": {},
    "colab_type": "code",
    "id": "0XbGa4oC7kr5"
   },
   "outputs": [],
   "source": [
    "import numpy as np"
   ]
  },
  {
   "cell_type": "markdown",
   "metadata": {
    "colab_type": "text",
    "id": "-Ol7ZqUU-z7t"
   },
   "source": [
    "## Axes of a matrix\n",
    "\n",
    "In numpy, the dimensions are called axes.\n",
    "\n",
    "For example,\n",
    "\n",
    "- Array with 1 axis that has 3 elements (ie length 3)\n",
    "```\n",
    "[1.0, 2.0, 13.73]\n",
    "```\n",
    "\n",
    "- Array with 2 dimensions of length 2 and 3 respectively:\n",
    "```\n",
    "[[ 1., 0., 0.], \n",
    "[ 0., 1., 2.]]\n",
    "```"
   ]
  },
  {
   "cell_type": "markdown",
   "metadata": {
    "colab_type": "text",
    "id": "WWEW0zMH7mbV"
   },
   "source": [
    "## Basics of NumPy Array\n",
    "\n",
    "The Multidimesnional array in numpy is a table with the following commonly used properties\n"
   ]
  },
  {
   "cell_type": "code",
   "execution_count": 0,
   "metadata": {
    "colab": {
     "base_uri": "https://localhost:8080/",
     "height": 102
    },
    "colab_type": "code",
    "id": "VWnRw07t9r6x",
    "outputId": "deb5d3d2-0789-49ff-bd10-7cfedce03208"
   },
   "outputs": [
    {
     "name": "stdout",
     "output_type": "stream",
     "text": [
      "Type: <class 'numpy.ndarray'>\n",
      "Dimesnions: 2\n",
      "Shape: (2, 3)\n",
      "Type: float64\n",
      "Size: 6\n"
     ]
    }
   ],
   "source": [
    "arr = np.array(\n",
    "    [[ 1., 0., 0.], \n",
    "     [ 0., 1., 2.]]\n",
    ")\n",
    "\n",
    "print(f\"Type: {type(arr)}\")\n",
    "print(f\"Dimesnions: {arr.ndim}\")\n",
    "print(f\"Shape: {arr.shape}\") # Returns tuple (r, c), for matrix with r rows and c columms\n",
    "print(f\"Type: {arr.dtype}\")\n",
    "print(f\"Size: {arr.size}\") # Returns total number of elements in array"
   ]
  },
  {
   "cell_type": "markdown",
   "metadata": {
    "colab_type": "text",
    "id": "WgiKNDVw7rNc"
   },
   "source": [
    "## Array Creation\n",
    "\n",
    "There are various methods for creating numpy Arrays:"
   ]
  },
  {
   "cell_type": "code",
   "execution_count": 0,
   "metadata": {
    "colab": {
     "base_uri": "https://localhost:8080/",
     "height": 34
    },
    "colab_type": "code",
    "id": "UmIA1DEiBT6h",
    "outputId": "57f3061f-30ad-4dea-a6c6-6ab050a3fa3e"
   },
   "outputs": [
    {
     "name": "stdout",
     "output_type": "stream",
     "text": [
      "[2. 3. 4.]\n"
     ]
    }
   ],
   "source": [
    "# Creating from list\n",
    "arr = np.array([2., 3., 4.])\n",
    "print(arr)"
   ]
  },
  {
   "cell_type": "code",
   "execution_count": 0,
   "metadata": {
    "colab": {
     "base_uri": "https://localhost:8080/",
     "height": 51
    },
    "colab_type": "code",
    "id": "BL0Ee7MyxjXT",
    "outputId": "01df5c90-aa38-4264-e279-71a9f758d791"
   },
   "outputs": [
    {
     "name": "stdout",
     "output_type": "stream",
     "text": [
      "[0 1 2 3 4 5 6 7 8 9]\n",
      "[ 5 10 15]\n"
     ]
    }
   ],
   "source": [
    "# Array of integers in a given range\n",
    "print(np.arange(10))\n",
    "print(np.arange(start=5, stop=20, step=5))"
   ]
  },
  {
   "cell_type": "code",
   "execution_count": 0,
   "metadata": {
    "colab": {
     "base_uri": "https://localhost:8080/",
     "height": 85
    },
    "colab_type": "code",
    "id": "S8pYn8iRxm6f",
    "outputId": "53d59385-fbc8-4b0d-e2ae-4a84c7f4955a"
   },
   "outputs": [
    {
     "name": "stdout",
     "output_type": "stream",
     "text": [
      "[[2.95311495e-316 0.00000000e+000 4.27366784e-321]\n",
      " [2.01294834e-316 6.92722490e-310 6.92722490e-310]\n",
      " [6.92722490e-310 6.92722490e-310 2.95311495e-316]\n",
      " [4.94065646e-324 1.90979621e-313 0.00000000e+000]]\n"
     ]
    }
   ],
   "source": [
    "# Empty Array of given shape\n",
    "print(np.empty((4, 3))) # Creates an array of garbage values with given shape"
   ]
  },
  {
   "cell_type": "code",
   "execution_count": 0,
   "metadata": {
    "colab": {
     "base_uri": "https://localhost:8080/",
     "height": 85
    },
    "colab_type": "code",
    "id": "83KSNvqDxo9x",
    "outputId": "171339aa-0d66-4f87-9f4f-55e0897ad9c6"
   },
   "outputs": [
    {
     "name": "stdout",
     "output_type": "stream",
     "text": [
      "[[0. 0. 0. 0. 0.]\n",
      " [0. 0. 0. 0. 0.]]\n",
      "[[1. 1. 1. 1.]\n",
      " [1. 1. 1. 1.]]\n"
     ]
    }
   ],
   "source": [
    "print(np.zeros((2, 5))) # Array of Zeros\n",
    "print(np.ones((2, 4))) # Array of Ones"
   ]
  },
  {
   "cell_type": "code",
   "execution_count": 0,
   "metadata": {
    "colab": {
     "base_uri": "https://localhost:8080/",
     "height": 68
    },
    "colab_type": "code",
    "id": "nOh-n72FxrcK",
    "outputId": "820df939-35ab-400f-a498-a1c06a6099cc"
   },
   "outputs": [
    {
     "name": "stdout",
     "output_type": "stream",
     "text": [
      "[[1. 0. 0.]\n",
      " [0. 1. 0.]\n",
      " [0. 0. 1.]]\n"
     ]
    }
   ],
   "source": [
    "# Identity matrix\n",
    "print(np.eye(3))"
   ]
  },
  {
   "cell_type": "code",
   "execution_count": 0,
   "metadata": {
    "colab": {
     "base_uri": "https://localhost:8080/",
     "height": 68
    },
    "colab_type": "code",
    "id": "ILhTPb07xsxg",
    "outputId": "bfabe905-81a1-49b3-cae2-38955f0dd427"
   },
   "outputs": [
    {
     "name": "stdout",
     "output_type": "stream",
     "text": [
      "[[2 0 0]\n",
      " [0 3 0]\n",
      " [0 0 5]]\n"
     ]
    }
   ],
   "source": [
    "# Diagonal Arry\n",
    "print(np.diag([2, 3, 5]))"
   ]
  },
  {
   "cell_type": "code",
   "execution_count": 0,
   "metadata": {
    "colab": {
     "base_uri": "https://localhost:8080/",
     "height": 170
    },
    "colab_type": "code",
    "id": "emjil22oxuiT",
    "outputId": "7e60e700-9d90-45b9-e2b6-c59e9ba7c7c5"
   },
   "outputs": [
    {
     "name": "stdout",
     "output_type": "stream",
     "text": [
      "[[0.81735212 0.675865   0.38725118]\n",
      " [0.62905501 0.78678513 0.16011976]]\n",
      "\n",
      "[-0.47665861  0.07952054 -0.60297088 -0.34510386  0.98753692]\n",
      "\n",
      "[[-0.63702399]\n",
      " [-1.53344392]\n",
      " [ 0.24684941]]\n",
      "\n"
     ]
    }
   ],
   "source": [
    "# Randomly Initialized arrays:\n",
    "print(np.random.rand(2, 3), end='\\n\\n') # Array of given shape, with uniform sample over [0,1)\n",
    "print(np.random.uniform(-1, 1, 5), end='\\n\\n') # Array of size 5, with uniform sample over (-1, 1)\n",
    "print(np.random.randn(3, 1), end='\\n\\n') # Array of shape (3, 1) with standard normal sample"
   ]
  },
  {
   "cell_type": "markdown",
   "metadata": {
    "colab_type": "text",
    "id": "rrK4UK-67tV5"
   },
   "source": [
    "## Indexing, Slicing, Iterating\n",
    "\n",
    "\n"
   ]
  },
  {
   "cell_type": "markdown",
   "metadata": {
    "colab_type": "text",
    "id": "tdnsJqoU25yv"
   },
   "source": [
    "\n",
    "### One dimensional Arrays\n",
    "Indexing, Slicing, Iterating is much like the operations on lists"
   ]
  },
  {
   "cell_type": "code",
   "execution_count": 0,
   "metadata": {
    "colab": {
     "base_uri": "https://localhost:8080/",
     "height": 187
    },
    "colab_type": "code",
    "id": "9_IjK2t7Ek-h",
    "outputId": "b08cee89-2c72-4a0f-ab59-29809a873f20"
   },
   "outputs": [
    {
     "name": "stdout",
     "output_type": "stream",
     "text": [
      "[ 0  1  4  9 16 25 36 49 64 81]\n",
      "\n",
      "4\n",
      "\n",
      "[ 9 16 25 36 49]\n",
      "\n",
      "[-10   1 -10   9 -10  25  36  49  64  81]\n",
      "\n",
      "[ 81  64  49  36  25 -10   9 -10   1 -10]\n",
      "\n"
     ]
    }
   ],
   "source": [
    "a = np.arange(10) ** 2 # Numpy array containinng first 10 squares\n",
    "\n",
    "print(a, end='\\n\\n')\n",
    "print(a[2], end='\\n\\n') # Index based Selection\n",
    "print(a[3:8], end='\\n\\n') # Range based Selection\n",
    "\n",
    "a[:6:2] = -10\n",
    "print(a, end='\\n\\n')\n",
    "\n",
    "print(a[::-1], end='\\n\\n') # Reversed List"
   ]
  },
  {
   "cell_type": "markdown",
   "metadata": {
    "colab_type": "text",
    "id": "ymgUZO6aGMuC"
   },
   "source": [
    "### Multidimensional Arrays\n",
    "\n",
    "These arrays have one index per axis, given in a tuple, separated by commas:"
   ]
  },
  {
   "cell_type": "code",
   "execution_count": 0,
   "metadata": {
    "colab": {
     "base_uri": "https://localhost:8080/",
     "height": 170
    },
    "colab_type": "code",
    "id": "BPWLBkYZGlQz",
    "outputId": "5a5f9f73-8526-4694-a602-6f2d16dbc58a"
   },
   "outputs": [
    {
     "name": "stdout",
     "output_type": "stream",
     "text": [
      "[[ 0  1  2  3  4  5  6  7]\n",
      " [ 8  9 10 11 12 13 14 15]\n",
      " [16 17 18 19 20 21 22 23]]\n",
      "\n",
      "18\n",
      "\n",
      "[16 17 18 19 20 21 22 23]\n",
      "\n",
      "[15 23]\n"
     ]
    }
   ],
   "source": [
    "arr = np.arange(24).reshape(3, 8)\n",
    "\n",
    "print(arr, end='\\n\\n')\n",
    "\n",
    "print(arr[2, 2], end='\\n\\n')\n",
    "\n",
    "print(arr[2], end='\\n\\n') # is the same as arr[2, :], and arr[2, 0:8]\n",
    "\n",
    "print(arr[1:3, -1]) # Last column of rows indexed 1, 2"
   ]
  },
  {
   "cell_type": "markdown",
   "metadata": {
    "colab_type": "text",
    "id": "m9v-psGj7zuO"
   },
   "source": [
    "## Shape Manipulation\n",
    "\n",
    "An array has a shape determine by the length of each axis.\n"
   ]
  },
  {
   "cell_type": "code",
   "execution_count": 0,
   "metadata": {
    "colab": {
     "base_uri": "https://localhost:8080/",
     "height": 85
    },
    "colab_type": "code",
    "id": "AyFUMe4GlXM_",
    "outputId": "e6b9f296-2f50-4b17-bfa2-888fe77e3209"
   },
   "outputs": [
    {
     "name": "stdout",
     "output_type": "stream",
     "text": [
      "[[-0.93596265  0.35834686  0.22090765 -1.81324082]\n",
      " [ 0.81597095  0.2005792   0.90400042  0.19316658]\n",
      " [ 0.31328302 -0.70835043 -1.17410895 -1.29044735]]\n",
      "Shape: (3, 4)\n"
     ]
    }
   ],
   "source": [
    "arr = np.random.randn(3, 4)\n",
    "print(arr)\n",
    "print(f\"Shape: {arr.shape}\")"
   ]
  },
  {
   "cell_type": "code",
   "execution_count": 0,
   "metadata": {
    "colab": {
     "base_uri": "https://localhost:8080/",
     "height": 51
    },
    "colab_type": "code",
    "id": "TRcCedwMqPiq",
    "outputId": "c8c3d78d-e0a0-4bb1-94bc-952707356dcb"
   },
   "outputs": [
    {
     "name": "stdout",
     "output_type": "stream",
     "text": [
      "[-0.93596265  0.35834686  0.22090765 -1.81324082  0.81597095  0.2005792\n",
      "  0.90400042  0.19316658  0.31328302 -0.70835043 -1.17410895 -1.29044735]\n"
     ]
    }
   ],
   "source": [
    "print(arr.ravel()) # ndarray.ravel() Flattens the array"
   ]
  },
  {
   "cell_type": "code",
   "execution_count": 0,
   "metadata": {
    "colab": {
     "base_uri": "https://localhost:8080/",
     "height": 85
    },
    "colab_type": "code",
    "id": "_L0f-6EjqRrB",
    "outputId": "83e73137-664d-4f68-cbcf-736eb66d6ecb"
   },
   "outputs": [
    {
     "name": "stdout",
     "output_type": "stream",
     "text": [
      "[[-0.93596265  0.81597095  0.31328302]\n",
      " [ 0.35834686  0.2005792  -0.70835043]\n",
      " [ 0.22090765  0.90400042 -1.17410895]\n",
      " [-1.81324082  0.19316658 -1.29044735]]\n"
     ]
    }
   ],
   "source": [
    "print(arr.T) # Transpose of the array"
   ]
  },
  {
   "cell_type": "code",
   "execution_count": 0,
   "metadata": {
    "colab": {
     "base_uri": "https://localhost:8080/",
     "height": 119
    },
    "colab_type": "code",
    "id": "NqFuhHVQqW36",
    "outputId": "2c33e1e2-2995-4362-af42-453b048f76e7"
   },
   "outputs": [
    {
     "name": "stdout",
     "output_type": "stream",
     "text": [
      "[[-0.93596265  0.35834686  0.22090765 -1.81324082  0.81597095  0.2005792 ]\n",
      " [ 0.90400042  0.19316658  0.31328302 -0.70835043 -1.17410895 -1.29044735]]\n",
      "\n",
      "[[-0.93596265  0.35834686  0.22090765 -1.81324082  0.81597095  0.2005792\n",
      "   0.90400042  0.19316658  0.31328302 -0.70835043 -1.17410895 -1.29044735]]\n",
      "(1, 12)\n"
     ]
    }
   ],
   "source": [
    "print(arr.reshape(2, 6), end=\"\\n\\n\") # Returns reshaped array with given shape\n",
    "\n",
    "# The argument of -1 is used to automatically calculate the dimension according \n",
    "# to the size of the array\n",
    "arr_mod = arr.reshape(1, -1)\n",
    "print(arr_mod)\n",
    "print(arr_mod.shape)"
   ]
  },
  {
   "cell_type": "markdown",
   "metadata": {
    "colab_type": "text",
    "id": "qQO0JOKR72B-"
   },
   "source": [
    "## Views and Copies\n",
    "When operating and manipulating arrays, their data is sometimes copied into a new array and sometimes not. There are three cases:\n",
    "\n"
   ]
  },
  {
   "cell_type": "markdown",
   "metadata": {
    "colab_type": "text",
    "id": "6VfT43xc3AvM"
   },
   "source": [
    "\n",
    "### 1. No Copy at all\n",
    "- Simple assignments does not create copies of the ndarray object"
   ]
  },
  {
   "cell_type": "code",
   "execution_count": 0,
   "metadata": {
    "colab": {
     "base_uri": "https://localhost:8080/",
     "height": 51
    },
    "colab_type": "code",
    "id": "TzSFutQFrs6f",
    "outputId": "a6adf60e-ae3b-465c-bdf3-5f0bc345e1b6"
   },
   "outputs": [
    {
     "name": "stdout",
     "output_type": "stream",
     "text": [
      "[0 1 2 3 4]\n",
      "True\n"
     ]
    }
   ],
   "source": [
    "a = np.arange(5)\n",
    "print(a)\n",
    "\n",
    "b = a \n",
    "print(b is a)"
   ]
  },
  {
   "cell_type": "markdown",
   "metadata": {
    "colab_type": "text",
    "id": "Hh6wYqb1tZh5"
   },
   "source": [
    "- Python passes mutable objects as references, so function calls make no copy.\n",
    "\n",
    "> Mutable objects are those which can be modified after creating, whereas immutable objects can't.\n",
    "> For example, a list is a mutable object whereas a tuple is immutable"
   ]
  },
  {
   "cell_type": "code",
   "execution_count": 0,
   "metadata": {
    "colab": {
     "base_uri": "https://localhost:8080/",
     "height": 51
    },
    "colab_type": "code",
    "id": "hUX7olmUsAHt",
    "outputId": "59e71aa0-d20e-412e-abe3-0a61986b4056"
   },
   "outputs": [
    {
     "name": "stdout",
     "output_type": "stream",
     "text": [
      "a: 140208935376976\n",
      "b: 140208935376976\n"
     ]
    }
   ],
   "source": [
    "def f(x):\n",
    "    return x\n",
    "\n",
    "b = f(a)\n",
    "print(f\"a: {id(a)}\")\n",
    "print(f\"b: {id(b)}\")\n"
   ]
  },
  {
   "cell_type": "markdown",
   "metadata": {
    "colab_type": "text",
    "id": "Bw6eMTeksi_z"
   },
   "source": [
    "### 2. Shallow Copy or View\n",
    "Different array objects can share the same data. -\n",
    "The view method creates a new array object that looks at the same data. This means that, modifying one, changes the other as well. "
   ]
  },
  {
   "cell_type": "code",
   "execution_count": 0,
   "metadata": {
    "colab": {
     "base_uri": "https://localhost:8080/",
     "height": 34
    },
    "colab_type": "code",
    "id": "er71FoLzsseI",
    "outputId": "f407c51a-2992-4395-834f-37f5ca8bbbf3"
   },
   "outputs": [
    {
     "name": "stdout",
     "output_type": "stream",
     "text": [
      "False\n"
     ]
    }
   ],
   "source": [
    "c = a.view()\n",
    "print(c is a)"
   ]
  },
  {
   "cell_type": "code",
   "execution_count": 0,
   "metadata": {
    "colab": {
     "base_uri": "https://localhost:8080/",
     "height": 34
    },
    "colab_type": "code",
    "id": "jPXN3GStsyWS",
    "outputId": "f38c1470-f08c-4080-9ac6-d4c81c6166ba"
   },
   "outputs": [
    {
     "name": "stdout",
     "output_type": "stream",
     "text": [
      "[ 0  1  2 16  4]\n"
     ]
    }
   ],
   "source": [
    "c[3] = 16\n",
    "print(a)"
   ]
  },
  {
   "cell_type": "markdown",
   "metadata": {
    "colab_type": "text",
    "id": "lb3NE56AteYX"
   },
   "source": [
    "- Slicing an array returns a view of *it*"
   ]
  },
  {
   "cell_type": "code",
   "execution_count": 0,
   "metadata": {
    "colab": {
     "base_uri": "https://localhost:8080/",
     "height": 34
    },
    "colab_type": "code",
    "id": "K9y-HITFtmoX",
    "outputId": "5b6e1f16-e226-49af-b6e2-646407509314"
   },
   "outputs": [
    {
     "name": "stdout",
     "output_type": "stream",
     "text": [
      "[ 0  1  9 16  4]\n"
     ]
    }
   ],
   "source": [
    "s = a[:3]\n",
    "s[2] = 9\n",
    "print(a)"
   ]
  },
  {
   "cell_type": "markdown",
   "metadata": {
    "colab_type": "text",
    "id": "G2vjOP0Bt1Cm"
   },
   "source": [
    "### 3. Deep Copy\n",
    "The copy method makes a complete copy of the array and its data. This means that modifying one has no effect on the other.\n",
    "\n",
    "Note: Call `copy` after slicing, if original array is not required anymore"
   ]
  },
  {
   "cell_type": "code",
   "execution_count": 0,
   "metadata": {
    "colab": {
     "base_uri": "https://localhost:8080/",
     "height": 34
    },
    "colab_type": "code",
    "id": "Epg7aLeYt9_F",
    "outputId": "9aba59d7-a389-4480-c820-e994572bafc3"
   },
   "outputs": [
    {
     "name": "stdout",
     "output_type": "stream",
     "text": [
      "False\n"
     ]
    }
   ],
   "source": [
    "d = a.copy()\n",
    "\n",
    "print(d is a)"
   ]
  },
  {
   "cell_type": "code",
   "execution_count": 0,
   "metadata": {
    "colab": {
     "base_uri": "https://localhost:8080/",
     "height": 51
    },
    "colab_type": "code",
    "id": "2WXwWy7JuFZg",
    "outputId": "d74c0ea9-13c9-4743-aeb8-a6cc2e386c0b"
   },
   "outputs": [
    {
     "name": "stdout",
     "output_type": "stream",
     "text": [
      "[ 0  1  9 16  4]\n",
      "[99  1  9 16  4]\n"
     ]
    }
   ],
   "source": [
    "d[0] = 99\n",
    "print(a)\n",
    "print(d)"
   ]
  },
  {
   "cell_type": "markdown",
   "metadata": {
    "colab_type": "text",
    "id": "n_QS_IkbDcAg"
   },
   "source": [
    "## Mathematics on Arrays\n",
    "\n",
    "Various Mathematical Functions have efficient implementations in NumPy"
   ]
  },
  {
   "cell_type": "markdown",
   "metadata": {
    "colab_type": "text",
    "id": "DZVR_zEYd8Vm"
   },
   "source": [
    "### 1. Basic Operations\n",
    "\n",
    "Operations such as addition among arrays using `+`, multiplication of two arrays `*`, division with a scalar using `/`, exponentiation with a scalar are performed element wise. "
   ]
  },
  {
   "cell_type": "code",
   "execution_count": 0,
   "metadata": {
    "colab": {
     "base_uri": "https://localhost:8080/",
     "height": 119
    },
    "colab_type": "code",
    "id": "HIbHbEpsd18c",
    "outputId": "6b384ef9-4c98-461d-b51a-eb059b14d260"
   },
   "outputs": [
    {
     "name": "stdout",
     "output_type": "stream",
     "text": [
      "[[0 1 2]\n",
      " [3 4 5]\n",
      " [6 7 8]]\n",
      "[[10 11 12]\n",
      " [13 14 15]\n",
      " [16 17 18]]\n"
     ]
    }
   ],
   "source": [
    "a = np.arange(9).reshape(3, -1)\n",
    "b = np.arange(10, 19).reshape(3, -1)\n",
    "\n",
    "print(a)\n",
    "print(b)"
   ]
  },
  {
   "cell_type": "code",
   "execution_count": 0,
   "metadata": {
    "colab": {
     "base_uri": "https://localhost:8080/",
     "height": 68
    },
    "colab_type": "code",
    "id": "YyM5uWPCeWpi",
    "outputId": "9fbbff68-8d54-4453-e403-d7336b888d5a"
   },
   "outputs": [
    {
     "data": {
      "text/plain": [
       "array([[  0,  11,  24],\n",
       "       [ 39,  56,  75],\n",
       "       [ 96, 119, 144]])"
      ]
     },
     "execution_count": 7,
     "metadata": {
      "tags": []
     },
     "output_type": "execute_result"
    }
   ],
   "source": [
    "a * b"
   ]
  },
  {
   "cell_type": "code",
   "execution_count": 0,
   "metadata": {
    "colab": {
     "base_uri": "https://localhost:8080/",
     "height": 68
    },
    "colab_type": "code",
    "id": "XgH2dgCAeY-e",
    "outputId": "7822d839-270f-4c52-ee91-2ad2e10b5ba5"
   },
   "outputs": [
    {
     "data": {
      "text/plain": [
       "array([[  0,   1,   8],\n",
       "       [ 27,  64, 125],\n",
       "       [216, 343, 512]])"
      ]
     },
     "execution_count": 8,
     "metadata": {
      "tags": []
     },
     "output_type": "execute_result"
    }
   ],
   "source": [
    "a ** 3"
   ]
  },
  {
   "cell_type": "markdown",
   "metadata": {
    "colab_type": "text",
    "id": "Aiq4b_0hvKVB"
   },
   "source": [
    "### 2. Sum of Arrays\n",
    "Used to find the sum of elements"
   ]
  },
  {
   "cell_type": "code",
   "execution_count": 0,
   "metadata": {
    "colab": {
     "base_uri": "https://localhost:8080/",
     "height": 85
    },
    "colab_type": "code",
    "id": "1RLJanW-fCj2",
    "outputId": "8c0d8190-9d76-4777-d221-b92955130b53"
   },
   "outputs": [
    {
     "name": "stdout",
     "output_type": "stream",
     "text": [
      "[[ 0  1  2  3  4  5]\n",
      " [ 6  7  8  9 10 11]\n",
      " [12 13 14 15 16 17]\n",
      " [18 19 20 21 22 23]]\n"
     ]
    }
   ],
   "source": [
    "arr = np.arange(24).reshape(4, -1)\n",
    "print(arr)"
   ]
  },
  {
   "cell_type": "code",
   "execution_count": 0,
   "metadata": {
    "colab": {
     "base_uri": "https://localhost:8080/",
     "height": 34
    },
    "colab_type": "code",
    "id": "clS91V6Zu8TL",
    "outputId": "f05cf9b3-2595-44bc-9b22-d4a7c09c77c3"
   },
   "outputs": [
    {
     "name": "stdout",
     "output_type": "stream",
     "text": [
      "276\n"
     ]
    }
   ],
   "source": [
    "# Sum of all elements in the array\n",
    "print(arr.sum())"
   ]
  },
  {
   "cell_type": "markdown",
   "metadata": {
    "colab_type": "text",
    "id": "TzQ9jbCBvuWm"
   },
   "source": [
    "Sum can be used to calculate sums of the axes"
   ]
  },
  {
   "cell_type": "code",
   "execution_count": 0,
   "metadata": {
    "colab": {
     "base_uri": "https://localhost:8080/",
     "height": 51
    },
    "colab_type": "code",
    "id": "XEW853I6viuK",
    "outputId": "a43dac74-4e8f-4321-cf2a-f936016cf14c"
   },
   "outputs": [
    {
     "name": "stdout",
     "output_type": "stream",
     "text": [
      "[36 40 44 48 52 56]\n",
      "[ 15  51  87 123]\n"
     ]
    }
   ],
   "source": [
    "print(arr.sum(axis=0)) # Sum of axis 0, ie row\n",
    "print(arr.sum(axis=1)) # Sum of axis 1, ie columns"
   ]
  },
  {
   "cell_type": "markdown",
   "metadata": {
    "colab_type": "text",
    "id": "I2-fAoj7wLRh"
   },
   "source": [
    "### 3. Universal Functions\n",
    "Functions like log, exp, sqrt, etc are defined in the library to calculate them for all the elements efficiently\n"
   ]
  },
  {
   "cell_type": "code",
   "execution_count": 0,
   "metadata": {
    "colab": {
     "base_uri": "https://localhost:8080/",
     "height": 153
    },
    "colab_type": "code",
    "id": "jMw2k3o5wZrv",
    "outputId": "40087851-8118-4ac8-fbf8-bad41b5c7a79"
   },
   "outputs": [
    {
     "name": "stdout",
     "output_type": "stream",
     "text": [
      "[[1.00000000e+00 2.71828183e+00 7.38905610e+00 2.00855369e+01\n",
      "  5.45981500e+01 1.48413159e+02]\n",
      " [4.03428793e+02 1.09663316e+03 2.98095799e+03 8.10308393e+03\n",
      "  2.20264658e+04 5.98741417e+04]\n",
      " [1.62754791e+05 4.42413392e+05 1.20260428e+06 3.26901737e+06\n",
      "  8.88611052e+06 2.41549528e+07]\n",
      " [6.56599691e+07 1.78482301e+08 4.85165195e+08 1.31881573e+09\n",
      "  3.58491285e+09 9.74480345e+09]]\n"
     ]
    }
   ],
   "source": [
    "print(np.exp(arr)) # Used to calculate exponential of the elements"
   ]
  },
  {
   "cell_type": "markdown",
   "metadata": {
    "colab_type": "text",
    "id": "MAQWGvElzfhC"
   },
   "source": [
    "### 4. The Dot Product\n",
    "The Dot product is also a universal function, but with a few caveats. \n",
    "\n",
    "Note: It is behaves like matrix multiplication for multidimensional arrays"
   ]
  },
  {
   "cell_type": "code",
   "execution_count": 0,
   "metadata": {
    "colab": {
     "base_uri": "https://localhost:8080/",
     "height": 102
    },
    "colab_type": "code",
    "id": "z0jDxn9V0DiB",
    "outputId": "b9055ebc-b4f2-4edc-8e71-02f9d39dd137"
   },
   "outputs": [
    {
     "name": "stdout",
     "output_type": "stream",
     "text": [
      "[[0 1 2]\n",
      " [3 4 5]]\n",
      "[[ 0  1  2  3]\n",
      " [ 4  5  6  7]\n",
      " [ 8  9 10 11]]\n"
     ]
    }
   ],
   "source": [
    "a = np.arange(6).reshape(2, 3)\n",
    "b = np.arange(12).reshape(3, 4)\n",
    "\n",
    "print(a)\n",
    "print(b)"
   ]
  },
  {
   "cell_type": "code",
   "execution_count": 0,
   "metadata": {
    "colab": {
     "base_uri": "https://localhost:8080/",
     "height": 51
    },
    "colab_type": "code",
    "id": "PXYl0K1J0Qh0",
    "outputId": "0f65158b-0476-476a-833a-00127148bd65"
   },
   "outputs": [
    {
     "name": "stdout",
     "output_type": "stream",
     "text": [
      "[[20 23 26 29]\n",
      " [56 68 80 92]]\n"
     ]
    }
   ],
   "source": [
    "print(np.dot(a, b))"
   ]
  },
  {
   "cell_type": "code",
   "execution_count": 0,
   "metadata": {
    "colab": {
     "base_uri": "https://localhost:8080/",
     "height": 51
    },
    "colab_type": "code",
    "id": "eojUHiHY0YKM",
    "outputId": "6c3e3a8d-074f-4eba-ee8d-3c8784175c07"
   },
   "outputs": [
    {
     "name": "stdout",
     "output_type": "stream",
     "text": [
      "[[20 23 26 29]\n",
      " [56 68 80 92]]\n"
     ]
    }
   ],
   "source": [
    "print(a.dot(b))"
   ]
  },
  {
   "cell_type": "code",
   "execution_count": 0,
   "metadata": {
    "colab": {
     "base_uri": "https://localhost:8080/",
     "height": 51
    },
    "colab_type": "code",
    "id": "zK-vrfwz0aAs",
    "outputId": "b1e2a84e-9be9-4c14-bbc0-f4a937536c7b"
   },
   "outputs": [
    {
     "name": "stdout",
     "output_type": "stream",
     "text": [
      "[[20 23 26 29]\n",
      " [56 68 80 92]]\n"
     ]
    }
   ],
   "source": [
    "print(a @ b)"
   ]
  },
  {
   "cell_type": "markdown",
   "metadata": {
    "colab_type": "text",
    "id": "6SxD_NrW0fkg"
   },
   "source": [
    "For x1 @ x2 to make sense for multidimensional arrays, we require that:\n",
    "\n",
    "**length of axis 1 of x1 == length of axis 0 of x2**\n",
    "\n",
    "Otherwise, the following error is thrown:"
   ]
  },
  {
   "cell_type": "code",
   "execution_count": 0,
   "metadata": {
    "colab": {
     "base_uri": "https://localhost:8080/",
     "height": 197
    },
    "colab_type": "code",
    "id": "gdbYiUDr0dF0",
    "outputId": "6a71ee76-8f4e-4b73-f541-010f4dbff25a"
   },
   "outputs": [
    {
     "ename": "ValueError",
     "evalue": "ignored",
     "output_type": "error",
     "traceback": [
      "\u001b[0;31m---------------------------------------------------------------------------\u001b[0m",
      "\u001b[0;31mValueError\u001b[0m                                Traceback (most recent call last)",
      "\u001b[0;32m<ipython-input-83-11663ab089df>\u001b[0m in \u001b[0;36m<module>\u001b[0;34m()\u001b[0m\n\u001b[0;32m----> 1\u001b[0;31m \u001b[0mprint\u001b[0m\u001b[0;34m(\u001b[0m\u001b[0mnp\u001b[0m\u001b[0;34m.\u001b[0m\u001b[0mdot\u001b[0m\u001b[0;34m(\u001b[0m\u001b[0mb\u001b[0m\u001b[0;34m,\u001b[0m \u001b[0ma\u001b[0m\u001b[0;34m)\u001b[0m\u001b[0;34m)\u001b[0m\u001b[0;34m\u001b[0m\u001b[0;34m\u001b[0m\u001b[0m\n\u001b[0m",
      "\u001b[0;32m<__array_function__ internals>\u001b[0m in \u001b[0;36mdot\u001b[0;34m(*args, **kwargs)\u001b[0m\n",
      "\u001b[0;31mValueError\u001b[0m: shapes (3,4) and (2,3) not aligned: 4 (dim 1) != 2 (dim 0)"
     ]
    }
   ],
   "source": [
    "print(np.dot(b, a))"
   ]
  },
  {
   "cell_type": "code",
   "execution_count": 0,
   "metadata": {
    "colab": {
     "base_uri": "https://localhost:8080/",
     "height": 163
    },
    "colab_type": "code",
    "id": "NKAXAZZw1H5x",
    "outputId": "52c1d257-acc0-46bd-c7d6-2dafd0fdc932"
   },
   "outputs": [
    {
     "ename": "ValueError",
     "evalue": "ignored",
     "output_type": "error",
     "traceback": [
      "\u001b[0;31m---------------------------------------------------------------------------\u001b[0m",
      "\u001b[0;31mValueError\u001b[0m                                Traceback (most recent call last)",
      "\u001b[0;32m<ipython-input-84-0d9e00b11c54>\u001b[0m in \u001b[0;36m<module>\u001b[0;34m()\u001b[0m\n\u001b[0;32m----> 1\u001b[0;31m \u001b[0mprint\u001b[0m\u001b[0;34m(\u001b[0m\u001b[0mb\u001b[0m \u001b[0;34m@\u001b[0m \u001b[0ma\u001b[0m\u001b[0;34m)\u001b[0m\u001b[0;34m\u001b[0m\u001b[0;34m\u001b[0m\u001b[0m\n\u001b[0m",
      "\u001b[0;31mValueError\u001b[0m: matmul: Input operand 1 has a mismatch in its core dimension 0, with gufunc signature (n?,k),(k,m?)->(n?,m?) (size 2 is different from 4)"
     ]
    }
   ],
   "source": [
    "print(b @ a)"
   ]
  }
 ],
 "metadata": {
  "colab": {
   "collapsed_sections": [],
   "name": "1. Numpy.ipynb",
   "provenance": []
  },
  "kernelspec": {
   "display_name": "Python 3",
   "language": "python",
   "name": "python3"
  },
  "language_info": {
   "codemirror_mode": {
    "name": "ipython",
    "version": 3
   },
   "file_extension": ".py",
   "mimetype": "text/x-python",
   "name": "python",
   "nbconvert_exporter": "python",
   "pygments_lexer": "ipython3",
   "version": "3.6.9"
  }
 },
 "nbformat": 4,
 "nbformat_minor": 1
}
